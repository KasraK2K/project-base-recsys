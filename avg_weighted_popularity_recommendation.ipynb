{
 "cells": [
  {
   "cell_type": "code",
   "execution_count": null,
   "id": "5d1348f2",
   "metadata": {},
   "outputs": [],
   "source": [
    "import pandas as pd\n",
    "import matplotlib.pyplot as plt\n",
    "from sklearn.preprocessing import MinMaxScaler\n",
    "import plotly.express as px"
   ]
  },
  {
   "cell_type": "code",
   "execution_count": 96,
   "id": "2e78822e",
   "metadata": {},
   "outputs": [],
   "source": [
    "df = pd.read_csv(r\"datasets/clean_data.csv\")"
   ]
  },
  {
   "cell_type": "code",
   "execution_count": 97,
   "id": "e39c07cf",
   "metadata": {},
   "outputs": [],
   "source": [
    "v = df[\"vote_count\"]\n",
    "C = df[\"vote_average\"].mean()\n",
    "R = df[\"vote_average\"]"
   ]
  },
  {
   "cell_type": "code",
   "execution_count": 98,
   "id": "14fc4402",
   "metadata": {},
   "outputs": [],
   "source": [
    "# m = 1900\n",
    "m = int(df[\"vote_count\"].quantile(0.9))"
   ]
  },
  {
   "cell_type": "code",
   "execution_count": 99,
   "id": "4356c525",
   "metadata": {},
   "outputs": [],
   "source": [
    "def weighted_avg_rating(x, m=m, C=C):\n",
    "    v = x[\"vote_count\"]\n",
    "    R = x[\"vote_average\"]\n",
    "\n",
    "    return ((R * v) + (C * m)) / (v + m)"
   ]
  },
  {
   "cell_type": "code",
   "execution_count": 100,
   "id": "5226dda3",
   "metadata": {},
   "outputs": [],
   "source": [
    "data = df[df[\"vote_count\"] >= m].copy()"
   ]
  },
  {
   "cell_type": "code",
   "execution_count": 101,
   "id": "8d8cb661",
   "metadata": {},
   "outputs": [],
   "source": [
    "data[\"weighted_avg\"] = data.apply(weighted_avg_rating, axis=1)"
   ]
  },
  {
   "cell_type": "code",
   "execution_count": 102,
   "id": "3f6a2b72",
   "metadata": {},
   "outputs": [],
   "source": [
    "df_sorted_ranking = data.sort_values(by=\"weighted_avg\", ascending=False)"
   ]
  },
  {
   "cell_type": "code",
   "execution_count": 103,
   "id": "f8f2f1d8",
   "metadata": {},
   "outputs": [],
   "source": [
    "popularity = data.sort_values(by=\"popularity\", ascending=False)"
   ]
  },
  {
   "cell_type": "code",
   "execution_count": 104,
   "id": "8bcff1aa",
   "metadata": {},
   "outputs": [],
   "source": [
    "scaling = MinMaxScaler()"
   ]
  },
  {
   "cell_type": "code",
   "execution_count": 105,
   "id": "aaabc285",
   "metadata": {},
   "outputs": [
    {
     "data": {
      "text/plain": [
       "Index(['budget', 'genres', 'id', 'keywords', 'original_language',\n",
       "       'original_title', 'overview', 'popularity', 'production_companies',\n",
       "       'release_date', 'revenue', 'runtime', 'spoken_languages', 'tagline',\n",
       "       'vote_average', 'vote_count', 'cast', 'crew', 'weighted_avg'],\n",
       "      dtype='object')"
      ]
     },
     "execution_count": 105,
     "metadata": {},
     "output_type": "execute_result"
    }
   ],
   "source": [
    "popularity.columns"
   ]
  },
  {
   "cell_type": "code",
   "execution_count": 106,
   "id": "befb4790",
   "metadata": {},
   "outputs": [
    {
     "data": {
      "application/vnd.microsoft.datawrangler.viewer.v0+json": {
       "columns": [
        {
         "name": "index",
         "rawType": "int64",
         "type": "integer"
        },
        {
         "name": "weighted_avg",
         "rawType": "float64",
         "type": "float"
        },
        {
         "name": "popularity",
         "rawType": "float64",
         "type": "float"
        }
       ],
       "ref": "d3413d2e-ea53-4cbc-98d4-e6b286c2d069",
       "rows": [
        [
         "546",
         "6.311719663949825",
         "875.581305"
        ],
        [
         "95",
         "7.809532571920852",
         "724.247784"
        ],
        [
         "788",
         "7.21268692638155",
         "514.569956"
        ],
        [
         "94",
         "7.613057972906255",
         "481.098624"
        ],
        [
         "127",
         "7.019246455948019",
         "434.278564"
        ],
        [
         "28",
         "6.428610602500422",
         "418.708552"
        ],
        [
         "199",
         "7.206722353650054",
         "271.972889"
        ],
        [
         "82",
         "6.944688112396675",
         "243.791743"
        ],
        [
         "200",
         "6.4742402757012165",
         "206.227151"
        ],
        [
         "88",
         "7.406297670419469",
         "203.73459"
        ],
        [
         "108",
         "5.8981918680296985",
         "202.042635"
        ],
        [
         "26",
         "6.895969966544159",
         "198.372395"
        ],
        [
         "3865",
         "7.63388235821642",
         "192.528841"
        ],
        [
         "65",
         "7.920073072706244",
         "187.322927"
        ],
        [
         "270",
         "7.295652462799739",
         "167.93287"
        ],
        [
         "96",
         "7.863284883018244",
         "167.58371"
        ],
        [
         "124",
         "6.988772091161422",
         "165.125366"
        ],
        [
         "9",
         "5.781521299056145",
         "155.790452"
        ],
        [
         "0",
         "7.05069741356903",
         "150.437577"
        ],
        [
         "662",
         "7.939321955937644",
         "146.757391"
        ],
        [
         "12",
         "6.764456708957429",
         "145.847379"
        ],
        [
         "2522",
         "7.536226864998602",
         "145.364591"
        ],
        [
         "16",
         "7.223432593378466",
         "144.448633"
        ],
        [
         "3337",
         "7.851327296113625",
         "143.659698"
        ],
        [
         "238",
         "5.920029353208409",
         "143.350376"
        ],
        [
         "693",
         "7.468469003409666",
         "143.041543"
        ],
        [
         "362",
         "5.8079088315914555",
         "140.849495"
        ],
        [
         "456",
         "6.984407214082716",
         "139.575085"
        ],
        [
         "64",
         "6.313738576956004",
         "139.272042"
        ],
        [
         "1",
         "6.665732301397038",
         "139.082615"
        ],
        [
         "335",
         "6.730220101253748",
         "138.433168"
        ],
        [
         "809",
         "7.803257688300504",
         "138.133331"
        ],
        [
         "262",
         "7.667401245020812",
         "138.049577"
        ],
        [
         "506",
         "6.742302907529641",
         "136.886704"
        ],
        [
         "1881",
         "8.059335987877569",
         "136.747729"
        ],
        [
         "17",
         "6.316624127063723",
         "135.413856"
        ],
        [
         "7",
         "7.042011775276516",
         "134.279229"
        ],
        [
         "276",
         "7.085902433850049",
         "132.397737"
        ],
        [
         "1465",
         "6.7685408969696805",
         "131.815575"
        ],
        [
         "87",
         "6.15768815675799",
         "130.311355"
        ],
        [
         "77",
         "7.582449550637584",
         "128.655964"
        ],
        [
         "3719",
         "7.38558152748674",
         "127.525581"
        ],
        [
         "102",
         "6.439679032335008",
         "127.284427"
        ],
        [
         "1337",
         "5.8994649613362515",
         "127.084938"
        ],
        [
         "2912",
         "7.663886944723992",
         "126.393695"
        ],
        [
         "55",
         "6.527567730553237",
         "125.114374"
        ],
        [
         "329",
         "7.727308758458334",
         "123.630332"
        ],
        [
         "3232",
         "7.904715695134857",
         "121.463076"
        ],
        [
         "19",
         "6.819249973666934",
         "120.965743"
        ],
        [
         "68",
         "7.173526599420994",
         "120.725053"
        ]
       ],
       "shape": {
        "columns": 2,
        "rows": 481
       }
      },
      "text/html": [
       "<div>\n",
       "<style scoped>\n",
       "    .dataframe tbody tr th:only-of-type {\n",
       "        vertical-align: middle;\n",
       "    }\n",
       "\n",
       "    .dataframe tbody tr th {\n",
       "        vertical-align: top;\n",
       "    }\n",
       "\n",
       "    .dataframe thead th {\n",
       "        text-align: right;\n",
       "    }\n",
       "</style>\n",
       "<table border=\"1\" class=\"dataframe\">\n",
       "  <thead>\n",
       "    <tr style=\"text-align: right;\">\n",
       "      <th></th>\n",
       "      <th>weighted_avg</th>\n",
       "      <th>popularity</th>\n",
       "    </tr>\n",
       "  </thead>\n",
       "  <tbody>\n",
       "    <tr>\n",
       "      <th>546</th>\n",
       "      <td>6.311720</td>\n",
       "      <td>875.581305</td>\n",
       "    </tr>\n",
       "    <tr>\n",
       "      <th>95</th>\n",
       "      <td>7.809533</td>\n",
       "      <td>724.247784</td>\n",
       "    </tr>\n",
       "    <tr>\n",
       "      <th>788</th>\n",
       "      <td>7.212687</td>\n",
       "      <td>514.569956</td>\n",
       "    </tr>\n",
       "    <tr>\n",
       "      <th>94</th>\n",
       "      <td>7.613058</td>\n",
       "      <td>481.098624</td>\n",
       "    </tr>\n",
       "    <tr>\n",
       "      <th>127</th>\n",
       "      <td>7.019246</td>\n",
       "      <td>434.278564</td>\n",
       "    </tr>\n",
       "    <tr>\n",
       "      <th>...</th>\n",
       "      <td>...</td>\n",
       "      <td>...</td>\n",
       "    </tr>\n",
       "    <tr>\n",
       "      <th>101</th>\n",
       "      <td>6.836089</td>\n",
       "      <td>3.195174</td>\n",
       "    </tr>\n",
       "    <tr>\n",
       "      <th>203</th>\n",
       "      <td>6.556552</td>\n",
       "      <td>2.871739</td>\n",
       "    </tr>\n",
       "    <tr>\n",
       "      <th>508</th>\n",
       "      <td>6.154176</td>\n",
       "      <td>2.502487</td>\n",
       "    </tr>\n",
       "    <tr>\n",
       "      <th>2511</th>\n",
       "      <td>6.664349</td>\n",
       "      <td>2.186927</td>\n",
       "    </tr>\n",
       "    <tr>\n",
       "      <th>334</th>\n",
       "      <td>5.884115</td>\n",
       "      <td>1.859364</td>\n",
       "    </tr>\n",
       "  </tbody>\n",
       "</table>\n",
       "<p>481 rows × 2 columns</p>\n",
       "</div>"
      ],
      "text/plain": [
       "      weighted_avg  popularity\n",
       "546       6.311720  875.581305\n",
       "95        7.809533  724.247784\n",
       "788       7.212687  514.569956\n",
       "94        7.613058  481.098624\n",
       "127       7.019246  434.278564\n",
       "...            ...         ...\n",
       "101       6.836089    3.195174\n",
       "203       6.556552    2.871739\n",
       "508       6.154176    2.502487\n",
       "2511      6.664349    2.186927\n",
       "334       5.884115    1.859364\n",
       "\n",
       "[481 rows x 2 columns]"
      ]
     },
     "execution_count": 106,
     "metadata": {},
     "output_type": "execute_result"
    }
   ],
   "source": [
    "popularity[[\"weighted_avg\", \"popularity\"]]"
   ]
  },
  {
   "cell_type": "code",
   "execution_count": 107,
   "id": "0fd0e721",
   "metadata": {},
   "outputs": [],
   "source": [
    "df_scaled = scaling.fit_transform(popularity[[\"weighted_avg\", \"popularity\"]])"
   ]
  },
  {
   "cell_type": "code",
   "execution_count": 108,
   "id": "18295627",
   "metadata": {},
   "outputs": [],
   "source": [
    "popularity[[\"weighted_avg_scaled\", \"popularity_scaled\"]] = df_scaled"
   ]
  },
  {
   "cell_type": "code",
   "execution_count": 109,
   "id": "4490c8af",
   "metadata": {},
   "outputs": [],
   "source": [
    "popularity[\"score_mix\"] = (\n",
    "    popularity[\"weighted_avg_scaled\"] * 0.5 + popularity[\"popularity_scaled\"] * 0.50\n",
    ")"
   ]
  },
  {
   "cell_type": "code",
   "execution_count": 110,
   "id": "45c2487b",
   "metadata": {},
   "outputs": [],
   "source": [
    "popularity_sorted = popularity.sort_values(by=\"score_mix\", ascending=False)"
   ]
  },
  {
   "cell_type": "code",
   "execution_count": 126,
   "id": "a4eaf5dc",
   "metadata": {},
   "outputs": [
    {
     "data": {
      "application/vnd.plotly.v1+json": {
       "config": {
        "plotlyServerURL": "https://plot.ly"
       },
       "data": [
        {
         "hovertemplate": "Movie Title=%{x}<br>Weighted Popularity Score=%{y}<extra></extra>",
         "legendgroup": "Interstellar",
         "marker": {
          "color": "#636efa",
          "pattern": {
           "shape": ""
          }
         },
         "name": "Interstellar",
         "orientation": "v",
         "showlegend": true,
         "textposition": "auto",
         "type": "bar",
         "x": [
          "Interstellar"
         ],
         "xaxis": "x",
         "y": {
          "bdata": "AnQbXiza6z8=",
          "dtype": "f8"
         },
         "yaxis": "y"
        },
        {
         "hovertemplate": "Movie Title=%{x}<br>Weighted Popularity Score=%{y}<extra></extra>",
         "legendgroup": "Minions",
         "marker": {
          "color": "#EF553B",
          "pattern": {
           "shape": ""
          }
         },
         "name": "Minions",
         "orientation": "v",
         "showlegend": true,
         "textposition": "auto",
         "type": "bar",
         "x": [
          "Minions"
         ],
         "xaxis": "x",
         "y": {
          "bdata": "Uoz7+che5j8=",
          "dtype": "f8"
         },
         "yaxis": "y"
        },
        {
         "hovertemplate": "Movie Title=%{x}<br>Weighted Popularity Score=%{y}<extra></extra>",
         "legendgroup": "Guardians of the Galaxy",
         "marker": {
          "color": "#00cc96",
          "pattern": {
           "shape": ""
          }
         },
         "name": "Guardians of the Galaxy",
         "orientation": "v",
         "showlegend": true,
         "textposition": "auto",
         "type": "bar",
         "x": [
          "Guardians of the Galaxy"
         ],
         "xaxis": "x",
         "y": {
          "bdata": "LuEVayRR5j8=",
          "dtype": "f8"
         },
         "yaxis": "y"
        },
        {
         "hovertemplate": "Movie Title=%{x}<br>Weighted Popularity Score=%{y}<extra></extra>",
         "legendgroup": "Deadpool",
         "marker": {
          "color": "#ab63fa",
          "pattern": {
           "shape": ""
          }
         },
         "name": "Deadpool",
         "orientation": "v",
         "showlegend": true,
         "textposition": "auto",
         "type": "bar",
         "x": [
          "Deadpool"
         ],
         "xaxis": "x",
         "y": {
          "bdata": "FTQkL0m55D8=",
          "dtype": "f8"
         },
         "yaxis": "y"
        },
        {
         "hovertemplate": "Movie Title=%{x}<br>Weighted Popularity Score=%{y}<extra></extra>",
         "legendgroup": "The Dark Knight",
         "marker": {
          "color": "#FFA15A",
          "pattern": {
           "shape": ""
          }
         },
         "name": "The Dark Knight",
         "orientation": "v",
         "showlegend": true,
         "textposition": "auto",
         "type": "bar",
         "x": [
          "The Dark Knight"
         ],
         "xaxis": "x",
         "y": {
          "bdata": "yDvCQwGh4j8=",
          "dtype": "f8"
         },
         "yaxis": "y"
        },
        {
         "hovertemplate": "Movie Title=%{x}<br>Weighted Popularity Score=%{y}<extra></extra>",
         "legendgroup": "The Shawshank Redemption",
         "marker": {
          "color": "#19d3f3",
          "pattern": {
           "shape": ""
          }
         },
         "name": "The Shawshank Redemption",
         "orientation": "v",
         "showlegend": true,
         "textposition": "auto",
         "type": "bar",
         "x": [
          "The Shawshank Redemption"
         ],
         "xaxis": "x",
         "y": {
          "bdata": "VQop+Fp44j8=",
          "dtype": "f8"
         },
         "yaxis": "y"
        },
        {
         "hovertemplate": "Movie Title=%{x}<br>Weighted Popularity Score=%{y}<extra></extra>",
         "legendgroup": "Mad Max: Fury Road",
         "marker": {
          "color": "#FF6692",
          "pattern": {
           "shape": ""
          }
         },
         "name": "Mad Max: Fury Road",
         "orientation": "v",
         "showlegend": true,
         "textposition": "auto",
         "type": "bar",
         "x": [
          "Mad Max: Fury Road"
         ],
         "xaxis": "x",
         "y": {
          "bdata": "0AUDrQIw4j8=",
          "dtype": "f8"
         },
         "yaxis": "y"
        },
        {
         "hovertemplate": "Movie Title=%{x}<br>Weighted Popularity Score=%{y}<extra></extra>",
         "legendgroup": "Fight Club",
         "marker": {
          "color": "#B6E880",
          "pattern": {
           "shape": ""
          }
         },
         "name": "Fight Club",
         "orientation": "v",
         "showlegend": true,
         "textposition": "auto",
         "type": "bar",
         "x": [
          "Fight Club"
         ],
         "xaxis": "x",
         "y": {
          "bdata": "Jg3po/z94T8=",
          "dtype": "f8"
         },
         "yaxis": "y"
        },
        {
         "hovertemplate": "Movie Title=%{x}<br>Weighted Popularity Score=%{y}<extra></extra>",
         "legendgroup": "Inception",
         "marker": {
          "color": "#FF97FF",
          "pattern": {
           "shape": ""
          }
         },
         "name": "Inception",
         "orientation": "v",
         "showlegend": true,
         "textposition": "auto",
         "type": "bar",
         "x": [
          "Inception"
         ],
         "xaxis": "x",
         "y": {
          "bdata": "nHHvglz04T8=",
          "dtype": "f8"
         },
         "yaxis": "y"
        },
        {
         "hovertemplate": "Movie Title=%{x}<br>Weighted Popularity Score=%{y}<extra></extra>",
         "legendgroup": "The Godfather",
         "marker": {
          "color": "#FECB52",
          "pattern": {
           "shape": ""
          }
         },
         "name": "The Godfather",
         "orientation": "v",
         "showlegend": true,
         "textposition": "auto",
         "type": "bar",
         "x": [
          "The Godfather"
         ],
         "xaxis": "x",
         "y": {
          "bdata": "VpFTmVZz4T8=",
          "dtype": "f8"
         },
         "yaxis": "y"
        }
       ],
       "layout": {
        "barmode": "relative",
        "height": 500,
        "legend": {
         "title": {
          "text": "Movie Title"
         },
         "tracegroupgap": 0
        },
        "template": {
         "data": {
          "bar": [
           {
            "error_x": {
             "color": "#2a3f5f"
            },
            "error_y": {
             "color": "#2a3f5f"
            },
            "marker": {
             "line": {
              "color": "#E5ECF6",
              "width": 0.5
             },
             "pattern": {
              "fillmode": "overlay",
              "size": 10,
              "solidity": 0.2
             }
            },
            "type": "bar"
           }
          ],
          "barpolar": [
           {
            "marker": {
             "line": {
              "color": "#E5ECF6",
              "width": 0.5
             },
             "pattern": {
              "fillmode": "overlay",
              "size": 10,
              "solidity": 0.2
             }
            },
            "type": "barpolar"
           }
          ],
          "carpet": [
           {
            "aaxis": {
             "endlinecolor": "#2a3f5f",
             "gridcolor": "white",
             "linecolor": "white",
             "minorgridcolor": "white",
             "startlinecolor": "#2a3f5f"
            },
            "baxis": {
             "endlinecolor": "#2a3f5f",
             "gridcolor": "white",
             "linecolor": "white",
             "minorgridcolor": "white",
             "startlinecolor": "#2a3f5f"
            },
            "type": "carpet"
           }
          ],
          "choropleth": [
           {
            "colorbar": {
             "outlinewidth": 0,
             "ticks": ""
            },
            "type": "choropleth"
           }
          ],
          "contour": [
           {
            "colorbar": {
             "outlinewidth": 0,
             "ticks": ""
            },
            "colorscale": [
             [
              0,
              "#0d0887"
             ],
             [
              0.1111111111111111,
              "#46039f"
             ],
             [
              0.2222222222222222,
              "#7201a8"
             ],
             [
              0.3333333333333333,
              "#9c179e"
             ],
             [
              0.4444444444444444,
              "#bd3786"
             ],
             [
              0.5555555555555556,
              "#d8576b"
             ],
             [
              0.6666666666666666,
              "#ed7953"
             ],
             [
              0.7777777777777778,
              "#fb9f3a"
             ],
             [
              0.8888888888888888,
              "#fdca26"
             ],
             [
              1,
              "#f0f921"
             ]
            ],
            "type": "contour"
           }
          ],
          "contourcarpet": [
           {
            "colorbar": {
             "outlinewidth": 0,
             "ticks": ""
            },
            "type": "contourcarpet"
           }
          ],
          "heatmap": [
           {
            "colorbar": {
             "outlinewidth": 0,
             "ticks": ""
            },
            "colorscale": [
             [
              0,
              "#0d0887"
             ],
             [
              0.1111111111111111,
              "#46039f"
             ],
             [
              0.2222222222222222,
              "#7201a8"
             ],
             [
              0.3333333333333333,
              "#9c179e"
             ],
             [
              0.4444444444444444,
              "#bd3786"
             ],
             [
              0.5555555555555556,
              "#d8576b"
             ],
             [
              0.6666666666666666,
              "#ed7953"
             ],
             [
              0.7777777777777778,
              "#fb9f3a"
             ],
             [
              0.8888888888888888,
              "#fdca26"
             ],
             [
              1,
              "#f0f921"
             ]
            ],
            "type": "heatmap"
           }
          ],
          "histogram": [
           {
            "marker": {
             "pattern": {
              "fillmode": "overlay",
              "size": 10,
              "solidity": 0.2
             }
            },
            "type": "histogram"
           }
          ],
          "histogram2d": [
           {
            "colorbar": {
             "outlinewidth": 0,
             "ticks": ""
            },
            "colorscale": [
             [
              0,
              "#0d0887"
             ],
             [
              0.1111111111111111,
              "#46039f"
             ],
             [
              0.2222222222222222,
              "#7201a8"
             ],
             [
              0.3333333333333333,
              "#9c179e"
             ],
             [
              0.4444444444444444,
              "#bd3786"
             ],
             [
              0.5555555555555556,
              "#d8576b"
             ],
             [
              0.6666666666666666,
              "#ed7953"
             ],
             [
              0.7777777777777778,
              "#fb9f3a"
             ],
             [
              0.8888888888888888,
              "#fdca26"
             ],
             [
              1,
              "#f0f921"
             ]
            ],
            "type": "histogram2d"
           }
          ],
          "histogram2dcontour": [
           {
            "colorbar": {
             "outlinewidth": 0,
             "ticks": ""
            },
            "colorscale": [
             [
              0,
              "#0d0887"
             ],
             [
              0.1111111111111111,
              "#46039f"
             ],
             [
              0.2222222222222222,
              "#7201a8"
             ],
             [
              0.3333333333333333,
              "#9c179e"
             ],
             [
              0.4444444444444444,
              "#bd3786"
             ],
             [
              0.5555555555555556,
              "#d8576b"
             ],
             [
              0.6666666666666666,
              "#ed7953"
             ],
             [
              0.7777777777777778,
              "#fb9f3a"
             ],
             [
              0.8888888888888888,
              "#fdca26"
             ],
             [
              1,
              "#f0f921"
             ]
            ],
            "type": "histogram2dcontour"
           }
          ],
          "mesh3d": [
           {
            "colorbar": {
             "outlinewidth": 0,
             "ticks": ""
            },
            "type": "mesh3d"
           }
          ],
          "parcoords": [
           {
            "line": {
             "colorbar": {
              "outlinewidth": 0,
              "ticks": ""
             }
            },
            "type": "parcoords"
           }
          ],
          "pie": [
           {
            "automargin": true,
            "type": "pie"
           }
          ],
          "scatter": [
           {
            "fillpattern": {
             "fillmode": "overlay",
             "size": 10,
             "solidity": 0.2
            },
            "type": "scatter"
           }
          ],
          "scatter3d": [
           {
            "line": {
             "colorbar": {
              "outlinewidth": 0,
              "ticks": ""
             }
            },
            "marker": {
             "colorbar": {
              "outlinewidth": 0,
              "ticks": ""
             }
            },
            "type": "scatter3d"
           }
          ],
          "scattercarpet": [
           {
            "marker": {
             "colorbar": {
              "outlinewidth": 0,
              "ticks": ""
             }
            },
            "type": "scattercarpet"
           }
          ],
          "scattergeo": [
           {
            "marker": {
             "colorbar": {
              "outlinewidth": 0,
              "ticks": ""
             }
            },
            "type": "scattergeo"
           }
          ],
          "scattergl": [
           {
            "marker": {
             "colorbar": {
              "outlinewidth": 0,
              "ticks": ""
             }
            },
            "type": "scattergl"
           }
          ],
          "scattermap": [
           {
            "marker": {
             "colorbar": {
              "outlinewidth": 0,
              "ticks": ""
             }
            },
            "type": "scattermap"
           }
          ],
          "scattermapbox": [
           {
            "marker": {
             "colorbar": {
              "outlinewidth": 0,
              "ticks": ""
             }
            },
            "type": "scattermapbox"
           }
          ],
          "scatterpolar": [
           {
            "marker": {
             "colorbar": {
              "outlinewidth": 0,
              "ticks": ""
             }
            },
            "type": "scatterpolar"
           }
          ],
          "scatterpolargl": [
           {
            "marker": {
             "colorbar": {
              "outlinewidth": 0,
              "ticks": ""
             }
            },
            "type": "scatterpolargl"
           }
          ],
          "scatterternary": [
           {
            "marker": {
             "colorbar": {
              "outlinewidth": 0,
              "ticks": ""
             }
            },
            "type": "scatterternary"
           }
          ],
          "surface": [
           {
            "colorbar": {
             "outlinewidth": 0,
             "ticks": ""
            },
            "colorscale": [
             [
              0,
              "#0d0887"
             ],
             [
              0.1111111111111111,
              "#46039f"
             ],
             [
              0.2222222222222222,
              "#7201a8"
             ],
             [
              0.3333333333333333,
              "#9c179e"
             ],
             [
              0.4444444444444444,
              "#bd3786"
             ],
             [
              0.5555555555555556,
              "#d8576b"
             ],
             [
              0.6666666666666666,
              "#ed7953"
             ],
             [
              0.7777777777777778,
              "#fb9f3a"
             ],
             [
              0.8888888888888888,
              "#fdca26"
             ],
             [
              1,
              "#f0f921"
             ]
            ],
            "type": "surface"
           }
          ],
          "table": [
           {
            "cells": {
             "fill": {
              "color": "#EBF0F8"
             },
             "line": {
              "color": "white"
             }
            },
            "header": {
             "fill": {
              "color": "#C8D4E3"
             },
             "line": {
              "color": "white"
             }
            },
            "type": "table"
           }
          ]
         },
         "layout": {
          "annotationdefaults": {
           "arrowcolor": "#2a3f5f",
           "arrowhead": 0,
           "arrowwidth": 1
          },
          "autotypenumbers": "strict",
          "coloraxis": {
           "colorbar": {
            "outlinewidth": 0,
            "ticks": ""
           }
          },
          "colorscale": {
           "diverging": [
            [
             0,
             "#8e0152"
            ],
            [
             0.1,
             "#c51b7d"
            ],
            [
             0.2,
             "#de77ae"
            ],
            [
             0.3,
             "#f1b6da"
            ],
            [
             0.4,
             "#fde0ef"
            ],
            [
             0.5,
             "#f7f7f7"
            ],
            [
             0.6,
             "#e6f5d0"
            ],
            [
             0.7,
             "#b8e186"
            ],
            [
             0.8,
             "#7fbc41"
            ],
            [
             0.9,
             "#4d9221"
            ],
            [
             1,
             "#276419"
            ]
           ],
           "sequential": [
            [
             0,
             "#0d0887"
            ],
            [
             0.1111111111111111,
             "#46039f"
            ],
            [
             0.2222222222222222,
             "#7201a8"
            ],
            [
             0.3333333333333333,
             "#9c179e"
            ],
            [
             0.4444444444444444,
             "#bd3786"
            ],
            [
             0.5555555555555556,
             "#d8576b"
            ],
            [
             0.6666666666666666,
             "#ed7953"
            ],
            [
             0.7777777777777778,
             "#fb9f3a"
            ],
            [
             0.8888888888888888,
             "#fdca26"
            ],
            [
             1,
             "#f0f921"
            ]
           ],
           "sequentialminus": [
            [
             0,
             "#0d0887"
            ],
            [
             0.1111111111111111,
             "#46039f"
            ],
            [
             0.2222222222222222,
             "#7201a8"
            ],
            [
             0.3333333333333333,
             "#9c179e"
            ],
            [
             0.4444444444444444,
             "#bd3786"
            ],
            [
             0.5555555555555556,
             "#d8576b"
            ],
            [
             0.6666666666666666,
             "#ed7953"
            ],
            [
             0.7777777777777778,
             "#fb9f3a"
            ],
            [
             0.8888888888888888,
             "#fdca26"
            ],
            [
             1,
             "#f0f921"
            ]
           ]
          },
          "colorway": [
           "#636efa",
           "#EF553B",
           "#00cc96",
           "#ab63fa",
           "#FFA15A",
           "#19d3f3",
           "#FF6692",
           "#B6E880",
           "#FF97FF",
           "#FECB52"
          ],
          "font": {
           "color": "#2a3f5f"
          },
          "geo": {
           "bgcolor": "white",
           "lakecolor": "white",
           "landcolor": "#E5ECF6",
           "showlakes": true,
           "showland": true,
           "subunitcolor": "white"
          },
          "hoverlabel": {
           "align": "left"
          },
          "hovermode": "closest",
          "mapbox": {
           "style": "light"
          },
          "paper_bgcolor": "white",
          "plot_bgcolor": "#E5ECF6",
          "polar": {
           "angularaxis": {
            "gridcolor": "white",
            "linecolor": "white",
            "ticks": ""
           },
           "bgcolor": "#E5ECF6",
           "radialaxis": {
            "gridcolor": "white",
            "linecolor": "white",
            "ticks": ""
           }
          },
          "scene": {
           "xaxis": {
            "backgroundcolor": "#E5ECF6",
            "gridcolor": "white",
            "gridwidth": 2,
            "linecolor": "white",
            "showbackground": true,
            "ticks": "",
            "zerolinecolor": "white"
           },
           "yaxis": {
            "backgroundcolor": "#E5ECF6",
            "gridcolor": "white",
            "gridwidth": 2,
            "linecolor": "white",
            "showbackground": true,
            "ticks": "",
            "zerolinecolor": "white"
           },
           "zaxis": {
            "backgroundcolor": "#E5ECF6",
            "gridcolor": "white",
            "gridwidth": 2,
            "linecolor": "white",
            "showbackground": true,
            "ticks": "",
            "zerolinecolor": "white"
           }
          },
          "shapedefaults": {
           "line": {
            "color": "#2a3f5f"
           }
          },
          "ternary": {
           "aaxis": {
            "gridcolor": "white",
            "linecolor": "white",
            "ticks": ""
           },
           "baxis": {
            "gridcolor": "white",
            "linecolor": "white",
            "ticks": ""
           },
           "bgcolor": "#E5ECF6",
           "caxis": {
            "gridcolor": "white",
            "linecolor": "white",
            "ticks": ""
           }
          },
          "title": {
           "x": 0.05
          },
          "xaxis": {
           "automargin": true,
           "gridcolor": "white",
           "linecolor": "white",
           "ticks": "",
           "title": {
            "standoff": 15
           },
           "zerolinecolor": "white",
           "zerolinewidth": 2
          },
          "yaxis": {
           "automargin": true,
           "gridcolor": "white",
           "linecolor": "white",
           "ticks": "",
           "title": {
            "standoff": 15
           },
           "zerolinecolor": "white",
           "zerolinewidth": 2
          }
         }
        },
        "title": {
         "text": "Top 10 Movies by Weighted Popularity"
        },
        "width": 1200,
        "xaxis": {
         "anchor": "y",
         "categoryarray": [
          "Interstellar",
          "Minions",
          "Guardians of the Galaxy",
          "Deadpool",
          "The Dark Knight",
          "The Shawshank Redemption",
          "Mad Max: Fury Road",
          "Fight Club",
          "Inception",
          "The Godfather"
         ],
         "categoryorder": "array",
         "domain": [
          0,
          1
         ],
         "title": {
          "text": "Movie Title"
         }
        },
        "yaxis": {
         "anchor": "x",
         "domain": [
          0,
          1
         ],
         "title": {
          "text": "Weighted Popularity Score"
         }
        }
       }
      }
     },
     "metadata": {},
     "output_type": "display_data"
    }
   ],
   "source": [
    "px.bar(\n",
    "    popularity_sorted.head(10),\n",
    "    x=\"original_title\",\n",
    "    y=\"score_mix\",\n",
    "    labels={\n",
    "        \"original_title\": \"Movie Title\",\n",
    "        \"score_mix\": \"Weighted Popularity Score\",\n",
    "    },\n",
    "    title=\"Top 10 Movies by Weighted Popularity\",\n",
    "    width=1200,\n",
    "    height=500,\n",
    "    color=\"original_title\",\n",
    ")"
   ]
  }
 ],
 "metadata": {
  "kernelspec": {
   "display_name": ".venv (3.12.2)",
   "language": "python",
   "name": "python3"
  },
  "language_info": {
   "codemirror_mode": {
    "name": "ipython",
    "version": 3
   },
   "file_extension": ".py",
   "mimetype": "text/x-python",
   "name": "python",
   "nbconvert_exporter": "python",
   "pygments_lexer": "ipython3",
   "version": "3.12.2"
  }
 },
 "nbformat": 4,
 "nbformat_minor": 5
}
