{
 "cells": [
  {
   "cell_type": "code",
   "execution_count": 1,
   "id": "5d1348f2",
   "metadata": {},
   "outputs": [],
   "source": [
    "import pandas as pd\n",
    "import matplotlib.pyplot as plt\n",
    "from sklearn.preprocessing import MinMaxScaler\n",
    "import plotly.express as px"
   ]
  },
  {
   "cell_type": "code",
   "execution_count": 2,
   "id": "2e78822e",
   "metadata": {},
   "outputs": [],
   "source": [
    "df = pd.read_csv(r\"datasets/clean_data.csv\")"
   ]
  },
  {
   "cell_type": "code",
   "execution_count": 3,
   "id": "e39c07cf",
   "metadata": {},
   "outputs": [],
   "source": [
    "v = df[\"vote_count\"]\n",
    "C = df[\"vote_average\"].mean()\n",
    "R = df[\"vote_average\"]"
   ]
  },
  {
   "cell_type": "code",
   "execution_count": 4,
   "id": "14fc4402",
   "metadata": {},
   "outputs": [],
   "source": [
    "# m = 1900\n",
    "m = int(df[\"vote_count\"].quantile(0.9))"
   ]
  },
  {
   "cell_type": "code",
   "execution_count": 5,
   "id": "4356c525",
   "metadata": {},
   "outputs": [],
   "source": [
    "def weighted_avg_rating(x, m=m, C=C):\n",
    "    v = x[\"vote_count\"]\n",
    "    R = x[\"vote_average\"]\n",
    "\n",
    "    return ((R * v) + (C * m)) / (v + m)"
   ]
  },
  {
   "cell_type": "code",
   "execution_count": null,
   "id": "5226dda3",
   "metadata": {},
   "outputs": [],
   "source": [
    "data = df[df[\"vote_count\"] >= m].copy()\n",
    "data.head()"
   ]
  },
  {
   "cell_type": "code",
   "execution_count": null,
   "id": "8d8cb661",
   "metadata": {},
   "outputs": [],
   "source": [
    "data[\"weighted_avg\"] = data.apply(weighted_avg_rating, axis=1)\n",
    "data.head()"
   ]
  },
  {
   "cell_type": "code",
   "execution_count": null,
   "id": "3f6a2b72",
   "metadata": {},
   "outputs": [],
   "source": [
    "df_sorted_ranking = data.sort_values(by=\"weighted_avg\", ascending=False)\n",
    "df_sorted_ranking.head()"
   ]
  },
  {
   "cell_type": "code",
   "execution_count": null,
   "id": "f8f2f1d8",
   "metadata": {},
   "outputs": [],
   "source": [
    "popularity = data.sort_values(by=\"popularity\", ascending=False)\n",
    "popularity.head()"
   ]
  },
  {
   "cell_type": "code",
   "execution_count": 20,
   "id": "8bcff1aa",
   "metadata": {},
   "outputs": [],
   "source": [
    "scaling = MinMaxScaler()"
   ]
  },
  {
   "cell_type": "code",
   "execution_count": 21,
   "id": "befb4790",
   "metadata": {},
   "outputs": [
    {
     "data": {
      "application/vnd.microsoft.datawrangler.viewer.v0+json": {
       "columns": [
        {
         "name": "index",
         "rawType": "int64",
         "type": "integer"
        },
        {
         "name": "weighted_avg",
         "rawType": "float64",
         "type": "float"
        },
        {
         "name": "popularity",
         "rawType": "float64",
         "type": "float"
        }
       ],
       "ref": "4f181ac5-b2ce-4799-9982-d928344e96fa",
       "rows": [
        [
         "546",
         "6.311719663949825",
         "875.581305"
        ],
        [
         "95",
         "7.809532571920852",
         "724.247784"
        ],
        [
         "788",
         "7.21268692638155",
         "514.569956"
        ],
        [
         "94",
         "7.613057972906255",
         "481.098624"
        ],
        [
         "127",
         "7.019246455948019",
         "434.278564"
        ]
       ],
       "shape": {
        "columns": 2,
        "rows": 5
       }
      },
      "text/html": [
       "<div>\n",
       "<style scoped>\n",
       "    .dataframe tbody tr th:only-of-type {\n",
       "        vertical-align: middle;\n",
       "    }\n",
       "\n",
       "    .dataframe tbody tr th {\n",
       "        vertical-align: top;\n",
       "    }\n",
       "\n",
       "    .dataframe thead th {\n",
       "        text-align: right;\n",
       "    }\n",
       "</style>\n",
       "<table border=\"1\" class=\"dataframe\">\n",
       "  <thead>\n",
       "    <tr style=\"text-align: right;\">\n",
       "      <th></th>\n",
       "      <th>weighted_avg</th>\n",
       "      <th>popularity</th>\n",
       "    </tr>\n",
       "  </thead>\n",
       "  <tbody>\n",
       "    <tr>\n",
       "      <th>546</th>\n",
       "      <td>6.311720</td>\n",
       "      <td>875.581305</td>\n",
       "    </tr>\n",
       "    <tr>\n",
       "      <th>95</th>\n",
       "      <td>7.809533</td>\n",
       "      <td>724.247784</td>\n",
       "    </tr>\n",
       "    <tr>\n",
       "      <th>788</th>\n",
       "      <td>7.212687</td>\n",
       "      <td>514.569956</td>\n",
       "    </tr>\n",
       "    <tr>\n",
       "      <th>94</th>\n",
       "      <td>7.613058</td>\n",
       "      <td>481.098624</td>\n",
       "    </tr>\n",
       "    <tr>\n",
       "      <th>127</th>\n",
       "      <td>7.019246</td>\n",
       "      <td>434.278564</td>\n",
       "    </tr>\n",
       "  </tbody>\n",
       "</table>\n",
       "</div>"
      ],
      "text/plain": [
       "     weighted_avg  popularity\n",
       "546      6.311720  875.581305\n",
       "95       7.809533  724.247784\n",
       "788      7.212687  514.569956\n",
       "94       7.613058  481.098624\n",
       "127      7.019246  434.278564"
      ]
     },
     "execution_count": 21,
     "metadata": {},
     "output_type": "execute_result"
    }
   ],
   "source": [
    "popularity[[\"weighted_avg\", \"popularity\"]].head()"
   ]
  },
  {
   "cell_type": "code",
   "execution_count": 27,
   "id": "0fd0e721",
   "metadata": {},
   "outputs": [
    {
     "data": {
      "text/plain": [
       "array([[0.39814088, 1.        ],\n",
       "       [0.91397055, 0.82679441],\n",
       "       [0.70842373, 0.58681208],\n",
       "       [0.84630695, 0.54850318],\n",
       "       [0.64180504, 0.49491627]])"
      ]
     },
     "execution_count": 27,
     "metadata": {},
     "output_type": "execute_result"
    }
   ],
   "source": [
    "df_scaled = scaling.fit_transform(popularity[[\"weighted_avg\", \"popularity\"]])\n",
    "df_scaled[:5]"
   ]
  },
  {
   "cell_type": "code",
   "execution_count": 13,
   "id": "18295627",
   "metadata": {},
   "outputs": [],
   "source": [
    "popularity[[\"weighted_avg_scaled\", \"popularity_scaled\"]] = df_scaled"
   ]
  },
  {
   "cell_type": "code",
   "execution_count": 29,
   "id": "4490c8af",
   "metadata": {},
   "outputs": [
    {
     "data": {
      "application/vnd.microsoft.datawrangler.viewer.v0+json": {
       "columns": [
        {
         "name": "index",
         "rawType": "int64",
         "type": "integer"
        },
        {
         "name": "score_mix",
         "rawType": "float64",
         "type": "float"
        }
       ],
       "ref": "1ddc08f2-6456-4625-87a3-e387fb1186a0",
       "rows": [
        [
         "546",
         "0.6990704424355363"
        ],
        [
         "95",
         "0.870382484248353"
        ],
        [
         "788",
         "0.6476179047327856"
        ],
        [
         "94",
         "0.6974050609124214"
        ],
        [
         "127",
         "0.5683606509339203"
        ]
       ],
       "shape": {
        "columns": 1,
        "rows": 5
       }
      },
      "text/plain": [
       "546    0.699070\n",
       "95     0.870382\n",
       "788    0.647618\n",
       "94     0.697405\n",
       "127    0.568361\n",
       "Name: score_mix, dtype: float64"
      ]
     },
     "execution_count": 29,
     "metadata": {},
     "output_type": "execute_result"
    }
   ],
   "source": [
    "popularity[\"score_mix\"] = (\n",
    "    popularity[\"weighted_avg_scaled\"] * 0.5 + popularity[\"popularity_scaled\"] * 0.50\n",
    ")\n",
    "popularity[\"score_mix\"].head()"
   ]
  },
  {
   "cell_type": "code",
   "execution_count": 32,
   "id": "45c2487b",
   "metadata": {},
   "outputs": [
    {
     "data": {
      "application/vnd.microsoft.datawrangler.viewer.v0+json": {
       "columns": [
        {
         "name": "index",
         "rawType": "int64",
         "type": "integer"
        },
        {
         "name": "budget",
         "rawType": "int64",
         "type": "integer"
        },
        {
         "name": "genres",
         "rawType": "object",
         "type": "string"
        },
        {
         "name": "id",
         "rawType": "int64",
         "type": "integer"
        },
        {
         "name": "keywords",
         "rawType": "object",
         "type": "string"
        },
        {
         "name": "original_language",
         "rawType": "object",
         "type": "string"
        },
        {
         "name": "original_title",
         "rawType": "object",
         "type": "string"
        },
        {
         "name": "overview",
         "rawType": "object",
         "type": "string"
        },
        {
         "name": "popularity",
         "rawType": "float64",
         "type": "float"
        },
        {
         "name": "production_companies",
         "rawType": "object",
         "type": "string"
        },
        {
         "name": "release_date",
         "rawType": "object",
         "type": "string"
        },
        {
         "name": "revenue",
         "rawType": "int64",
         "type": "integer"
        },
        {
         "name": "runtime",
         "rawType": "float64",
         "type": "float"
        },
        {
         "name": "spoken_languages",
         "rawType": "object",
         "type": "string"
        },
        {
         "name": "tagline",
         "rawType": "object",
         "type": "string"
        },
        {
         "name": "vote_average",
         "rawType": "float64",
         "type": "float"
        },
        {
         "name": "vote_count",
         "rawType": "int64",
         "type": "integer"
        },
        {
         "name": "cast",
         "rawType": "object",
         "type": "string"
        },
        {
         "name": "crew",
         "rawType": "object",
         "type": "string"
        },
        {
         "name": "weighted_avg",
         "rawType": "float64",
         "type": "float"
        },
        {
         "name": "weighted_avg_scaled",
         "rawType": "float64",
         "type": "float"
        },
        {
         "name": "popularity_scaled",
         "rawType": "float64",
         "type": "float"
        },
        {
         "name": "score_mix",
         "rawType": "float64",
         "type": "float"
        }
       ],
       "ref": "1a4e9fa1-e531-4801-acc9-f1629cc79903",
       "rows": [
        [
         "95",
         "165000000",
         "[{\"id\": 12, \"name\": \"Adventure\"}, {\"id\": 18, \"name\": \"Drama\"}, {\"id\": 878, \"name\": \"Science Fiction\"}]",
         "157336",
         "[{\"id\": 83, \"name\": \"saving the world\"}, {\"id\": 310, \"name\": \"artificial intelligence\"}, {\"id\": 494, \"name\": \"father son relationship\"}, {\"id\": 641, \"name\": \"single parent\"}, {\"id\": 1432, \"name\": \"nasa\"}, {\"id\": 1963, \"name\": \"expedition\"}, {\"id\": 3417, \"name\": \"wormhole\"}, {\"id\": 3801, \"name\": \"space travel\"}, {\"id\": 4337, \"name\": \"famine\"}, {\"id\": 4380, \"name\": \"black hole\"}, {\"id\": 4565, \"name\": \"dystopia\"}, {\"id\": 4776, \"name\": \"race against time\"}, {\"id\": 8056, \"name\": \"quantum mechanics\"}, {\"id\": 9831, \"name\": \"spaceship\"}, {\"id\": 9882, \"name\": \"space\"}, {\"id\": 10084, \"name\": \"rescue\"}, {\"id\": 10235, \"name\": \"family relationships\"}, {\"id\": 13127, \"name\": \"farmhouse\"}, {\"id\": 14544, \"name\": \"robot\"}, {\"id\": 14626, \"name\": \"astronaut\"}, {\"id\": 14760, \"name\": \"scientist\"}, {\"id\": 15300, \"name\": \"father daughter relationship\"}, {\"id\": 33479, \"name\": \"single father\"}, {\"id\": 154846, \"name\": \"farmer\"}, {\"id\": 156039, \"name\": \"space station\"}, {\"id\": 156395, \"name\": \"imax\"}, {\"id\": 160331, \"name\": \"astrophysics\"}, {\"id\": 162630, \"name\": \"zero gravity\"}, {\"id\": 189098, \"name\": \"courage\"}, {\"id\": 208757, \"name\": \"time paradox\"}, {\"id\": 214349, \"name\": \"relativity\"}]",
         "en",
         "Interstellar",
         "Interstellar chronicles the adventures of a group of explorers who make use of a newly discovered wormhole to surpass the limitations on human space travel and conquer the vast distances involved in an interstellar voyage.",
         "724.247784",
         "[{\"name\": \"Paramount Pictures\", \"id\": 4}, {\"name\": \"Legendary Pictures\", \"id\": 923}, {\"name\": \"Warner Bros.\", \"id\": 6194}, {\"name\": \"Syncopy\", \"id\": 9996}, {\"name\": \"Lynda Obst Productions\", \"id\": 13769}]",
         "2014-11-05",
         "675120017",
         "169.0",
         "[{\"iso_639_1\": \"en\", \"name\": \"English\"}]",
         "Mankind was born on Earth. It was never meant to die here.",
         "8.1",
         "10867",
         "[{\"cast_id\": 9, \"character\": \"Joseph Cooper\", \"credit_id\": \"52fe4bbf9251416c910e47cb\", \"gender\": 2, \"id\": 10297, \"name\": \"Matthew McConaughey\", \"order\": 0}, {\"cast_id\": 17, \"character\": \"Murph Cooper\", \"credit_id\": \"52fe4bbf9251416c910e47f1\", \"gender\": 1, \"id\": 83002, \"name\": \"Jessica Chastain\", \"order\": 1}, {\"cast_id\": 169, \"character\": \"Dr. Amelia Brand\", \"credit_id\": \"57fe146fc3a368504a00261e\", \"gender\": 1, \"id\": 1813, \"name\": \"Anne Hathaway\", \"order\": 2}, {\"cast_id\": 18, \"character\": \"Professor John Brand\", \"credit_id\": \"52fe4bbf9251416c910e47f5\", \"gender\": 2, \"id\": 3895, \"name\": \"Michael Caine\", \"order\": 3}, {\"cast_id\": 21, \"character\": \"Tom Cooper\", \"credit_id\": \"52fe4bbf9251416c910e4805\", \"gender\": 2, \"id\": 1893, \"name\": \"Casey Affleck\", \"order\": 4}, {\"cast_id\": 24, \"character\": \"Young Murph Cooper\", \"credit_id\": \"52fe4bbf9251416c910e4811\", \"gender\": 1, \"id\": 851784, \"name\": \"Mackenzie Foy\", \"order\": 5}, {\"cast_id\": 23, \"character\": \"Young Tom Cooper\", \"credit_id\": \"52fe4bbf9251416c910e480d\", \"gender\": 2, \"id\": 1190668, \"name\": \"Timoth\\u00e9e Chalamet\", \"order\": 6}, {\"cast_id\": 26, \"character\": \"TARS (voice)\", \"credit_id\": \"52fe4bbf9251416c910e4819\", \"gender\": 2, \"id\": 58549, \"name\": \"Bill Irwin\", \"order\": 7}, {\"cast_id\": 31, \"character\": \"Dr. Mann\", \"credit_id\": \"52fe4bbf9251416c910e482d\", \"gender\": 2, \"id\": 1892, \"name\": \"Matt Damon\", \"order\": 8}, {\"cast_id\": 22, \"character\": \"Old Murph Cooper\", \"credit_id\": \"52fe4bbf9251416c910e4809\", \"gender\": 1, \"id\": 9560, \"name\": \"Ellen Burstyn\", \"order\": 9}, {\"cast_id\": 25, \"character\": \"Donald\", \"credit_id\": \"52fe4bbf9251416c910e4815\", \"gender\": 2, \"id\": 12074, \"name\": \"John Lithgow\", \"order\": 10}, {\"cast_id\": 28, \"character\": \"Dr. Doyle\", \"credit_id\": \"52fe4bbf9251416c910e4821\", \"gender\": 2, \"id\": 8210, \"name\": \"Wes Bentley\", \"order\": 11}, {\"cast_id\": 27, \"character\": \"Getty\", \"credit_id\": \"52fe4bbf9251416c910e481d\", \"gender\": 2, \"id\": 17052, \"name\": \"Topher Grace\", \"order\": 12}, {\"cast_id\": 29, \"character\": \"Principal\", \"credit_id\": \"52fe4bbf9251416c910e4825\", \"gender\": 2, \"id\": 35013, \"name\": \"David Oyelowo\", \"order\": 13}, {\"cast_id\": 30, \"character\": \"Dr. Romilly\", \"credit_id\": \"52fe4bbf9251416c910e4829\", \"gender\": 2, \"id\": 55411, \"name\": \"David Gyasi\", \"order\": 14}, {\"cast_id\": 37, \"character\": \"NASA Board Member\", \"credit_id\": \"54259750c3a3680876005f94\", \"gender\": 2, \"id\": 21416, \"name\": \"William Devane\", \"order\": 15}, {\"cast_id\": 38, \"character\": \"CASE (voice)\", \"credit_id\": \"545db7ab0e0a261fb6005d65\", \"gender\": 2, \"id\": 40039, \"name\": \"Josh Stewart\", \"order\": 16}, {\"cast_id\": 39, \"character\": \"Ms. Kelly\", \"credit_id\": \"545db7d70e0a261fb6005d6f\", \"gender\": 1, \"id\": 86624, \"name\": \"Collette Wolfe\", \"order\": 17}, {\"cast_id\": 40, \"character\": \"Lois Cooper\", \"credit_id\": \"545db7f5c3a3686cbb000db6\", \"gender\": 1, \"id\": 32202, \"name\": \"Leah Cairns\", \"order\": 18}, {\"cast_id\": 141, \"character\": \"Crew Chief\", \"credit_id\": \"55191d18c3a3684b6b002414\", \"gender\": 2, \"id\": 535, \"name\": \"Russ Fega\", \"order\": 19}, {\"cast_id\": 142, \"character\": \"Nurse Practitioner\", \"credit_id\": \"55191d5b9251416f0000706f\", \"gender\": 0, \"id\": 171901, \"name\": \"Lena Georgas\", \"order\": 20}, {\"cast_id\": 143, \"character\": \"Doctor\", \"credit_id\": \"55191d8bc3a3682aa8000cb4\", \"gender\": 2, \"id\": 212689, \"name\": \"Jeff Hephner\", \"order\": 21}, {\"cast_id\": 144, \"character\": \"Administrator\", \"credit_id\": \"55191db092514115000044c3\", \"gender\": 2, \"id\": 78050, \"name\": \"Elyes Gabel\", \"order\": 22}, {\"cast_id\": 145, \"character\": \"Nurse\", \"credit_id\": \"55191dd7c3a3684bd80022dc\", \"gender\": 1, \"id\": 31649, \"name\": \"Brooke Smith\", \"order\": 23}, {\"cast_id\": 146, \"character\": \"Coop\", \"credit_id\": \"55287dde92514111d600086d\", \"gender\": 2, \"id\": 1452481, \"name\": \"Liam Dickinson\", \"order\": 24}, {\"cast_id\": 147, \"character\": \"Boots\", \"credit_id\": \"55ea8067c3a3682c62008d3d\", \"gender\": 2, \"id\": 100650, \"name\": \"Francis X. McCarthy\", \"order\": 25}, {\"cast_id\": 148, \"character\": \"Smith\", \"credit_id\": \"55ea8068c3a3682c5d009739\", \"gender\": 2, \"id\": 167720, \"name\": \"Andrew Borba\", \"order\": 26}, {\"cast_id\": 149, \"character\": \"Girl on Truck\", \"credit_id\": \"55ea80689251413e3a008ab7\", \"gender\": 1, \"id\": 1505363, \"name\": \"Flora Nolan\", \"order\": 27}, {\"cast_id\": 150, \"character\": \"NASA Employee (uncredited)\", \"credit_id\": \"56b63be09251413ca1002d04\", \"gender\": 2, \"id\": 1452865, \"name\": \"William Patrick Brown\", \"order\": 28}, {\"cast_id\": 151, \"character\": \"NASA Scientist (uncredited)\", \"credit_id\": \"56b63c06c3a36806f100962f\", \"gender\": 1, \"id\": 1503849, \"name\": \"Cici Leah Campbell\", \"order\": 29}, {\"cast_id\": 152, \"character\": \"Scientist (uncredited)\", \"credit_id\": \"56b63c949251414a3a004185\", \"gender\": 2, \"id\": 1573547, \"name\": \"Kristian Van der Heyden\", \"order\": 30}, {\"cast_id\": 153, \"character\": \"NASA Inspector (uncredited)\", \"credit_id\": \"56b63ce792514112b9008b59\", \"gender\": 2, \"id\": 97447, \"name\": \"Mark Casimir Dyniewicz\", \"order\": 31}, {\"cast_id\": 154, \"character\": \"Astronaut (uncredited)\", \"credit_id\": \"56b63d5d9251413ca1002d32\", \"gender\": 2, \"id\": 1360008, \"name\": \"Joseph Oliveira\", \"order\": 32}, {\"cast_id\": 170, \"character\": \"Popcorn Seller (uncredited)\", \"credit_id\": \"580e5fc09251416e0a002b6d\", \"gender\": 2, \"id\": 1699056, \"name\": \"Ryan Irving\", \"order\": 33}, {\"cast_id\": 171, \"character\": \"Construction Boss (uncredited)\", \"credit_id\": \"580e5fe3c3a3683867000507\", \"gender\": 2, \"id\": 1663832, \"name\": \"Alexander Michael Helisek\", \"order\": 34}, {\"cast_id\": 172, \"character\": \"NASA Scientist (uncredited)\", \"credit_id\": \"580e5ff5c3a36859aa002f2e\", \"gender\": 2, \"id\": 1699057, \"name\": \"Benjamin Hardy\", \"order\": 35}]",
         "[{\"credit_id\": \"52fe4bbf9251416c910e4801\", \"department\": \"Sound\", \"gender\": 2, \"id\": 947, \"job\": \"Original Music Composer\", \"name\": \"Hans Zimmer\"}, {\"credit_id\": \"52fe4bbf9251416c910e47c1\", \"department\": \"Directing\", \"gender\": 2, \"id\": 525, \"job\": \"Director\", \"name\": \"Christopher Nolan\"}, {\"credit_id\": \"52fe4bbf9251416c910e47ed\", \"department\": \"Production\", \"gender\": 2, \"id\": 525, \"job\": \"Producer\", \"name\": \"Christopher Nolan\"}, {\"credit_id\": \"5505e4dac3a36862e900346c\", \"department\": \"Writing\", \"gender\": 2, \"id\": 525, \"job\": \"Writer\", \"name\": \"Christopher Nolan\"}, {\"credit_id\": \"5505e4cb92514179fb000a9a\", \"department\": \"Writing\", \"gender\": 2, \"id\": 527, \"job\": \"Writer\", \"name\": \"Jonathan Nolan\"}, {\"credit_id\": \"5319bc8592514177c20025a7\", \"department\": \"Production\", \"gender\": 1, \"id\": 556, \"job\": \"Producer\", \"name\": \"Emma Thomas\"}, {\"credit_id\": \"5319bc9892514177b7002639\", \"department\": \"Production\", \"gender\": 0, \"id\": 561, \"job\": \"Casting\", \"name\": \"John Papsidera\"}, {\"credit_id\": \"52fe4bbf9251416c910e47e7\", \"department\": \"Production\", \"gender\": 1, \"id\": 2162, \"job\": \"Producer\", \"name\": \"Lynda Obst\"}, {\"credit_id\": \"5319bc1a92514177b4002655\", \"department\": \"Editing\", \"gender\": 0, \"id\": 3904, \"job\": \"Editor\", \"name\": \"Lee Smith\"}, {\"credit_id\": \"5319bc4792514177c200259d\", \"department\": \"Costume & Make-Up\", \"gender\": 1, \"id\": 7418, \"job\": \"Costume Design\", \"name\": \"Mary Zophres\"}, {\"credit_id\": \"5519108bc3a3685cfa0051b8\", \"department\": \"Art\", \"gender\": 2, \"id\": 14762, \"job\": \"Set Designer\", \"name\": \"Robert Woodruff\"}, {\"credit_id\": \"54cba799925141678e014d20\", \"department\": \"Art\", \"gender\": 2, \"id\": 14349, \"job\": \"Art Direction\", \"name\": \"David F. Klassen\"}, {\"credit_id\": \"5319bc2f92514177bf0025ac\", \"department\": \"Art\", \"gender\": 2, \"id\": 15327, \"job\": \"Production Design\", \"name\": \"Nathan Crowley\"}, {\"credit_id\": \"54cba898c3a3687a6501048f\", \"department\": \"Production\", \"gender\": 0, \"id\": 18926, \"job\": \"Production Manager\", \"name\": \"Casey Grant\"}, {\"credit_id\": \"54cba7acc3a36854a9003043\", \"department\": \"Art\", \"gender\": 0, \"id\": 21718, \"job\": \"Art Direction\", \"name\": \"Gary Kosko\"}, {\"credit_id\": \"551910749251411500004260\", \"department\": \"Art\", \"gender\": 0, \"id\": 21796, \"job\": \"Set Designer\", \"name\": \"Sally Thornton\"}, {\"credit_id\": \"5505e487c3a368262e003054\", \"department\": \"Production\", \"gender\": 0, \"id\": 29608, \"job\": \"Executive Producer\", \"name\": \"Jake Myers\"}, {\"credit_id\": \"551911799251412b6d005415\", \"department\": \"Sound\", \"gender\": 2, \"id\": 52193, \"job\": \"ADR & Dubbing\", \"name\": \"R.J. Kizer\"}, {\"credit_id\": \"5519123cc3a3681f84002a00\", \"department\": \"Editing\", \"gender\": 2, \"id\": 52193, \"job\": \"Dialogue Editor\", \"name\": \"R.J. Kizer\"}, {\"credit_id\": \"5505e4a292514179fb000a96\", \"department\": \"Production\", \"gender\": 0, \"id\": 54211, \"job\": \"Executive Producer\", \"name\": \"Thomas Tull\"}, {\"credit_id\": \"54cba805c3a36874b70162ec\", \"department\": \"Art\", \"gender\": 2, \"id\": 65711, \"job\": \"Set Decoration\", \"name\": \"Gary Fettis\"}, {\"credit_id\": \"579cff4f9251411217002c8a\", \"department\": \"Sound\", \"gender\": 0, \"id\": 68016, \"job\": \"Orchestrator\", \"name\": \"Kevin Kaska\"}, {\"credit_id\": \"52fe4bbf9251416c910e47fb\", \"department\": \"Camera\", \"gender\": 0, \"id\": 74401, \"job\": \"Director of Photography\", \"name\": \"Hoyte van Hoytema\"}, {\"credit_id\": \"5505e47ac3a3686b75000a29\", \"department\": \"Production\", \"gender\": 0, \"id\": 113913, \"job\": \"Executive Producer\", \"name\": \"Jordan Goldberg\"}, {\"credit_id\": \"5519104bc3a3685cfa0051ac\", \"department\": \"Art\", \"gender\": 0, \"id\": 81731, \"job\": \"Set Designer\", \"name\": \"Paul Sonski\"}, {\"credit_id\": \"5519110fc3a3681f840029a7\", \"department\": \"Art\", \"gender\": 2, \"id\": 98681, \"job\": \"Sculptor\", \"name\": \"Todd Rex\"}, {\"credit_id\": \"551913c39251415aab001f37\", \"department\": \"Sound\", \"gender\": 0, \"id\": 138618, \"job\": \"Sound Re-Recording Mixer\", \"name\": \"Gary Rizzo\"}, {\"credit_id\": \"575310969251411f5a0000e6\", \"department\": \"Sound\", \"gender\": 2, \"id\": 932186, \"job\": \"Orchestrator\", \"name\": \"Bruce Fowler\"}, {\"credit_id\": \"570bd2f5c3a36802a9000277\", \"department\": \"Art\", \"gender\": 2, \"id\": 969743, \"job\": \"Supervising Art Director\", \"name\": \"Dean Wolcott\"}, {\"credit_id\": \"54cba7d4925141678c014f6b\", \"department\": \"Art\", \"gender\": 2, \"id\": 988882, \"job\": \"Art Direction\", \"name\": \"Eric Sundahl\"}, {\"credit_id\": \"551910609251412c1e0059a9\", \"department\": \"Art\", \"gender\": 2, \"id\": 988882, \"job\": \"Set Designer\", \"name\": \"Eric Sundahl\"}, {\"credit_id\": \"56b782cf9251416615007154\", \"department\": \"Production\", \"gender\": 1, \"id\": 989750, \"job\": \"Casting Associate\", \"name\": \"Deanna Brigidi\"}, {\"credit_id\": \"54cba770c3a3680924010431\", \"department\": \"Art\", \"gender\": 0, \"id\": 991724, \"job\": \"Art Direction\", \"name\": \"Eggert Ketilsson\"}, {\"credit_id\": \"55191222c3a36862ef007237\", \"department\": \"Editing\", \"gender\": 0, \"id\": 1050930, \"job\": \"Dialogue Editor\", \"name\": \"Hugo Weng\"}, {\"credit_id\": \"551919b09251415aab002014\", \"department\": \"Crew\", \"gender\": 0, \"id\": 1081074, \"job\": \"Stunt Coordinator\", \"name\": \"George Cottle\"}, {\"credit_id\": \"551911fc9251416f00006ea1\", \"department\": \"Sound\", \"gender\": 2, \"id\": 1116937, \"job\": \"Foley\", \"name\": \"John Roesch\"}, {\"credit_id\": \"5505e495c3a36862dd0030ef\", \"department\": \"Production\", \"gender\": 0, \"id\": 1157625, \"job\": \"Executive Producer\", \"name\": \"Kip Thorne\"}, {\"credit_id\": \"54cba84e92514157cc01098f\", \"department\": \"Costume & Make-Up\", \"gender\": 0, \"id\": 1322015, \"job\": \"Makeup Department Head\", \"name\": \"Luisa Abel\"}, {\"credit_id\": \"54cbad19c3a36874b701635b\", \"department\": \"Camera\", \"gender\": 1, \"id\": 1324652, \"job\": \"Still Photographer\", \"name\": \"Melinda Sue Gordon\"}, {\"credit_id\": \"54cba75b925141678e014d1a\", \"department\": \"Art\", \"gender\": 0, \"id\": 1328137, \"job\": \"Art Direction\", \"name\": \"Kendelle Elliott\"}, {\"credit_id\": \"54cba9529251416789014ab6\", \"department\": \"Costume & Make-Up\", \"gender\": 0, \"id\": 1329113, \"job\": \"Costume Supervisor\", \"name\": \"Lynda Foote\"}, {\"credit_id\": \"54cba7c392514157cc01098b\", \"department\": \"Art\", \"gender\": 0, \"id\": 1334782, \"job\": \"Art Direction\", \"name\": \"Josh Lusby\"}, {\"credit_id\": \"5519142d9251412c1e005a72\", \"department\": \"Sound\", \"gender\": 2, \"id\": 1341403, \"job\": \"Supervising Sound Editor\", \"name\": \"Richard King\"}, {\"credit_id\": \"5519131d9251412b6d005463\", \"department\": \"Sound\", \"gender\": 0, \"id\": 1341781, \"job\": \"Sound Re-Recording Mixer\", \"name\": \"Gregg Landaker\"}, {\"credit_id\": \"55191c23c3a36862ef007413\", \"department\": \"Production\", \"gender\": 0, \"id\": 1345627, \"job\": \"Location Manager\", \"name\": \"Mandi Dillin\"}, {\"credit_id\": \"551911289251415918001ccb\", \"department\": \"Art\", \"gender\": 0, \"id\": 1355530, \"job\": \"Sculptor\", \"name\": \"Cuitlahuac Morales Velazquez\"}, {\"credit_id\": \"551914859251416f00006f22\", \"department\": \"Crew\", \"gender\": 0, \"id\": 1357062, \"job\": \"Special Effects Coordinator\", \"name\": \"Scott R. Fisher\"}, {\"credit_id\": \"54cbacbfc3a36879df0108df\", \"department\": \"Camera\", \"gender\": 0, \"id\": 1357066, \"job\": \"Camera Operator\", \"name\": \"P. Scott Sakamoto\"}, {\"credit_id\": \"55191bde9251416f0000701e\", \"department\": \"Crew\", \"gender\": 0, \"id\": 1357070, \"job\": \"Transportation Coordinator\", \"name\": \"Denny Caira\"}, {\"credit_id\": \"5519102b9251415918001c8a\", \"department\": \"Art\", \"gender\": 1, \"id\": 1360094, \"job\": \"Set Designer\", \"name\": \"Noelle King\"}, {\"credit_id\": \"551912a5c3a3681f84002a12\", \"department\": \"Sound\", \"gender\": 0, \"id\": 1377222, \"job\": \"Sound Effects Editor\", \"name\": \"Michael W. Mitchell\"}, {\"credit_id\": \"551912809251412c1e005a22\", \"department\": \"Sound\", \"gender\": 0, \"id\": 1378231, \"job\": \"Sound Effects Editor\", \"name\": \"Ken J. Johnson\"}, {\"credit_id\": \"5519149fc3a3684b6b002297\", \"department\": \"Crew\", \"gender\": 0, \"id\": 1378699, \"job\": \"Special Effects Coordinator\", \"name\": \"James Paradis\"}, {\"credit_id\": \"55191016925141731c0028b8\", \"department\": \"Art\", \"gender\": 0, \"id\": 1392896, \"job\": \"Set Designer\", \"name\": \"Martha Johnston\"}, {\"credit_id\": \"54cba8e6925141678e014d32\", \"department\": \"Art\", \"gender\": 0, \"id\": 1395430, \"job\": \"Art Department Coordinator\", \"name\": \"Jenne Lee\"}, {\"credit_id\": \"551911e59251415918001cf4\", \"department\": \"Sound\", \"gender\": 0, \"id\": 1397823, \"job\": \"Foley\", \"name\": \"Alyson Dee Moore\"}, {\"credit_id\": \"54cbacf2925141635e00cdf5\", \"department\": \"Camera\", \"gender\": 0, \"id\": 1399071, \"job\": \"Helicopter Camera\", \"name\": \"Hans Bjerno\"}, {\"credit_id\": \"55190fe2c3a3685cfa005191\", \"department\": \"Art\", \"gender\": 0, \"id\": 1399290, \"job\": \"Set Designer\", \"name\": \"Ernie Avila\"}, {\"credit_id\": \"55190ff99251416f00006e37\", \"department\": \"Art\", \"gender\": 0, \"id\": 1399291, \"job\": \"Set Designer\", \"name\": \"Andrew Birdzell\"}, {\"credit_id\": \"54cba8c3c3a3687a65010494\", \"department\": \"Production\", \"gender\": 0, \"id\": 1400007, \"job\": \"Production Supervisor\", \"name\": \"Michelle Brattson\"}, {\"credit_id\": \"551910f5c3a3684b6b0021c7\", \"department\": \"Art\", \"gender\": 0, \"id\": 1400019, \"job\": \"Sculptor\", \"name\": \"Dan Engle\"}, {\"credit_id\": \"55191b309251415aab00205d\", \"department\": \"Costume & Make-Up\", \"gender\": 0, \"id\": 1402494, \"job\": \"Set Costumer\", \"name\": \"Sahar Halabi\"}, {\"credit_id\": \"55191ba39251416f0000700e\", \"department\": \"Sound\", \"gender\": 0, \"id\": 1403490, \"job\": \"Music Editor\", \"name\": \"Alex Gibson\"}, {\"credit_id\": \"54cba865925141635e00cd96\", \"department\": \"Costume & Make-Up\", \"gender\": 0, \"id\": 1412185, \"job\": \"Makeup Artist\", \"name\": \"Jay Wejebe\"}, {\"credit_id\": \"551918069251412b6d00551b\", \"department\": \"Visual Effects\", \"gender\": 0, \"id\": 1413116, \"job\": \"Visual Effects Producer\", \"name\": \"Ann Podlozny\"}, {\"credit_id\": \"55190f13c3a36862ef007197\", \"department\": \"Art\", \"gender\": 0, \"id\": 1415611, \"job\": \"Greensman\", \"name\": \"Christopher Morente\"}, {\"credit_id\": \"54cba8239251416789014aa2\", \"department\": \"Costume & Make-Up\", \"gender\": 0, \"id\": 1417399, \"job\": \"Hairstylist\", \"name\": \"Patricia DeHaney\"}, {\"credit_id\": \"551912c9c3a36862ef007255\", \"department\": \"Sound\", \"gender\": 0, \"id\": 1417516, \"job\": \"Sound Effects Editor\", \"name\": \"Jeff Sawyer\"}, {\"credit_id\": \"551917dfc3a36862ef00733b\", \"department\": \"Crew\", \"gender\": 0, \"id\": 1417823, \"job\": \"Visual Effects Editor\", \"name\": \"Steve Miller\"}, {\"credit_id\": \"5519193fc3a36862f90074a1\", \"department\": \"Visual Effects\", \"gender\": 0, \"id\": 1417828, \"job\": \"Visual Effects Supervisor\", \"name\": \"Andrew Lockley\"}, {\"credit_id\": \"54cbad3fc3a36879df0108eb\", \"department\": \"Camera\", \"gender\": 0, \"id\": 1417834, \"job\": \"Camera Technician\", \"name\": \"Dane Bjerno\"}, {\"credit_id\": \"5519164b9251411500004384\", \"department\": \"Visual Effects\", \"gender\": 0, \"id\": 1417836, \"job\": \"Animation\", \"name\": \"Andrew McEvoy\"}, {\"credit_id\": \"55191b78c3a3684b6b0023ac\", \"department\": \"Editing\", \"gender\": 0, \"id\": 1417840, \"job\": \"First Assistant Editor\", \"name\": \"Eric A. Lewy\"}, {\"credit_id\": \"55191bc29251412b6d0055b9\", \"department\": \"Sound\", \"gender\": 0, \"id\": 1417841, \"job\": \"Music Editor\", \"name\": \"Ryan Rubin\"}, {\"credit_id\": \"54cba838c3a368044800f36f\", \"department\": \"Costume & Make-Up\", \"gender\": 0, \"id\": 1420642, \"job\": \"Hairstylist\", \"name\": \"Jose Zamora\"}, {\"credit_id\": \"54cba97dc3a368044800f38c\", \"department\": \"Costume & Make-Up\", \"gender\": 0, \"id\": 1420643, \"job\": \"Costume Supervisor\", \"name\": \"Heather Moore\"}, {\"credit_id\": \"55190e0dc3a36862ef00714f\", \"department\": \"Art\", \"gender\": 0, \"id\": 1421695, \"job\": \"Construction Coordinator\", \"name\": \"Craig Henderson\"}, {\"credit_id\": \"55190d8bc3a3682aa80009ca\", \"department\": \"Art\", \"gender\": 0, \"id\": 1424897, \"job\": \"Assistant Art Director\", \"name\": \"Lauren Abiouness\"}, {\"credit_id\": \"55190e50c3a3681f84002908\", \"department\": \"Art\", \"gender\": 0, \"id\": 1424898, \"job\": \"Construction Coordinator\", \"name\": \"Brian Walker\"}, {\"credit_id\": \"56f81a4c9251412fdd003166\", \"department\": \"Art\", \"gender\": 0, \"id\": 1426735, \"job\": \"Set Decoration\", \"name\": \"Paul Healy\"}, {\"credit_id\": \"55191b1ac3a3682aa8000c36\", \"department\": \"Costume & Make-Up\", \"gender\": 0, \"id\": 1428227, \"job\": \"Set Costumer\", \"name\": \"Tom Cummins\"}, {\"credit_id\": \"579bf956c3a36855d20025b4\", \"department\": \"Editing\", \"gender\": 2, \"id\": 1428834, \"job\": \"Color Timer\", \"name\": \"Mato\"}, {\"credit_id\": \"55191a5dc3a36862f6006cfc\", \"department\": \"Lighting\", \"gender\": 0, \"id\": 1431089, \"job\": \"Rigging Gaffer\", \"name\": \"Sean Oxenbury\"}, {\"credit_id\": \"56d4e8d1c3a3681e4a0151f6\", \"department\": \"Editing\", \"gender\": 0, \"id\": 1440853, \"job\": \"Assistant Editor\", \"name\": \"Donald Likovich\"}, {\"credit_id\": \"55191c839251412c1e005bed\", \"department\": \"Crew\", \"gender\": 0, \"id\": 1442173, \"job\": \"Dialect Coach\", \"name\": \"Rick Lipton\"}, {\"credit_id\": \"55190d6e92514115000041a6\", \"department\": \"Art\", \"gender\": 0, \"id\": 1447570, \"job\": \"Art Department Coordinator\", \"name\": \"Joel Tobman\"}, {\"credit_id\": \"55190dc09251416f0a007037\", \"department\": \"Art\", \"gender\": 0, \"id\": 1447571, \"job\": \"Assistant Art Director\", \"name\": \"Travis Witkowski\"}, {\"credit_id\": \"55190ec6c3a3684bd8002005\", \"department\": \"Art\", \"gender\": 0, \"id\": 1447574, \"job\": \"Greensman\", \"name\": \"Nathan Davey\"}, {\"credit_id\": \"55190edbc3a3681f84002926\", \"department\": \"Art\", \"gender\": 0, \"id\": 1447575, \"job\": \"Greensman\", \"name\": \"Steven Hanks\"}, {\"credit_id\": \"55190f2d9251416f0a00709b\", \"department\": \"Art\", \"gender\": 0, \"id\": 1447578, \"job\": \"Greensman\", \"name\": \"Darryl Stogre\"}, {\"credit_id\": \"55190f519251412c1e00596a\", \"department\": \"Art\", \"gender\": 0, \"id\": 1447582, \"job\": \"Leadman\", \"name\": \"Mark Weissenfluh\"}, {\"credit_id\": \"55190f8b9251415aab001e5c\", \"department\": \"Crew\", \"gender\": 0, \"id\": 1447583, \"job\": \"Property Master\", \"name\": \"Ritchie Kremer\"}, {\"credit_id\": \"551913fbc3a3681f84002a57\", \"department\": \"Sound\", \"gender\": 0, \"id\": 1447601, \"job\": \"First Assistant Sound Editor\", \"name\": \"Andrew Bock\"}, {\"credit_id\": \"55191411c3a3685cfa005280\", \"department\": \"Sound\", \"gender\": 0, \"id\": 1447602, \"job\": \"First Assistant Sound Editor\", \"name\": \"Linda Yeaney\"}, {\"credit_id\": \"551915099251411500004345\", \"department\": \"Crew\", \"gender\": 0, \"id\": 1447603, \"job\": \"CG Supervisor\", \"name\": \"Dan Neal\"}, {\"credit_id\": \"55191540c3a3681f84002a94\", \"department\": \"Crew\", \"gender\": 0, \"id\": 1447604, \"job\": \"CG Supervisor\", \"name\": \"Eug\\u00e9nie von Tunzelmann\"}, {\"credit_id\": \"5519157f9251412b6d0054c2\", \"department\": \"Crew\", \"gender\": 0, \"id\": 1447605, \"job\": \"Sequence Supervisor\", \"name\": \"Fabio Zangla\"}, {\"credit_id\": \"551915dcc3a3682aa8000b6c\", \"department\": \"Crew\", \"gender\": 0, \"id\": 1447609, \"job\": \"Sequence Supervisor\", \"name\": \"Seth Dubieniec\"}, {\"credit_id\": \"5519160f9251415aab001f92\", \"department\": \"Visual Effects\", \"gender\": 0, \"id\": 1447610, \"job\": \"Animation\", \"name\": \"Evan Clover\"}, {\"credit_id\": \"55191623c3a3685cfa0052e8\", \"department\": \"Visual Effects\", \"gender\": 0, \"id\": 1447611, \"job\": \"Animation\", \"name\": \"Trystan James\"}, {\"credit_id\": \"5519167ec3a3684bd8002190\", \"department\": \"Crew\", \"gender\": 0, \"id\": 1447612, \"job\": \"Visual Effects Editor\", \"name\": \"Tom Barrett\"}, {\"credit_id\": \"551916aac3a36862f9007448\", \"department\": \"Visual Effects\", \"gender\": 0, \"id\": 1447613, \"job\": \"Animation\", \"name\": \"Lai Lok Chau\"}, {\"credit_id\": \"551916cbc3a3681f84002ad2\", \"department\": \"Visual Effects\", \"gender\": 0, \"id\": 1447614, \"job\": \"Animation\", \"name\": \"Dorian Knapp\"}, {\"credit_id\": \"5519170fc3a3681f84002ae2\", \"department\": \"Visual Effects\", \"gender\": 0, \"id\": 1447615, \"job\": \"Animation\", \"name\": \"G\\u00e1bor Kiss\"}, {\"credit_id\": \"551917a192514115000043b7\", \"department\": \"Crew\", \"gender\": 0, \"id\": 1447617, \"job\": \"Visual Effects Editor\", \"name\": \"Crystal Hadcroft\"}, {\"credit_id\": \"5519187ac3a3681f84002b12\", \"department\": \"Visual Effects\", \"gender\": 0, \"id\": 1447621, \"job\": \"Visual Effects Producer\", \"name\": \"Graeme Puttock\"}, {\"credit_id\": \"551918c0925141731c002a50\", \"department\": \"Visual Effects\", \"gender\": 0, \"id\": 1447622, \"job\": \"Visual Effects Producer\", \"name\": \"Jenny Basen\"}, {\"credit_id\": \"551918fb92514115000043e1\", \"department\": \"Visual Effects\", \"gender\": 0, \"id\": 1447624, \"job\": \"Visual Effects Producer\", \"name\": \"Harrison Goldstein\"}, {\"credit_id\": \"55191a12c3a36862f6006cef\", \"department\": \"Lighting\", \"gender\": 0, \"id\": 1447626, \"job\": \"Gaffer\", \"name\": \"Harold Skinner\"}, {\"credit_id\": \"55191a339251415aab002021\", \"department\": \"Lighting\", \"gender\": 0, \"id\": 1447627, \"job\": \"Gaffer\", \"name\": \"Martin Keough\"}, {\"credit_id\": \"55191ae5c3a3684b6b002384\", \"department\": \"Costume & Make-Up\", \"gender\": 0, \"id\": 1447628, \"job\": \"Set Costumer\", \"name\": \"Mark Avery\"}, {\"credit_id\": \"55191afdc3a3684bd8002242\", \"department\": \"Costume & Make-Up\", \"gender\": 0, \"id\": 1447632, \"job\": \"Set Costumer\", \"name\": \"Leigh Bell\"}, {\"credit_id\": \"55191b4d925141731c002ab7\", \"department\": \"Costume & Make-Up\", \"gender\": 0, \"id\": 1447633, \"job\": \"Set Costumer\", \"name\": \"Kelly Porter\"}, {\"credit_id\": \"55191bff9251412b6d0055c5\", \"department\": \"Production\", \"gender\": 0, \"id\": 1447636, \"job\": \"Location Manager\", \"name\": \"Bruce L. Brownstein\"}, {\"credit_id\": \"572f6ce19251413c2700139c\", \"department\": \"Sound\", \"gender\": 0, \"id\": 1463824, \"job\": \"Music\", \"name\": \"Frank Macchia\"}, {\"credit_id\": \"56d871f2c3a3681e4a01edad\", \"department\": \"Production\", \"gender\": 0, \"id\": 1463954, \"job\": \"Casting\", \"name\": \"Dixie Webster\"}, {\"credit_id\": \"56b7820fc3a3684816007221\", \"department\": \"Production\", \"gender\": 0, \"id\": 1564997, \"job\": \"Executive In Charge Of Production\", \"name\": \"Mark Scoon\"}, {\"credit_id\": \"5766ccabc3a36863cc000701\", \"department\": \"Crew\", \"gender\": 0, \"id\": 1571601, \"job\": \"Post Production Supervisor\", \"name\": \"David E. Hall\"}, {\"credit_id\": \"56bd046c9251417353000b2f\", \"department\": \"Crew\", \"gender\": 0, \"id\": 1576050, \"job\": \"Production Office Assistant\", \"name\": \"Frank Reina\"}, {\"credit_id\": \"572cd0a5c3a3680ff900052e\", \"department\": \"Sound\", \"gender\": 2, \"id\": 1616082, \"job\": \"Orchestrator\", \"name\": \"Andrew Kinney\"}]",
         "7.809532571920852",
         "0.9139705547348109",
         "0.826794413761895",
         "0.870382484248353"
        ],
        [
         "546",
         "74000000",
         "[{\"id\": 10751, \"name\": \"Family\"}, {\"id\": 16, \"name\": \"Animation\"}, {\"id\": 12, \"name\": \"Adventure\"}, {\"id\": 35, \"name\": \"Comedy\"}]",
         "211672",
         "[{\"id\": 3487, \"name\": \"assistant\"}, {\"id\": 179430, \"name\": \"aftercreditsstinger\"}, {\"id\": 179431, \"name\": \"duringcreditsstinger\"}, {\"id\": 189481, \"name\": \"evil mastermind\"}, {\"id\": 190999, \"name\": \"minions\"}, {\"id\": 209714, \"name\": \"3d\"}]",
         "en",
         "Minions",
         "Minions Stuart, Kevin and Bob are recruited by Scarlet Overkill, a super-villain who, alongside her inventor husband Herb, hatches a plot to take over the world.",
         "875.581305",
         "[{\"name\": \"Universal Pictures\", \"id\": 33}, {\"name\": \"Illumination Entertainment\", \"id\": 6704}]",
         "2015-06-17",
         "1156730962",
         "91.0",
         "[{\"iso_639_1\": \"en\", \"name\": \"English\"}]",
         "Before Gru, they had a history of bad bosses",
         "6.4",
         "4571",
         "[{\"cast_id\": 22, \"character\": \"Scarlet Overkill (voice)\", \"credit_id\": \"54cd4a5d9251414755001dae\", \"gender\": 1, \"id\": 18277, \"name\": \"Sandra Bullock\", \"order\": 0}, {\"cast_id\": 24, \"character\": \"Herb Overkill (voice)\", \"credit_id\": \"54cd4aa9c3a3687f84001f92\", \"gender\": 2, \"id\": 65717, \"name\": \"Jon Hamm\", \"order\": 1}, {\"cast_id\": 28, \"character\": \"Walter Nelson (voice)\", \"credit_id\": \"55440dda92514119e00000d1\", \"gender\": 2, \"id\": 2232, \"name\": \"Michael Keaton\", \"order\": 2}, {\"cast_id\": 29, \"character\": \"Madge Nelson (voice)\", \"credit_id\": \"55440de3c3a3680cdf002c7f\", \"gender\": 1, \"id\": 19, \"name\": \"Allison Janney\", \"order\": 3}, {\"cast_id\": 31, \"character\": \"Professor Flux / Tower Guard (voice)\", \"credit_id\": \"55440dfcc3a3680cd5002c8a\", \"gender\": 2, \"id\": 4581, \"name\": \"Steve Coogan\", \"order\": 4}, {\"cast_id\": 33, \"character\": \"Reine Elizabeth II (voice)\", \"credit_id\": \"55440e27925141586d002aac\", \"gender\": 1, \"id\": 12094, \"name\": \"Jennifer Saunders\", \"order\": 5}, {\"cast_id\": 34, \"character\": \"Narrator (voice)\", \"credit_id\": \"559ab87bc3a3685f80004100\", \"gender\": 2, \"id\": 118, \"name\": \"Geoffrey Rush\", \"order\": 6}, {\"cast_id\": 35, \"character\": \"Gru (voice)\", \"credit_id\": \"559ab891c3a36855db0052fe\", \"gender\": 2, \"id\": 4495, \"name\": \"Steve Carell\", \"order\": 7}, {\"cast_id\": 12, \"character\": \"Stuart, Kevin and Bob (voices)\", \"credit_id\": \"5431b260c3a36831a6003d9b\", \"gender\": 2, \"id\": 124747, \"name\": \"Pierre Coffin\", \"order\": 8}, {\"cast_id\": 30, \"character\": \"Tina (voice)\", \"credit_id\": \"55440df09251414c920003be\", \"gender\": 1, \"id\": 59450, \"name\": \"Katy Mixon\", \"order\": 9}, {\"cast_id\": 36, \"character\": \"VNC Announcer / Walter Jr. (voice)\", \"credit_id\": \"559ab8b69251413d96005590\", \"gender\": 2, \"id\": 73476, \"name\": \"Michael Beattie\", \"order\": 10}, {\"cast_id\": 32, \"character\": \"Sumo (voice)\", \"credit_id\": \"55440e149251415865002c8e\", \"gender\": 0, \"id\": 9195, \"name\": \"Hiroyuki Sanada\", \"order\": 11}, {\"cast_id\": 37, \"character\": \"Fabrice (voice)\", \"credit_id\": \"559ab8c7c3a3685f8000410a\", \"gender\": 0, \"id\": 1265060, \"name\": \"Dave Rosenbaum\", \"order\": 12}, {\"cast_id\": 38, \"character\": \"Royal Advisor (voice)\", \"credit_id\": \"562cbfad92514128570073d8\", \"gender\": 0, \"id\": 1526863, \"name\": \"Alex Dowding\", \"order\": 13}, {\"cast_id\": 39, \"character\": \"News Reporter (voice)\", \"credit_id\": \"562cbfbb9251410a2200334c\", \"gender\": 0, \"id\": 192922, \"name\": \"Paul Thornley\", \"order\": 14}, {\"cast_id\": 42, \"character\": \"Additional Voices (voice)\", \"credit_id\": \"5722a97a9251413eaf000b9f\", \"gender\": 0, \"id\": 8023, \"name\": \"Kyle Balda\", \"order\": 15}, {\"cast_id\": 43, \"character\": \"Additional Voices (voice)\", \"credit_id\": \"5916d39f925141061e02700a\", \"gender\": 1, \"id\": 1340664, \"name\": \"Ava Acres\", \"order\": 16}]",
         "[{\"credit_id\": \"5431b2b10e0a2656e20026c7\", \"department\": \"Production\", \"gender\": 2, \"id\": 5720, \"job\": \"Producer\", \"name\": \"Christopher Meledandri\"}, {\"credit_id\": \"53ccb8edc3a368776a002323\", \"department\": \"Directing\", \"gender\": 0, \"id\": 8023, \"job\": \"Director\", \"name\": \"Kyle Balda\"}, {\"credit_id\": \"5431b2870e0a2658b200266b\", \"department\": \"Writing\", \"gender\": 2, \"id\": 52360, \"job\": \"Characters\", \"name\": \"Ken Daurio\"}, {\"credit_id\": \"5431b2990e0a265915002677\", \"department\": \"Writing\", \"gender\": 2, \"id\": 52361, \"job\": \"Characters\", \"name\": \"Cinco Paul\"}, {\"credit_id\": \"563b5dc9c3a3681b5c0264db\", \"department\": \"Sound\", \"gender\": 2, \"id\": 59706, \"job\": \"Original Music Composer\", \"name\": \"Heitor Pereira\"}, {\"credit_id\": \"5431b2a6c3a36811ef0026ed\", \"department\": \"Production\", \"gender\": 0, \"id\": 65674, \"job\": \"Producer\", \"name\": \"Janet Healy\"}, {\"credit_id\": \"53ccb8fcc3a3687775002425\", \"department\": \"Directing\", \"gender\": 2, \"id\": 124747, \"job\": \"Director\", \"name\": \"Pierre Coffin\"}, {\"credit_id\": \"5431b2bdc3a368117b002766\", \"department\": \"Production\", \"gender\": 0, \"id\": 124748, \"job\": \"Executive Producer\", \"name\": \"Chris Renaud\"}, {\"credit_id\": \"5431b28fc3a36831a6003da5\", \"department\": \"Writing\", \"gender\": 2, \"id\": 1024175, \"job\": \"Writer\", \"name\": \"Brian Lynch\"}, {\"credit_id\": \"553d5700c3a368784500d158\", \"department\": \"Crew\", \"gender\": 0, \"id\": 1447310, \"job\": \"Post Production Supervisor\", \"name\": \"Jeannine Berger\"}, {\"credit_id\": \"553ff1509251414aeb000014\", \"department\": \"Visual Effects\", \"gender\": 0, \"id\": 1447388, \"job\": \"Animation\", \"name\": \"Daniele Zannone\"}, {\"credit_id\": \"563b5e3fc3a3681b5e023403\", \"department\": \"Editing\", \"gender\": 0, \"id\": 1531911, \"job\": \"Editor\", \"name\": \"Claire Dodgson\"}]",
         "6.311719663949825",
         "0.3981408848710726",
         "1.0",
         "0.6990704424355363"
        ],
        [
         "94",
         "170000000",
         "[{\"id\": 28, \"name\": \"Action\"}, {\"id\": 878, \"name\": \"Science Fiction\"}, {\"id\": 12, \"name\": \"Adventure\"}]",
         "118340",
         "[{\"id\": 8828, \"name\": \"marvel comic\"}, {\"id\": 9831, \"name\": \"spaceship\"}, {\"id\": 9882, \"name\": \"space\"}, {\"id\": 12405, \"name\": \"outer space\"}, {\"id\": 13014, \"name\": \"orphan\"}, {\"id\": 175428, \"name\": \"adventurer\"}, {\"id\": 179430, \"name\": \"aftercreditsstinger\"}, {\"id\": 179431, \"name\": \"duringcreditsstinger\"}, {\"id\": 180547, \"name\": \"marvel cinematic universe\"}]",
         "en",
         "Guardians of the Galaxy",
         "Light years from Earth, 26 years after being abducted, Peter Quill finds himself the prime target of a manhunt after discovering an orb wanted by Ronan the Accuser.",
         "481.098624",
         "[{\"name\": \"Marvel Studios\", \"id\": 420}, {\"name\": \"Moving Picture Company (MPC)\", \"id\": 20478}, {\"name\": \"Bulletproof Cupid\", \"id\": 54850}, {\"name\": \"Revolution Sun Studios\", \"id\": 76043}]",
         "2014-07-30",
         "773328629",
         "121.0",
         "[{\"iso_639_1\": \"en\", \"name\": \"English\"}]",
         "All heroes start somewhere.",
         "7.9",
         "9742",
         "[{\"cast_id\": 1, \"character\": \"Peter Quill / Star-Lord\", \"credit_id\": \"52fe4bd5c3a36847f8215d01\", \"gender\": 2, \"id\": 73457, \"name\": \"Chris Pratt\", \"order\": 0}, {\"cast_id\": 10, \"character\": \"Gamora\", \"credit_id\": \"52fe4bd5c3a36847f8215d2d\", \"gender\": 1, \"id\": 8691, \"name\": \"Zoe Saldana\", \"order\": 1}, {\"cast_id\": 2, \"character\": \"Drax the Destroyer\", \"credit_id\": \"52fe4bd5c3a36847f8215d05\", \"gender\": 2, \"id\": 543530, \"name\": \"Dave Bautista\", \"order\": 2}, {\"cast_id\": 21, \"character\": \"Groot (voice)\", \"credit_id\": \"52fe4bd5c3a36847f8215d5b\", \"gender\": 2, \"id\": 12835, \"name\": \"Vin Diesel\", \"order\": 3}, {\"cast_id\": 23, \"character\": \"Rocket  Raccoon (voice)\", \"credit_id\": \"52fe4bd5c3a36847f8215d5f\", \"gender\": 2, \"id\": 51329, \"name\": \"Bradley Cooper\", \"order\": 4}, {\"cast_id\": 14, \"character\": \"Ronan the Accuser\", \"credit_id\": \"52fe4bd5c3a36847f8215d3d\", \"gender\": 2, \"id\": 72095, \"name\": \"Lee Pace\", \"order\": 5}, {\"cast_id\": 11, \"character\": \"Yondu Udonta\", \"credit_id\": \"52fe4bd5c3a36847f8215d31\", \"gender\": 2, \"id\": 12132, \"name\": \"Michael Rooker\", \"order\": 6}, {\"cast_id\": 18, \"character\": \"Nebula\", \"credit_id\": \"52fe4bd5c3a36847f8215d4f\", \"gender\": 1, \"id\": 543261, \"name\": \"Karen Gillan\", \"order\": 7}, {\"cast_id\": 25, \"character\": \"Korath\", \"credit_id\": \"5379f3efc3a3685531005ca7\", \"gender\": 2, \"id\": 938, \"name\": \"Djimon Hounsou\", \"order\": 8}, {\"cast_id\": 16, \"character\": \"Corpsman Dey\", \"credit_id\": \"52fe4bd5c3a36847f8215d47\", \"gender\": 2, \"id\": 4764, \"name\": \"John C. Reilly\", \"order\": 9}, {\"cast_id\": 17, \"character\": \"Nova Prime\", \"credit_id\": \"52fe4bd5c3a36847f8215d4b\", \"gender\": 1, \"id\": 515, \"name\": \"Glenn Close\", \"order\": 10}, {\"cast_id\": 19, \"character\": \"The Collector\", \"credit_id\": \"52fe4bd5c3a36847f8215d53\", \"gender\": 2, \"id\": 1121, \"name\": \"Benicio del Toro\", \"order\": 11}, {\"cast_id\": 125, \"character\": \"Young Quill\", \"credit_id\": \"549fea939251414d2700562f\", \"gender\": 2, \"id\": 1148455, \"name\": \"Wyatt Oleff\", \"order\": 12}, {\"cast_id\": 26, \"character\": \"Thanos\", \"credit_id\": \"538ce200c3a368715500332b\", \"gender\": 2, \"id\": 16851, \"name\": \"Josh Brolin\", \"order\": 13}, {\"cast_id\": 46, \"character\": \"Kraglin / On Set Rocket\", \"credit_id\": \"53e86af8c3a3683999003281\", \"gender\": 2, \"id\": 51663, \"name\": \"Sean Gunn\", \"order\": 14}, {\"cast_id\": 48, \"character\": \"The Other\", \"credit_id\": \"53e86b93c3a3683999003289\", \"gender\": 2, \"id\": 1214673, \"name\": \"Alexis Denisof\", \"order\": 15}, {\"cast_id\": 148, \"character\": \"Carina\", \"credit_id\": \"54a0779a925141312300b3d4\", \"gender\": 1, \"id\": 82639, \"name\": \"Ophelia Lovibond\", \"order\": 16}, {\"cast_id\": 43, \"character\": \"Denarian Saal\", \"credit_id\": \"53daa6fec3a36872b10002e0\", \"gender\": 2, \"id\": 11115, \"name\": \"Peter Serafinowicz\", \"order\": 17}, {\"cast_id\": 44, \"character\": \"Grandpa\", \"credit_id\": \"53daa707c3a36872b60002c9\", \"gender\": 2, \"id\": 2518, \"name\": \"Gregg Henry\", \"order\": 18}, {\"cast_id\": 27, \"character\": \"Meredith Quill\", \"credit_id\": \"538ce294c3a368715200336d\", \"gender\": 0, \"id\": 209578, \"name\": \"Laura Haddock\", \"order\": 19}, {\"cast_id\": 59, \"character\": \"Bereet\", \"credit_id\": \"545ed5770e0a262359000705\", \"gender\": 0, \"id\": 1133011, \"name\": \"Melia Kreiling\", \"order\": 20}, {\"cast_id\": 123, \"character\": \"The Broker\", \"credit_id\": \"549fe6dfc3a3685542007334\", \"gender\": 2, \"id\": 8399, \"name\": \"Christopher Fairbank\", \"order\": 21}, {\"cast_id\": 58, \"character\": \"Nova Prime's Assistant\", \"credit_id\": \"545ed5590e0a261fa6007d84\", \"gender\": 1, \"id\": 1363394, \"name\": \"Mikaela Hoover\", \"order\": 22}, {\"cast_id\": 150, \"character\": \"Pit Boss\", \"credit_id\": \"54a07a7fc3a368554200834a\", \"gender\": 0, \"id\": 1312266, \"name\": \"Marama Corlett\", \"order\": 23}, {\"cast_id\": 137, \"character\": \"Head Riot Guard\", \"credit_id\": \"54a0314cc3a3682f1e00ab42\", \"gender\": 0, \"id\": 1111204, \"name\": \"Emmett Scanlan\", \"order\": 24}, {\"cast_id\": 141, \"character\": \"Moloka Dar\", \"credit_id\": \"54a0380a9251412127001cb8\", \"gender\": 0, \"id\": 1211540, \"name\": \"Alexis Rodney\", \"order\": 25}, {\"cast_id\": 130, \"character\": \"Horuz\", \"credit_id\": \"54a00ef39251411d53004edf\", \"gender\": 2, \"id\": 95051, \"name\": \"Tom Proctor\", \"order\": 26}, {\"cast_id\": 139, \"character\": \"Mean Guard\", \"credit_id\": \"54a03398925141312900b4d3\", \"gender\": 0, \"id\": 25451, \"name\": \"Spencer Wilding\", \"order\": 27}, {\"cast_id\": 156, \"character\": \"Cosmo the Space Dog\", \"credit_id\": \"54a07ff2c3a3682f2100b4f4\", \"gender\": 0, \"id\": 1405553, \"name\": \"Fred\", \"order\": 28}, {\"cast_id\": 50, \"character\": \"Maskless Sakaaran\", \"credit_id\": \"53e86bc9c3a3683991003336\", \"gender\": 2, \"id\": 15218, \"name\": \"James Gunn\", \"order\": 29}, {\"cast_id\": 45, \"character\": \"Xandarian Ladies' Man\", \"credit_id\": \"53e69373c3a3684433001988\", \"gender\": 2, \"id\": 7624, \"name\": \"Stan Lee\", \"order\": 30}, {\"cast_id\": 157, \"character\": \"Knowhere Dispatcher\", \"credit_id\": \"54a080fdc3a368764f007808\", \"gender\": 2, \"id\": 85096, \"name\": \"Stephen Blackehart\", \"order\": 31}, {\"cast_id\": 161, \"character\": \"Nova Centurion\", \"credit_id\": \"54a086ec9251414e280066eb\", \"gender\": 1, \"id\": 1229414, \"name\": \"Naomi Ryan\", \"order\": 32}, {\"cast_id\": 170, \"character\": \"Prisoner (uncredited)\", \"credit_id\": \"54fed408c3a368150c001355\", \"gender\": 2, \"id\": 78021, \"name\": \"Lloyd Kaufman\", \"order\": 33}, {\"cast_id\": 47, \"character\": \"Monstrous Inmate (voice)\", \"credit_id\": \"53e86b84c3a368398d0032cc\", \"gender\": 2, \"id\": 51797, \"name\": \"Nathan Fillion\", \"order\": 34}, {\"cast_id\": 49, \"character\": \"Ravager Navigator (voice)\", \"credit_id\": \"53e86bbcc3a36839950032ed\", \"gender\": 2, \"id\": 16848, \"name\": \"Rob Zombie\", \"order\": 35}, {\"cast_id\": 51, \"character\": \"Ravager Pilot (uncredited)\", \"credit_id\": \"53e86bd9c3a36839950032f0\", \"gender\": 2, \"id\": 15221, \"name\": \"Tyler Bates\", \"order\": 36}, {\"cast_id\": 52, \"character\": \"Howard the Duck (voice) (uncredited)\", \"credit_id\": \"53e86be7c3a36839950032f2\", \"gender\": 2, \"id\": 13922, \"name\": \"Seth Green\", \"order\": 37}, {\"cast_id\": 124, \"character\": \"On Set Groot\", \"credit_id\": \"549fe9619251414d270055fc\", \"gender\": 0, \"id\": 1405259, \"name\": \"Krystian Godlewski\", \"order\": 38}, {\"cast_id\": 126, \"character\": \"Meredith's Mother\", \"credit_id\": \"549febc5925141212700150a\", \"gender\": 0, \"id\": 1405269, \"name\": \"Janis Ahern\", \"order\": 39}, {\"cast_id\": 127, \"character\": \"Meredith's Brother\", \"credit_id\": \"54a00ac09251414e28005b42\", \"gender\": 0, \"id\": 1405309, \"name\": \"Solomon Mousley\", \"order\": 40}, {\"cast_id\": 128, \"character\": \"Meredith's Best Friend\", \"credit_id\": \"54a00bc3925141313200a5db\", \"gender\": 0, \"id\": 1405311, \"name\": \"Lindsay Morton\", \"order\": 41}, {\"cast_id\": 129, \"character\": \"Dr. Fitzgibbon\", \"credit_id\": \"54a00d1fc3a3680b270091bd\", \"gender\": 0, \"id\": 1405317, \"name\": \"Robert Firth\", \"order\": 42}, {\"cast_id\": 131, \"character\": \"Horuz' Mate\", \"credit_id\": \"54a01128c3a36851ce001776\", \"gender\": 0, \"id\": 1237281, \"name\": \"Nick Holmes\", \"order\": 43}, {\"cast_id\": 132, \"character\": \"Sacrificed Nova Corpsman\", \"credit_id\": \"54a029bbc3a368764f006e56\", \"gender\": 0, \"id\": 1202683, \"name\": \"Max Wrottesley\", \"order\": 44}, {\"cast_id\": 133, \"character\": \"Pretty Xandarian\", \"credit_id\": \"54a02c8ec3a3680b27009498\", \"gender\": 1, \"id\": 1186515, \"name\": \"Nicole Alexandra Shipley\", \"order\": 45}, {\"cast_id\": 134, \"character\": \"Nova Arresting Pilot\", \"credit_id\": \"54a02d27c3a3682f1e00aaa4\", \"gender\": 2, \"id\": 1211966, \"name\": \"Sharif Atkins\", \"order\": 46}, {\"cast_id\": 135, \"character\": \"Corpsman Dey's Partner\", \"credit_id\": \"54a02d99925141312900b3e3\", \"gender\": 2, \"id\": 72440, \"name\": \"Brendan Fehr\", \"order\": 47}, {\"cast_id\": 147, \"character\": \"'Drop the Leg' Guard\", \"credit_id\": \"54a0774a9251414d27006285\", \"gender\": 2, \"id\": 1132153, \"name\": \"Ronan Summers\", \"order\": 48}, {\"cast_id\": 136, \"character\": \"Kree Ambassador\", \"credit_id\": \"54a02e01c3a3682f2300aeb9\", \"gender\": 2, \"id\": 941, \"name\": \"Tomas Arana\", \"order\": 49}, {\"cast_id\": 138, \"character\": \"Angry Guard\", \"credit_id\": \"54a0327f925141313200aa57\", \"gender\": 0, \"id\": 1405441, \"name\": \"Dominic Grant\", \"order\": 50}, {\"cast_id\": 140, \"character\": \"Sad Woman with Horns\", \"credit_id\": \"54a03441c3a3682f1e00ab93\", \"gender\": 1, \"id\": 1405444, \"name\": \"Alison Lintott\", \"order\": 51}, {\"cast_id\": 142, \"character\": \"Mottled Prisoner\", \"credit_id\": \"54a039f2c3a3682f2100ae25\", \"gender\": 0, \"id\": 1234991, \"name\": \"Keeley Forsyth\", \"order\": 52}, {\"cast_id\": 143, \"character\": \"Burly Prisoner\", \"credit_id\": \"54a03a679251414d27005dca\", \"gender\": 0, \"id\": 1405453, \"name\": \"Frank Gilhooley\", \"order\": 53}, {\"cast_id\": 144, \"character\": \"Watchtower Guard\", \"credit_id\": \"54a0735c9251414e28006577\", \"gender\": 2, \"id\": 91494, \"name\": \"Enzo Cilenti\", \"order\": 54}, {\"cast_id\": 145, \"character\": \"One Legged Prisoner\", \"credit_id\": \"54a07477c3a368764f0076cc\", \"gender\": 0, \"id\": 25679, \"name\": \"Richard Katz\", \"order\": 55}, {\"cast_id\": 146, \"character\": \"Rifle Guard\", \"credit_id\": \"54a0756e9251414e280065a8\", \"gender\": 0, \"id\": 56617, \"name\": \"Enoch Frost\", \"order\": 56}, {\"cast_id\": 149, \"character\": \"Tortured Pink Girl\", \"credit_id\": \"54a07965c3a36851ce0020f2\", \"gender\": 1, \"id\": 59286, \"name\": \"Laura Ortiz\", \"order\": 57}, {\"cast_id\": 151, \"character\": \"Lady of the Boot of Jemiah\", \"credit_id\": \"54a07b95925141236b002366\", \"gender\": 0, \"id\": 1405537, \"name\": \"Rosie Jones\", \"order\": 58}, {\"cast_id\": 152, \"character\": \"Lady of the Boot of Jemiah\", \"credit_id\": \"54a07c66c3a36851ce002127\", \"gender\": 0, \"id\": 1405538, \"name\": \"Abidemi Sobande\", \"order\": 59}, {\"cast_id\": 153, \"character\": \"Lady of the Boot of Jemiah\", \"credit_id\": \"54a07d19c3a3680b27009bc3\", \"gender\": 0, \"id\": 1405540, \"name\": \"Alex Rose\", \"order\": 60}, {\"cast_id\": 154, \"character\": \"Lady of the Boot of Jemiah\", \"credit_id\": \"54a07e83c3a3682f1b00b2d9\", \"gender\": 0, \"id\": 1394341, \"name\": \"Ekaterina Zalitko\", \"order\": 61}, {\"cast_id\": 155, \"character\": \"Lady of the Boot of Jemiah\", \"credit_id\": \"54a07f1d925141236b0023c7\", \"gender\": 0, \"id\": 1405552, \"name\": \"Emily Redding\", \"order\": 62}, {\"cast_id\": 158, \"character\": \"Sad Krylorian Girl\", \"credit_id\": \"54a0818f9251414d27006347\", \"gender\": 0, \"id\": 1405554, \"name\": \"Jennifer Moylan-Taylor\", \"order\": 63}, {\"cast_id\": 159, \"character\": \"One-Eyed Ravager\", \"credit_id\": \"54a0835ac3a3682f2300b6f0\", \"gender\": 0, \"id\": 1227575, \"name\": \"Bruce Mackinnon\", \"order\": 64}, {\"cast_id\": 160, \"character\": \"Ravager Pilot\", \"credit_id\": \"54a08496c3a3682f1e00b2e6\", \"gender\": 2, \"id\": 202032, \"name\": \"Ralph Ineson\", \"order\": 65}, {\"cast_id\": 162, \"character\": \"Nova Starblaster Pilot\", \"credit_id\": \"54a08810c3a3682f2100b584\", \"gender\": 2, \"id\": 222906, \"name\": \"John Brotherton\", \"order\": 66}, {\"cast_id\": 163, \"character\": \"Alien Nova Pilot\", \"credit_id\": \"54a08a3b9251414e28006738\", \"gender\": 2, \"id\": 92615, \"name\": \"Graham Shiels\", \"order\": 67}, {\"cast_id\": 164, \"character\": \"Maskless Sakaaran\", \"credit_id\": \"54a08ca5925141312900bde9\", \"gender\": 0, \"id\": 1405566, \"name\": \"Douglas Robson\", \"order\": 68}, {\"cast_id\": 165, \"character\": \"Corpsman Dey's Wife\", \"credit_id\": \"54a08e7ec3a368764f00793a\", \"gender\": 0, \"id\": 1405567, \"name\": \"Rachel Cullen\", \"order\": 69}, {\"cast_id\": 166, \"character\": \"Corpsman Dey's Daughter\", \"credit_id\": \"54a08eb59251411d53005b46\", \"gender\": 0, \"id\": 1405570, \"name\": \"Isabella Poynton\", \"order\": 70}, {\"cast_id\": 167, \"character\": \"Corpsman Dey's Daughter\", \"credit_id\": \"54a08f109251414e28006781\", \"gender\": 0, \"id\": 1405571, \"name\": \"Imogen Poynton\", \"order\": 71}, {\"cast_id\": 168, \"character\": \"Goth Ravager\", \"credit_id\": \"54a090c09251411d53005b6a\", \"gender\": 0, \"id\": 1362815, \"name\": \"David Yarovesky\", \"order\": 72}, {\"cast_id\": 169, \"character\": \"Crying Xandarian Citizen\", \"credit_id\": \"54a0918d925141313200b2f7\", \"gender\": 0, \"id\": 1283880, \"name\": \"Miriam Lucia\", \"order\": 73}, {\"cast_id\": 182, \"character\": \"Ravager (uncredited)\", \"credit_id\": \"55e3f713c3a3684188002cf6\", \"gender\": 0, \"id\": 1502373, \"name\": \"Raed Abbas\", \"order\": 74}, {\"cast_id\": 183, \"character\": \"Traveller (uncredited)\", \"credit_id\": \"55e3f71392514137e6002f3a\", \"gender\": 0, \"id\": 1502374, \"name\": \"Freddie Andrews\", \"order\": 75}, {\"cast_id\": 184, \"character\": \"Kyln Prisoner (uncredited)\", \"credit_id\": \"55e3f714c3a3684191003464\", \"gender\": 2, \"id\": 1388891, \"name\": \"Jozef Aoki\", \"order\": 76}, {\"cast_id\": 185, \"character\": \"Prisoner (uncredited)\", \"credit_id\": \"55e3f71492514137dd002ef9\", \"gender\": 0, \"id\": 1502375, \"name\": \"Helen Banks\", \"order\": 77}, {\"cast_id\": 196, \"character\": \"Peter Quill's Aunt (uncredited)\", \"credit_id\": \"59994844c3a3686dce00ca3e\", \"gender\": 0, \"id\": 1873059, \"name\": \"Marianna Dean\", \"order\": 78}, {\"cast_id\": 197, \"character\": \"Xandar Resident (uncredited)\", \"credit_id\": \"59994906c3a3686dce00cafa\", \"gender\": 1, \"id\": 1744089, \"name\": \"Erica Melargo\", \"order\": 79}]",
         "[{\"credit_id\": \"538ce329c3a3687155003358\", \"department\": \"Editing\", \"gender\": 2, \"id\": 1722, \"job\": \"Editor\", \"name\": \"Craig Wood\"}, {\"credit_id\": \"54730f39c3a36822ba001063\", \"department\": \"Sound\", \"gender\": 0, \"id\": 900, \"job\": \"Supervising Sound Editor\", \"name\": \"Christopher Boyes\"}, {\"credit_id\": \"54730f4dc3a368058e001624\", \"department\": \"Sound\", \"gender\": 0, \"id\": 900, \"job\": \"Sound Re-Recording Mixer\", \"name\": \"Christopher Boyes\"}, {\"credit_id\": \"52fe4bd5c3a36847f8215d11\", \"department\": \"Production\", \"gender\": 1, \"id\": 7232, \"job\": \"Casting\", \"name\": \"Sarah Finn\"}, {\"credit_id\": \"564f20089251414af9003753\", \"department\": \"Sound\", \"gender\": 0, \"id\": 5338, \"job\": \"Sound Effects Editor\", \"name\": \"Kyrsten Mate\"}, {\"credit_id\": \"53e86cc5c3a368398d0032e4\", \"department\": \"Production\", \"gender\": 2, \"id\": 7624, \"job\": \"Executive Producer\", \"name\": \"Stan Lee\"}, {\"credit_id\": \"52fe4bd5c3a36847f8215d23\", \"department\": \"Production\", \"gender\": 2, \"id\": 10850, \"job\": \"Producer\", \"name\": \"Kevin Feige\"}, {\"credit_id\": \"54731053c3a368058e00163c\", \"department\": \"Sound\", \"gender\": 0, \"id\": 8160, \"job\": \"Foley\", \"name\": \"Dennie Thorpe\"}, {\"credit_id\": \"547310689251415cfc00225e\", \"department\": \"Sound\", \"gender\": 0, \"id\": 8163, \"job\": \"Foley\", \"name\": \"Jana Vance\"}, {\"credit_id\": \"538ce38dc3a368714e003366\", \"department\": \"Art\", \"gender\": 2, \"id\": 8410, \"job\": \"Set Decoration\", \"name\": \"Richard Roberts\"}, {\"credit_id\": \"54730b7ec3a36833ad00324b\", \"department\": \"Art\", \"gender\": 2, \"id\": 10788, \"job\": \"Set Designer\", \"name\": \"Steven Lawrence\"}, {\"credit_id\": \"538ce37bc3a368714b00339d\", \"department\": \"Costume & Make-Up\", \"gender\": 1, \"id\": 13009, \"job\": \"Costume Design\", \"name\": \"Alexandra Byrne\"}, {\"credit_id\": \"52fe4bd5c3a36847f8215d65\", \"department\": \"Writing\", \"gender\": 2, \"id\": 15218, \"job\": \"Screenplay\", \"name\": \"James Gunn\"}, {\"credit_id\": \"52fe4bd5c3a36847f8215d0b\", \"department\": \"Directing\", \"gender\": 2, \"id\": 15218, \"job\": \"Director\", \"name\": \"James Gunn\"}, {\"credit_id\": \"538ce2f6c3a368713f00338b\", \"department\": \"Sound\", \"gender\": 2, \"id\": 15221, \"job\": \"Original Music Composer\", \"name\": \"Tyler Bates\"}, {\"credit_id\": \"5473151c9251415cfc002302\", \"department\": \"Sound\", \"gender\": 0, \"id\": 15225, \"job\": \"Music Editor\", \"name\": \"Darrell Hall\"}, {\"credit_id\": \"538ce319c3a36871430032bc\", \"department\": \"Editing\", \"gender\": 2, \"id\": 20649, \"job\": \"Editor\", \"name\": \"Hughes Winborne\"}, {\"credit_id\": \"538ce2e1c3a3687146003507\", \"department\": \"Camera\", \"gender\": 2, \"id\": 22161, \"job\": \"Director of Photography\", \"name\": \"Ben Davis\"}, {\"credit_id\": \"54730a3a925141196b001648\", \"department\": \"Costume & Make-Up\", \"gender\": 1, \"id\": 23787, \"job\": \"Makeup Department Head\", \"name\": \"Deborah La Mia Denaver\"}, {\"credit_id\": \"56346fcb925141284c016fd5\", \"department\": \"Sound\", \"gender\": 2, \"id\": 24192, \"job\": \"Music Supervisor\", \"name\": \"Dave Jordan\"}, {\"credit_id\": \"56346f1fc3a3681b4b01594d\", \"department\": \"Art\", \"gender\": 2, \"id\": 32349, \"job\": \"Production Design\", \"name\": \"Charles Wood\"}, {\"credit_id\": \"5886565692514113ea0013c2\", \"department\": \"Art\", \"gender\": 1, \"id\": 36938, \"job\": \"Sculptor\", \"name\": \"Mimsy Farmer\"}, {\"credit_id\": \"538ce5b2c3a36871430032f6\", \"department\": \"Sound\", \"gender\": 0, \"id\": 55227, \"job\": \"Sound mixer\", \"name\": \"William B. Kaplan\"}, {\"credit_id\": \"53e86ca3c3a36839950032fb\", \"department\": \"Production\", \"gender\": 2, \"id\": 57027, \"job\": \"Executive Producer\", \"name\": \"Louis D'Esposito\"}, {\"credit_id\": \"538ce304c3a3687155003351\", \"department\": \"Editing\", \"gender\": 2, \"id\": 58194, \"job\": \"Editor\", \"name\": \"Fred Raskin\"}, {\"credit_id\": \"53e86cb4c3a3683991003343\", \"department\": \"Production\", \"gender\": 2, \"id\": 113672, \"job\": \"Executive Producer\", \"name\": \"Alan Fine\"}, {\"credit_id\": \"52fe4bd5c3a36847f8215d1d\", \"department\": \"Production\", \"gender\": 0, \"id\": 113674, \"job\": \"Executive Producer\", \"name\": \"Victoria Alonso\"}, {\"credit_id\": \"52fe4bd5c3a36847f8215d29\", \"department\": \"Production\", \"gender\": 0, \"id\": 113675, \"job\": \"Executive Producer\", \"name\": \"Jeremy Latcham\"}, {\"credit_id\": \"54730f93925141196b0016eb\", \"department\": \"Sound\", \"gender\": 2, \"id\": 71536, \"job\": \"Supervising Sound Editor\", \"name\": \"Matthew Wood\"}, {\"credit_id\": \"54730e71c3a36822ba00103e\", \"department\": \"Art\", \"gender\": 2, \"id\": 98681, \"job\": \"Sculptor\", \"name\": \"Todd Rex\"}, {\"credit_id\": \"53e86c75c3a368398d0032de\", \"department\": \"Writing\", \"gender\": 2, \"id\": 145170, \"job\": \"Characters\", \"name\": \"Dan Abnett\"}, {\"credit_id\": \"52fe4bd5c3a36847f8215d17\", \"department\": \"Art\", \"gender\": 2, \"id\": 983309, \"job\": \"Art Direction\", \"name\": \"Mike Stallion\"}, {\"credit_id\": \"538ce362c3a36871430032c8\", \"department\": \"Production\", \"gender\": 0, \"id\": 1018073, \"job\": \"Casting\", \"name\": \"Reg Poerscout-Edgerton\"}, {\"credit_id\": \"5473191e9251415cfc00235a\", \"department\": \"Camera\", \"gender\": 2, \"id\": 1126962, \"job\": \"Camera Operator\", \"name\": \"Nathan Levine-Heaney\"}, {\"credit_id\": \"52fe4bd5c3a36847f8215d43\", \"department\": \"Writing\", \"gender\": 1, \"id\": 1171123, \"job\": \"Screenplay\", \"name\": \"Nicole Perlman\"}, {\"credit_id\": \"5473199bc3a3682cbe00003e\", \"department\": \"Camera\", \"gender\": 0, \"id\": 1189807, \"job\": \"Camera Operator\", \"name\": \"Tim Wooster\"}, {\"credit_id\": \"54730ee2c3a36811820026bf\", \"department\": \"Sound\", \"gender\": 0, \"id\": 1235786, \"job\": \"Sound Designer\", \"name\": \"David Acord\"}, {\"credit_id\": \"547314ab925141196b00177e\", \"department\": \"Costume & Make-Up\", \"gender\": 0, \"id\": 1322147, \"job\": \"Costume Supervisor\", \"name\": \"Dan Grace\"}, {\"credit_id\": \"538ce4dbc3a368715200339d\", \"department\": \"Visual Effects\", \"gender\": 0, \"id\": 1327025, \"job\": \"Visual Effects Supervisor\", \"name\": \"Stephane Ceretti\"}, {\"credit_id\": \"538ce4edc3a368713f0033c4\", \"department\": \"Visual Effects\", \"gender\": 0, \"id\": 1327026, \"job\": \"Visual Effects Supervisor\", \"name\": \"Nicolas Aithadi\"}, {\"credit_id\": \"538ce507c3a36871430032e6\", \"department\": \"Visual Effects\", \"gender\": 0, \"id\": 1327027, \"job\": \"Visual Effects Supervisor\", \"name\": \"Vincent Cirelli\"}, {\"credit_id\": \"538ce514c3a368713f0033cd\", \"department\": \"Visual Effects\", \"gender\": 0, \"id\": 1327028, \"job\": \"Visual Effects Supervisor\", \"name\": \"Jonathan Fawkner\"}, {\"credit_id\": \"538ce56ac3a36871430032ef\", \"department\": \"Sound\", \"gender\": 2, \"id\": 1327029, \"job\": \"Production Sound Mixer\", \"name\": \"Simon Hayes\"}, {\"credit_id\": \"538ce57bc3a3687146003549\", \"department\": \"Sound\", \"gender\": 0, \"id\": 1327030, \"job\": \"Sound Re-Recording Mixer\", \"name\": \"Lora Hirschberg\"}, {\"credit_id\": \"54730d92c3a36833ad003281\", \"department\": \"Crew\", \"gender\": 0, \"id\": 1334429, \"job\": \"Property Master\", \"name\": \"Barry Gibbs\"}, {\"credit_id\": \"547311c292514147d7000919\", \"department\": \"Visual Effects\", \"gender\": 0, \"id\": 1335882, \"job\": \"Visual Effects Producer\", \"name\": \"Kerstin Kensy\"}, {\"credit_id\": \"54731302c3a3681182002738\", \"department\": \"Visual Effects\", \"gender\": 0, \"id\": 1345606, \"job\": \"Visual Effects Producer\", \"name\": \"Lily Shapiro\"}, {\"credit_id\": \"53e86c7fc3a368399c003276\", \"department\": \"Writing\", \"gender\": 2, \"id\": 1352034, \"job\": \"Characters\", \"name\": \"Andy Lanning\"}, {\"credit_id\": \"54730e9292514120b400187d\", \"department\": \"Art\", \"gender\": 0, \"id\": 1355530, \"job\": \"Sculptor\", \"name\": \"Cuitlahuac Morales Velazquez\"}, {\"credit_id\": \"547317afc3a36812de0000b9\", \"department\": \"Costume & Make-Up\", \"gender\": 0, \"id\": 1368883, \"job\": \"Set Costumer\", \"name\": \"Joshua Coleman\"}, {\"credit_id\": \"54730d01c3a368682f00049e\", \"department\": \"Art\", \"gender\": 0, \"id\": 1373698, \"job\": \"Assistant Art Director\", \"name\": \"Stephen Swain\"}, {\"credit_id\": \"54730db8c3a3682c55000c83\", \"department\": \"Art\", \"gender\": 0, \"id\": 1373703, \"job\": \"Set Designer\", \"name\": \"Robert Hochstoeger\"}, {\"credit_id\": \"547310329251412e250009ad\", \"department\": \"Editing\", \"gender\": 0, \"id\": 1376899, \"job\": \"Dialogue Editor\", \"name\": \"Cheryl Nardi\"}, {\"credit_id\": \"5473145dc3a3683703000732\", \"department\": \"Camera\", \"gender\": 0, \"id\": 1380002, \"job\": \"Still Photographer\", \"name\": \"Jay Maidment\"}, {\"credit_id\": \"54730a91c3a368682f00044e\", \"department\": \"Art\", \"gender\": 0, \"id\": 1388848, \"job\": \"Assistant Art Director\", \"name\": \"Jim Barr\"}, {\"credit_id\": \"54730ab9c3a368734b000830\", \"department\": \"Art\", \"gender\": 2, \"id\": 1388849, \"job\": \"Construction Coordinator\", \"name\": \"Hugh Conlon\"}, {\"credit_id\": \"54730ae192514120b4001808\", \"department\": \"Art\", \"gender\": 0, \"id\": 1388850, \"job\": \"Assistant Art Director\", \"name\": \"Peter Dorme\"}, {\"credit_id\": \"54730afbc3a368682f000460\", \"department\": \"Art\", \"gender\": 0, \"id\": 1388851, \"job\": \"Assistant Art Director\", \"name\": \"Oliver Goodier\"}, {\"credit_id\": \"54730b46c3a368058e0015c2\", \"department\": \"Art\", \"gender\": 0, \"id\": 1388852, \"job\": \"Set Designer\", \"name\": \"Gregory Fangeaux\"}, {\"credit_id\": \"54730bac925141196b001675\", \"department\": \"Art\", \"gender\": 0, \"id\": 1388855, \"job\": \"Set Designer\", \"name\": \"Matthew Robinson\"}, {\"credit_id\": \"54730cd09251412e25000956\", \"department\": \"Art\", \"gender\": 0, \"id\": 1388860, \"job\": \"Set Designer\", \"name\": \"Matt Sims\"}, {\"credit_id\": \"54730de69251416dc3001776\", \"department\": \"Crew\", \"gender\": 0, \"id\": 1388862, \"job\": \"Property Master\", \"name\": \"Sean Mannion\"}, {\"credit_id\": \"54730e3992514120b4001870\", \"department\": \"Art\", \"gender\": 0, \"id\": 1388863, \"job\": \"Sculptor\", \"name\": \"Brian Muir\"}, {\"credit_id\": \"54730fb6925141196b0016f3\", \"department\": \"Editing\", \"gender\": 0, \"id\": 1388864, \"job\": \"Dialogue Editor\", \"name\": \"Brad Semenoff\"}, {\"credit_id\": \"54730fefc3a368734b0008cc\", \"department\": \"Sound\", \"gender\": 0, \"id\": 1388865, \"job\": \"Sound Effects Editor\", \"name\": \"David Chrastka\"}, {\"credit_id\": \"5473115592514120b40018cf\", \"department\": \"Visual Effects\", \"gender\": 0, \"id\": 1388867, \"job\": \"Visual Effects Producer\", \"name\": \"Gracie Edscer\"}, {\"credit_id\": \"54731225c3a368734b000906\", \"department\": \"Visual Effects\", \"gender\": 0, \"id\": 1388869, \"job\": \"Visual Effects Producer\", \"name\": \"Richard Ollosson\"}, {\"credit_id\": \"5473124a9251413a5d0041f8\", \"department\": \"Visual Effects\", \"gender\": 0, \"id\": 1388870, \"job\": \"Visual Effects Producer\", \"name\": \"Allison Paul\"}, {\"credit_id\": \"547312739251415cfc00229c\", \"department\": \"Visual Effects\", \"gender\": 0, \"id\": 1388871, \"job\": \"Visual Effects Producer\", \"name\": \"Susan Pickett\"}, {\"credit_id\": \"547312bcc3a36822ba00109d\", \"department\": \"Visual Effects\", \"gender\": 0, \"id\": 1388872, \"job\": \"Visual Effects Supervisor\", \"name\": \"Katherine Rodtsbrooks\"}, {\"credit_id\": \"547312d69251415cfc0022af\", \"department\": \"Visual Effects\", \"gender\": 0, \"id\": 1388873, \"job\": \"Visual Effects Producer\", \"name\": \"Christoph Roth\"}, {\"credit_id\": \"5473131dc3a36833ad003313\", \"department\": \"Visual Effects\", \"gender\": 0, \"id\": 1388874, \"job\": \"Visual Effects Producer\", \"name\": \"Jennifer Silver\"}, {\"credit_id\": \"5473133bc3a36812de000047\", \"department\": \"Visual Effects\", \"gender\": 0, \"id\": 1388875, \"job\": \"Visual Effects Producer\", \"name\": \"Marianne Speight\"}, {\"credit_id\": \"5473137f92514147d7000945\", \"department\": \"Visual Effects\", \"gender\": 0, \"id\": 1388876, \"job\": \"Visual Effects Supervisor\", \"name\": \"Peter G. Travers\"}, {\"credit_id\": \"547313fe92514147d7000960\", \"department\": \"Crew\", \"gender\": 0, \"id\": 1388877, \"job\": \"Stunt Coordinator\", \"name\": \"Steve Dent\"}, {\"credit_id\": \"54731417c3a368058e0016a9\", \"department\": \"Crew\", \"gender\": 2, \"id\": 1388878, \"job\": \"Stunt Coordinator\", \"name\": \"Rowley Irlam\"}, {\"credit_id\": \"547315a7c3a368118200279b\", \"department\": \"Sound\", \"gender\": 0, \"id\": 1388879, \"job\": \"Music Editor\", \"name\": \"Will Kaplan\"}, {\"credit_id\": \"547315f19251416dc300180e\", \"department\": \"Crew\", \"gender\": 0, \"id\": 1388881, \"job\": \"Transportation Coordinator\", \"name\": \"Peter Devlin\"}, {\"credit_id\": \"5473168d9251415cfc002324\", \"department\": \"Crew\", \"gender\": 0, \"id\": 1388883, \"job\": \"Security\", \"name\": \"Mitul Patel\"}, {\"credit_id\": \"54731744925141196b0017da\", \"department\": \"Costume & Make-Up\", \"gender\": 0, \"id\": 1388887, \"job\": \"Set Costumer\", \"name\": \"Dan Blacklock\"}, {\"credit_id\": \"5473175c9251414b4b00003e\", \"department\": \"Costume & Make-Up\", \"gender\": 0, \"id\": 1388888, \"job\": \"Set Costumer\", \"name\": \"Jay Cheng\"}, {\"credit_id\": \"547317c99251413a5d004281\", \"department\": \"Costume & Make-Up\", \"gender\": 0, \"id\": 1388890, \"job\": \"Set Costumer\", \"name\": \"Amanda Cox\"}, {\"credit_id\": \"54731805c3a36812de0000c9\", \"department\": \"Costume & Make-Up\", \"gender\": 0, \"id\": 1388892, \"job\": \"Set Costumer\", \"name\": \"Stephanie Paul\"}, {\"credit_id\": \"547318a99251412b6d000562\", \"department\": \"Camera\", \"gender\": 0, \"id\": 1388893, \"job\": \"Camera Operator\", \"name\": \"Frank Buono\"}, {\"credit_id\": \"547318cbc3a36833ad0033ba\", \"department\": \"Camera\", \"gender\": 0, \"id\": 1388894, \"job\": \"Camera Operator\", \"name\": \"John Gamble\"}, {\"credit_id\": \"547318f2c3a36822ba001139\", \"department\": \"Camera\", \"gender\": 0, \"id\": 1388895, \"job\": \"Camera Operator\", \"name\": \"Dave Hamilton-Green\"}, {\"credit_id\": \"547319399251413a5d0042a9\", \"department\": \"Camera\", \"gender\": 2, \"id\": 1388897, \"job\": \"Camera Operator\", \"name\": \"Julian Morson\"}, {\"credit_id\": \"547319569251412e25000a84\", \"department\": \"Camera\", \"gender\": 0, \"id\": 1388898, \"job\": \"Camera Operator\", \"name\": \"Sam Renton\"}, {\"credit_id\": \"547319799251414b4b00007c\", \"department\": \"Camera\", \"gender\": 0, \"id\": 1388899, \"job\": \"Camera Operator\", \"name\": \"Gary Spratling\"}, {\"credit_id\": \"547319cec3a3681182002823\", \"department\": \"Camera\", \"gender\": 0, \"id\": 1388900, \"job\": \"Still Photographer\", \"name\": \"Aimee Spinks\"}, {\"credit_id\": \"5518ccbcc3a36862f6005dae\", \"department\": \"Writing\", \"gender\": 0, \"id\": 1447326, \"job\": \"Storyboard\", \"name\": \"Jane Wu\"}, {\"credit_id\": \"552c5aac92514102250000de\", \"department\": \"Visual Effects\", \"gender\": 0, \"id\": 1448042, \"job\": \"Animation\", \"name\": \"Mike Cottee\"}, {\"credit_id\": \"5523ede392514171cb00650c\", \"department\": \"Lighting\", \"gender\": 0, \"id\": 1450983, \"job\": \"Lighting Technician\", \"name\": \"James Sathre\"}, {\"credit_id\": \"5542cf7ac3a3680cdb0007f5\", \"department\": \"Visual Effects\", \"gender\": 0, \"id\": 1451676, \"job\": \"Visual Effects\", \"name\": \"Earl A. Hibbert\"}, {\"credit_id\": \"55288fa2c3a3681f5c000a4d\", \"department\": \"Crew\", \"gender\": 0, \"id\": 1452488, \"job\": \"Visual Effects Editor\", \"name\": \"Pat Sito\"}, {\"credit_id\": \"5531717692514152950007ad\", \"department\": \"Visual Effects\", \"gender\": 0, \"id\": 1455618, \"job\": \"Animation\", \"name\": \"Juan Miguel Vadell\"}, {\"credit_id\": \"553408e5c3a3682dc20007d5\", \"department\": \"Crew\", \"gender\": 0, \"id\": 1456696, \"job\": \"Compositors\", \"name\": \"Brian N. Bentley\"}, {\"credit_id\": \"553b29ee9251413f5a005317\", \"department\": \"Visual Effects\", \"gender\": 0, \"id\": 1457930, \"job\": \"Visual Effects\", \"name\": \"James Baker\"}, {\"credit_id\": \"553dbdca9251416874006cd7\", \"department\": \"Visual Effects\", \"gender\": 0, \"id\": 1459718, \"job\": \"Animation\", \"name\": \"Sue Houston Safianoff\"}, {\"credit_id\": \"571262079251413031000bca\", \"department\": \"Crew\", \"gender\": 0, \"id\": 1459911, \"job\": \"Visual Effects Editor\", \"name\": \"Mark S. Wright\"}, {\"credit_id\": \"554eca639251416984002f0b\", \"department\": \"Crew\", \"gender\": 0, \"id\": 1460658, \"job\": \"Compositors\", \"name\": \"Erica Jean Yeager\"}, {\"credit_id\": \"574f4bccc3a36879eb00023e\", \"department\": \"Production\", \"gender\": 2, \"id\": 1477203, \"job\": \"Co-Producer\", \"name\": \"Luca Marco Paracels\"}, {\"credit_id\": \"59214f1cc3a368723d057e00\", \"department\": \"Production\", \"gender\": 0, \"id\": 1512798, \"job\": \"Associate Producer\", \"name\": \"Jamie Christopher\"}, {\"credit_id\": \"574f4c8d9251411859000215\", \"department\": \"Production\", \"gender\": 0, \"id\": 1533708, \"job\": \"Co-Producer\", \"name\": \"David J. Grant\"}, {\"credit_id\": \"5946f3289251413fb602f751\", \"department\": \"Crew\", \"gender\": 1, \"id\": 1835498, \"job\": \"Stunts\", \"name\": \"Sian Milne\"}]",
         "7.613057972906255",
         "0.8463069453434362",
         "0.5485031764814065",
         "0.6974050609124214"
        ],
        [
         "788",
         "58000000",
         "[{\"id\": 28, \"name\": \"Action\"}, {\"id\": 12, \"name\": \"Adventure\"}, {\"id\": 35, \"name\": \"Comedy\"}]",
         "293660",
         "[{\"id\": 2095, \"name\": \"anti hero\"}, {\"id\": 3070, \"name\": \"mercenary\"}, {\"id\": 8828, \"name\": \"marvel comic\"}, {\"id\": 9715, \"name\": \"superhero\"}, {\"id\": 9717, \"name\": \"based on comic book\"}, {\"id\": 11687, \"name\": \"breaking the fourth wall\"}, {\"id\": 179430, \"name\": \"aftercreditsstinger\"}, {\"id\": 179431, \"name\": \"duringcreditsstinger\"}, {\"id\": 223060, \"name\": \"self healing\"}]",
         "en",
         "Deadpool",
         "Deadpool tells the origin story of former Special Forces operative turned mercenary Wade Wilson, who after being subjected to a rogue experiment that leaves him with accelerated healing powers, adopts the alter ego Deadpool. Armed with his new abilities and a dark, twisted sense of humor, Deadpool hunts down the man who nearly destroyed his life.",
         "514.569956",
         "[{\"name\": \"Twentieth Century Fox Film Corporation\", \"id\": 306}, {\"name\": \"Marvel Entertainment\", \"id\": 7505}, {\"name\": \"The Donners' Company\", \"id\": 11307}, {\"name\": \"TSG Entertainment\", \"id\": 22213}, {\"name\": \"Kinberg Genre\", \"id\": 78091}]",
         "2016-02-09",
         "783112979",
         "108.0",
         "[{\"iso_639_1\": \"en\", \"name\": \"English\"}]",
         "Witness the beginning of a happy ending",
         "7.4",
         "10995",
         "[{\"cast_id\": 99, \"character\": \"Wade Wilson / Deadpool\", \"credit_id\": \"57169b95925141695b00046f\", \"gender\": 2, \"id\": 10859, \"name\": \"Ryan Reynolds\", \"order\": 0}, {\"cast_id\": 3, \"character\": \"Vanessa Carlysle / Copycat\", \"credit_id\": \"552426e29251417be20086d4\", \"gender\": 1, \"id\": 54882, \"name\": \"Morena Baccarin\", \"order\": 1}, {\"cast_id\": 5, \"character\": \"Francis Freeman / Ajax\", \"credit_id\": \"55242713c3a3680bb6003409\", \"gender\": 2, \"id\": 1047649, \"name\": \"Ed Skrein\", \"order\": 2}, {\"cast_id\": 4, \"character\": \"Jack \\\"Weasel\\\" Hammer\", \"credit_id\": \"552426fbc3a3684dda009df0\", \"gender\": 2, \"id\": 51990, \"name\": \"T.J. Miller\", \"order\": 3}, {\"cast_id\": 2, \"character\": \"Christina / Angel Dust\", \"credit_id\": \"552426969251417096006bae\", \"gender\": 1, \"id\": 78452, \"name\": \"Gina Carano\", \"order\": 4}, {\"cast_id\": 10, \"character\": \"Blind Al\", \"credit_id\": \"55bfa699c3a36838b0007652\", \"gender\": 1, \"id\": 122750, \"name\": \"Leslie Uggams\", \"order\": 5}, {\"cast_id\": 6, \"character\": \"Ellie Phimister / Negasonic Teenage Warhead\", \"credit_id\": \"55bfa63b9251413e55007694\", \"gender\": 1, \"id\": 1492326, \"name\": \"Brianna Hildebrand\", \"order\": 6}, {\"cast_id\": 11, \"character\": \"Dopinder\", \"credit_id\": \"55bfa6adc3a36838b0007655\", \"gender\": 2, \"id\": 1109702, \"name\": \"Karan Soni\", \"order\": 7}, {\"cast_id\": 9, \"character\": \"The Recruiter\", \"credit_id\": \"55bfa689c3a36839210053d8\", \"gender\": 2, \"id\": 15032, \"name\": \"Jed Rees\", \"order\": 8}, {\"cast_id\": 20, \"character\": \"Piotr Rasputin / Colossus (voice)\", \"credit_id\": \"56c3be069251416bb300026c\", \"gender\": 2, \"id\": 80507, \"name\": \"Stefan Kapi\\u010di\\u0107\", \"order\": 9}, {\"cast_id\": 105, \"character\": \"Buck\", \"credit_id\": \"57e5516fc3a368264b00451e\", \"gender\": 2, \"id\": 215887, \"name\": \"Randal Reeder\", \"order\": 10}, {\"cast_id\": 106, \"character\": \"Boothe\", \"credit_id\": \"57e551da9251411ab00036f4\", \"gender\": 2, \"id\": 1717, \"name\": \"Isaac C. Singleton Jr.\", \"order\": 11}, {\"cast_id\": 102, \"character\": \"Warlord\", \"credit_id\": \"57e54eafc3a368264b0043d5\", \"gender\": 0, \"id\": 27588, \"name\": \"Michael Benyaer\", \"order\": 12}, {\"cast_id\": 21, \"character\": \"Jeremy (Pizza Guy)\", \"credit_id\": \"56c4c4f5c3a3680d540004fe\", \"gender\": 0, \"id\": 1417031, \"name\": \"Style Dayne\", \"order\": 13}, {\"cast_id\": 22, \"character\": \"Gavin Merchant\", \"credit_id\": \"56c4c50c925141245b00057f\", \"gender\": 0, \"id\": 62915, \"name\": \"Kyle Cassie\", \"order\": 14}, {\"cast_id\": 8, \"character\": \"Meghan Orlovsky\", \"credit_id\": \"55bfa673c3a3686540007783\", \"gender\": 1, \"id\": 1493223, \"name\": \"Taylor Hickson\", \"order\": 15}, {\"cast_id\": 103, \"character\": \"Teen Girl #1\", \"credit_id\": \"57e55061c3a3684165003657\", \"gender\": 1, \"id\": 1683933, \"name\": \"Ayzee\", \"order\": 16}, {\"cast_id\": 104, \"character\": \"Teen Girl #2\", \"credit_id\": \"57e55072925141064e00402e\", \"gender\": 0, \"id\": 1676741, \"name\": \"Naika Toussaint\", \"order\": 17}, {\"cast_id\": 107, \"character\": \"Arcade Ticket Taker\", \"credit_id\": \"57e5521e9251411ab0003720\", \"gender\": 2, \"id\": 1683942, \"name\": \"Justyn Shippelt\", \"order\": 18}, {\"cast_id\": 108, \"character\": \"Oncologist\", \"credit_id\": \"57e553a0c3a368264b00460f\", \"gender\": 1, \"id\": 177885, \"name\": \"Donna Yamamoto\", \"order\": 19}, {\"cast_id\": 109, \"character\": \"David Cunningham\", \"credit_id\": \"57e553f8c3a3684ca5005c37\", \"gender\": 0, \"id\": 1376110, \"name\": \"Hugh Scott\", \"order\": 20}, {\"cast_id\": 135, \"character\": \"Chinatown Merchant\", \"credit_id\": \"5854af2ac3a3682fb8041bf3\", \"gender\": 0, \"id\": 1723676, \"name\": \"Cindy Piper\", \"order\": 21}, {\"cast_id\": 110, \"character\": \"Whisper Girlfriend\", \"credit_id\": \"57e556629251410611004201\", \"gender\": 1, \"id\": 1602420, \"name\": \"Emily Haine\", \"order\": 22}, {\"cast_id\": 111, \"character\": \"Whisper Boyfriend\", \"credit_id\": \"57e556e9c3a368264b004795\", \"gender\": 2, \"id\": 1442429, \"name\": \"Aatash Amir\", \"order\": 23}, {\"cast_id\": 112, \"character\": \"Pool Hall Goon\", \"credit_id\": \"57e5572d9251410611004275\", \"gender\": 2, \"id\": 60614, \"name\": \"Chad Riley\", \"order\": 24}, {\"cast_id\": 113, \"character\": \"Fight Club Boss\", \"credit_id\": \"57e5581fc3a36842250036a2\", \"gender\": 2, \"id\": 1683952, \"name\": \"Paul Belsito\", \"order\": 25}, {\"cast_id\": 114, \"character\": \"Garbage Truck Driver\", \"credit_id\": \"57e5587ac3a368264b0048ab\", \"gender\": 2, \"id\": 1380498, \"name\": \"Darcey Johnson\", \"order\": 26}, {\"cast_id\": 115, \"character\": \"Super Soldier #1\", \"credit_id\": \"57e559dc9251411ab0003ab6\", \"gender\": 2, \"id\": 1127280, \"name\": \"Kyle Rideout\", \"order\": 27}, {\"cast_id\": 116, \"character\": \"Super Soldier #2\", \"credit_id\": \"57e55a2f9251411aad003b23\", \"gender\": 2, \"id\": 83445, \"name\": \"Jason William Day\", \"order\": 28}, {\"cast_id\": 19, \"character\": \"Strip Club DJ\", \"credit_id\": \"56bb722cc3a3681ef20002e6\", \"gender\": 2, \"id\": 7624, \"name\": \"Stan Lee\", \"order\": 29}, {\"cast_id\": 117, \"character\": \"No5 Orange Manager\", \"credit_id\": \"57e55af79251410602004591\", \"gender\": 2, \"id\": 51940, \"name\": \"Benjamin Wilkinson\", \"order\": 30}, {\"cast_id\": 118, \"character\": \"Strip Club Worker\", \"credit_id\": \"57e55b62925141063a004697\", \"gender\": 1, \"id\": 1683953, \"name\": \"Rachel Sheen\", \"order\": 31}, {\"cast_id\": 12, \"character\": \"Flight Deck Guard\", \"credit_id\": \"55bfa6c1c3a368652800623b\", \"gender\": 2, \"id\": 106951, \"name\": \"Paul Lazenby\", \"order\": 32}, {\"cast_id\": 119, \"character\": \"Bob\", \"credit_id\": \"57e55bedc3a36841e5004103\", \"gender\": 2, \"id\": 184842, \"name\": \"Rob Hayter\", \"order\": 33}, {\"cast_id\": 120, \"character\": \"Stripclub Pole Performer (uncredited)\", \"credit_id\": \"57e55db5c3a36826a7004308\", \"gender\": 1, \"id\": 1604990, \"name\": \"Heather Ashley Chase\", \"order\": 35}, {\"cast_id\": 121, \"character\": \"Guadalajaran Nurse (uncredited)\", \"credit_id\": \"57e55eb3c3a3684ca50061b6\", \"gender\": 1, \"id\": 1683954, \"name\": \"Fabiola Colmenero\", \"order\": 36}, {\"cast_id\": 122, \"character\": \"Stripper (uncredited)\", \"credit_id\": \"57e55fa99251411af4004181\", \"gender\": 1, \"id\": 104458, \"name\": \"Victoria De Mare\", \"order\": 37}, {\"cast_id\": 123, \"character\": \"Strip Club Spectator (uncredited)\", \"credit_id\": \"57e55fea9251410676004b00\", \"gender\": 2, \"id\": 1554158, \"name\": \"David Hardware\", \"order\": 38}, {\"cast_id\": 124, \"character\": \"Strip Club Patron (uncredited)\", \"credit_id\": \"57e560709251410602004848\", \"gender\": 2, \"id\": 1683956, \"name\": \"Matthew Hoglie\", \"order\": 39}, {\"cast_id\": 125, \"character\": \"Fight Club Spectator (uncredited)\", \"credit_id\": \"57e560ba9251410602004877\", \"gender\": 2, \"id\": 1683957, \"name\": \"Tony Chris Kazoleas\", \"order\": 40}, {\"cast_id\": 126, \"character\": \"Colossus (Facial Performance) (uncredited)\", \"credit_id\": \"57e56178925141061100479e\", \"gender\": 2, \"id\": 1683958, \"name\": \"Greg LaSalle\", \"order\": 41}, {\"cast_id\": 127, \"character\": \"Elderly Man (uncredited)\", \"credit_id\": \"57e56188c3a368264b004d90\", \"gender\": 2, \"id\": 87209, \"name\": \"David Longworth\", \"order\": 42}, {\"cast_id\": 128, \"character\": \"Soldier (uncredited)\", \"credit_id\": \"57e562a8c3a3684225003b81\", \"gender\": 2, \"id\": 1683960, \"name\": \"Michael Neumeyer\", \"order\": 43}, {\"cast_id\": 129, \"character\": \"Ten Year Old Boy (uncredited)\", \"credit_id\": \"57e562fac3a368264b004e42\", \"gender\": 2, \"id\": 1683961, \"name\": \"Sean Quan\", \"order\": 44}, {\"cast_id\": 130, \"character\": \"Thug (uncredited)\", \"credit_id\": \"57e56314925141063a004a2c\", \"gender\": 2, \"id\": 1451618, \"name\": \"Anthony J. Sacco\", \"order\": 45}, {\"cast_id\": 131, \"character\": \"Guadalajaran Mother (uncredited)\", \"credit_id\": \"57e56328925141064e004959\", \"gender\": 1, \"id\": 1475531, \"name\": \"Olesia Shewchuk\", \"order\": 46}, {\"cast_id\": 132, \"character\": \"Biker (uncredited)\", \"credit_id\": \"57e563749251410611004877\", \"gender\": 2, \"id\": 1285612, \"name\": \"Dan Zachary\", \"order\": 47}]",
         "[{\"credit_id\": \"56c986b2925141172f0068b6\", \"department\": \"Production\", \"gender\": 1, \"id\": 1720, \"job\": \"Casting\", \"name\": \"Ronna Kress\"}, {\"credit_id\": \"57e56510c3a3681bf10000b6\", \"department\": \"Crew\", \"gender\": 2, \"id\": 1366, \"job\": \"Stunts\", \"name\": \"Sala Baker\"}, {\"credit_id\": \"56c9865ac3a3684095006e76\", \"department\": \"Production\", \"gender\": 1, \"id\": 7200, \"job\": \"Producer\", \"name\": \"Lauren Shuler Donner\"}, {\"credit_id\": \"55bfa6e39251413e510073ee\", \"department\": \"Writing\", \"gender\": 0, \"id\": 7932, \"job\": \"Screenplay\", \"name\": \"Rhett Reese\"}, {\"credit_id\": \"56c987de925141172f0068eb\", \"department\": \"Art\", \"gender\": 0, \"id\": 9618, \"job\": \"Production Design\", \"name\": \"Sean Haworth\"}, {\"credit_id\": \"56c98644925141172f0068a2\", \"department\": \"Production\", \"gender\": 2, \"id\": 11092, \"job\": \"Producer\", \"name\": \"Simon Kinberg\"}, {\"credit_id\": \"56c98809c3a3684087006f61\", \"department\": \"Costume & Make-Up\", \"gender\": 2, \"id\": 12205, \"job\": \"Costume Design\", \"name\": \"Angus Strathie\"}, {\"credit_id\": \"56c9890b9251414a7a003879\", \"department\": \"Costume & Make-Up\", \"gender\": 2, \"id\": 15017, \"job\": \"Makeup Designer\", \"name\": \"Bill Corso\"}, {\"credit_id\": \"569b7cdb9251410cca0028dd\", \"department\": \"Production\", \"gender\": 2, \"id\": 10859, \"job\": \"Producer\", \"name\": \"Ryan Reynolds\"}, {\"credit_id\": \"56c9983bc3a36840890070d7\", \"department\": \"Sound\", \"gender\": 2, \"id\": 52193, \"job\": \"ADR & Dubbing\", \"name\": \"R.J. Kizer\"}, {\"credit_id\": \"541bece00e0a2638e7000eb2\", \"department\": \"Directing\", \"gender\": 2, \"id\": 55252, \"job\": \"Director\", \"name\": \"Tim Miller\"}, {\"credit_id\": \"56c999dc92514123b80000cf\", \"department\": \"Crew\", \"gender\": 0, \"id\": 113048, \"job\": \"Sound Recordist\", \"name\": \"Tim Gomillion\"}, {\"credit_id\": \"56c99907c3a3684091006fda\", \"department\": \"Sound\", \"gender\": 2, \"id\": 113054, \"job\": \"Sound Designer\", \"name\": \"Warren Hendriks\"}, {\"credit_id\": \"56c999acc3a3684091006ff3\", \"department\": \"Sound\", \"gender\": 2, \"id\": 113054, \"job\": \"Supervising Sound Editor\", \"name\": \"Warren Hendriks\"}, {\"credit_id\": \"56c9996d92514123f8000093\", \"department\": \"Sound\", \"gender\": 0, \"id\": 113073, \"job\": \"Sound Re-Recording Mixer\", \"name\": \"Paul Massey\"}, {\"credit_id\": \"56ba3201c3a3687ca6000229\", \"department\": \"Sound\", \"gender\": 2, \"id\": 56827, \"job\": \"Music\", \"name\": \"Junkie XL\"}, {\"credit_id\": \"590a2fdb9251414f9900487d\", \"department\": \"Crew\", \"gender\": 0, \"id\": 58911, \"job\": \"Stunts\", \"name\": \"Krista Bell\"}, {\"credit_id\": \"56c9894e9251414ae40026b7\", \"department\": \"Crew\", \"gender\": 0, \"id\": 78495, \"job\": \"Armorer\", \"name\": \"Ric Walkington\"}, {\"credit_id\": \"56c986a29251414a7a00380b\", \"department\": \"Editing\", \"gender\": 2, \"id\": 62907, \"job\": \"Editor\", \"name\": \"Julian Clarke\"}, {\"credit_id\": \"55bfa6ef9251413e550076b6\", \"department\": \"Writing\", \"gender\": 2, \"id\": 91269, \"job\": \"Screenplay\", \"name\": \"Paul Wernick\"}, {\"credit_id\": \"57827732c3a36843b200062d\", \"department\": \"Production\", \"gender\": 2, \"id\": 91269, \"job\": \"Executive Producer\", \"name\": \"Paul Wernick\"}, {\"credit_id\": \"56a940079251415475000593\", \"department\": \"Writing\", \"gender\": 2, \"id\": 105643, \"job\": \"Storyboard\", \"name\": \"Jay Oliva\"}, {\"credit_id\": \"56c9861ec3a3684095006e69\", \"department\": \"Writing\", \"gender\": 0, \"id\": 934844, \"job\": \"Characters\", \"name\": \"Rob Liefeld\"}, {\"credit_id\": \"56c98733c3a3684089006db4\", \"department\": \"Art\", \"gender\": 0, \"id\": 936841, \"job\": \"Art Direction\", \"name\": \"Greg Berry\"}, {\"credit_id\": \"56c98684c3a3684095006e82\", \"department\": \"Camera\", \"gender\": 2, \"id\": 959274, \"job\": \"Director of Photography\", \"name\": \"Ken Seng\"}, {\"credit_id\": \"56c986e0c3a368408c00752f\", \"department\": \"Production\", \"gender\": 0, \"id\": 986277, \"job\": \"Casting\", \"name\": \"Corinne Clark\"}, {\"credit_id\": \"56c986fe9251411ea8006aef\", \"department\": \"Production\", \"gender\": 0, \"id\": 1122003, \"job\": \"Casting\", \"name\": \"Jennifer Page\"}, {\"credit_id\": \"5999170d9251410ec801f34a\", \"department\": \"Crew\", \"gender\": 1, \"id\": 1168704, \"job\": \"Stunts\", \"name\": \"Amy Johnston\"}, {\"credit_id\": \"56c9875cc3a368409c0066e8\", \"department\": \"Art\", \"gender\": 0, \"id\": 1191106, \"job\": \"Art Direction\", \"name\": \"Nigel Evans\"}, {\"credit_id\": \"56c9860ac3a3684091006ce2\", \"department\": \"Writing\", \"gender\": 0, \"id\": 1222480, \"job\": \"Characters\", \"name\": \"Fabian Nicieza\"}, {\"credit_id\": \"56c98893c3a3684087006f77\", \"department\": \"Costume & Make-Up\", \"gender\": 0, \"id\": 1327186, \"job\": \"Costume Supervisor\", \"name\": \"Susan O'Hara\"}, {\"credit_id\": \"56c9985f92514102ad001fc4\", \"department\": \"Sound\", \"gender\": 0, \"id\": 1338372, \"job\": \"Foley\", \"name\": \"Dan O'Connell\"}, {\"credit_id\": \"56c998ed9251411ea8006db7\", \"department\": \"Sound\", \"gender\": 0, \"id\": 1340345, \"job\": \"Sound Designer\", \"name\": \"Craig Henighan\"}, {\"credit_id\": \"56c998d5c3a368408e0067d6\", \"department\": \"Sound\", \"gender\": 1, \"id\": 1367494, \"job\": \"Sound Designer\", \"name\": \"Ai-Ling Lee\"}, {\"credit_id\": \"56c9898c92514102ad001d2c\", \"department\": \"Sound\", \"gender\": 0, \"id\": 1367505, \"job\": \"Music Editor\", \"name\": \"Ted Caplan\"}, {\"credit_id\": \"56c988bbc3a3684089006e00\", \"department\": \"Costume & Make-Up\", \"gender\": 0, \"id\": 1378720, \"job\": \"Set Costumer\", \"name\": \"Silke Guglielmo\"}, {\"credit_id\": \"56c99956c3a368408c0078c5\", \"department\": \"Sound\", \"gender\": 0, \"id\": 1389133, \"job\": \"Sound Re-Recording Mixer\", \"name\": \"Will Files\"}, {\"credit_id\": \"56c9970a9251414ae40028eb\", \"department\": \"Lighting\", \"gender\": 0, \"id\": 1391700, \"job\": \"Gaffer\", \"name\": \"Drew Davidson\"}, {\"credit_id\": \"56c98c7ec3a3684095006f7d\", \"department\": \"Camera\", \"gender\": 0, \"id\": 1394972, \"job\": \"Steadicam Operator\", \"name\": \"Norbert Kaluza\"}, {\"credit_id\": \"56c98c99c3a3684089006eac\", \"department\": \"Camera\", \"gender\": 0, \"id\": 1394973, \"job\": \"Still Photographer\", \"name\": \"Joseph Lederer\"}, {\"credit_id\": \"56c999949251411742007116\", \"department\": \"Sound\", \"gender\": 0, \"id\": 1399057, \"job\": \"Supervising Sound Editor\", \"name\": \"Jim Brookshire\"}, {\"credit_id\": \"56c9993792514123f8000083\", \"department\": \"Sound\", \"gender\": 0, \"id\": 1399061, \"job\": \"Sound Editor\", \"name\": \"Benjamin Beardwood\"}, {\"credit_id\": \"56c999c49251411ea8006de5\", \"department\": \"Sound\", \"gender\": 2, \"id\": 1401563, \"job\": \"Supervising Sound Editor\", \"name\": \"Wayne Lemmer\"}, {\"credit_id\": \"56c9972192514102ad001f8e\", \"department\": \"Lighting\", \"gender\": 0, \"id\": 1406767, \"job\": \"Gaffer\", \"name\": \"Burton 'Joe' Kuchera\"}, {\"credit_id\": \"56c99b0692514102ad00204d\", \"department\": \"Visual Effects\", \"gender\": 0, \"id\": 1409237, \"job\": \"Animation Supervisor\", \"name\": \"Pimentel A. Raphael\"}, {\"credit_id\": \"56c98bc9c3a3684095006f5e\", \"department\": \"Camera\", \"gender\": 0, \"id\": 1409744, \"job\": \"Camera Operator\", \"name\": \"Dean Heselden\"}, {\"credit_id\": \"56c99abbc3a3684091007015\", \"department\": \"Visual Effects\", \"gender\": 0, \"id\": 1418374, \"job\": \"Animation Director\", \"name\": \"Shaun Friedberg\"}, {\"credit_id\": \"56c98be5925141172f0069a4\", \"department\": \"Camera\", \"gender\": 0, \"id\": 1431077, \"job\": \"Camera Operator\", \"name\": \"Stephen Maier\"}, {\"credit_id\": \"56c98a3bc3a3684097007827\", \"department\": \"Crew\", \"gender\": 0, \"id\": 1440403, \"job\": \"Property Master\", \"name\": \"Nevin Swain\"}, {\"credit_id\": \"56c99b7a92514102ad002062\", \"department\": \"Visual Effects\", \"gender\": 0, \"id\": 1441320, \"job\": \"Special Effects Supervisor\", \"name\": \"Alex Burdett\"}, {\"credit_id\": \"56c987f492514102ad001ce8\", \"department\": \"Art\", \"gender\": 0, \"id\": 1441806, \"job\": \"Set Decoration\", \"name\": \"Shannon Gottlieb\"}, {\"credit_id\": \"57e564fac3a3681beb0000cc\", \"department\": \"Crew\", \"gender\": 0, \"id\": 1444239, \"job\": \"Stunt Coordinator\", \"name\": \"Robert Alonzo\"}, {\"credit_id\": \"56c9870fc3a368408e0064ac\", \"department\": \"Production\", \"gender\": 0, \"id\": 1466537, \"job\": \"Casting Associate\", \"name\": \"Hannah d'Angerio\"}, {\"credit_id\": \"56c989a2c3a3684087006fa1\", \"department\": \"Sound\", \"gender\": 2, \"id\": 1471726, \"job\": \"Music Supervisor\", \"name\": \"John Houlihan\"}, {\"credit_id\": \"56c98c5c9251414a7a00390d\", \"department\": \"Camera\", \"gender\": 2, \"id\": 1494209, \"job\": \"Helicopter Camera\", \"name\": \"Richard Roles\"}, {\"credit_id\": \"56c99d679251411ea8006e6e\", \"department\": \"Visual Effects\", \"gender\": 0, \"id\": 1533023, \"job\": \"Visual Effects Coordinator\", \"name\": \"Tamar Shaham\"}, {\"credit_id\": \"56c99dd3c3a368408e00688b\", \"department\": \"Visual Effects\", \"gender\": 0, \"id\": 1533500, \"job\": \"Visual Effects Coordinator\", \"name\": \"Tim Weber\"}, {\"credit_id\": \"56c99d95c3a368408c00794a\", \"department\": \"Visual Effects\", \"gender\": 0, \"id\": 1543227, \"job\": \"Visual Effects Coordinator\", \"name\": \"Brittany Montero\"}, {\"credit_id\": \"57d02f1bc3a368163500057f\", \"department\": \"Crew\", \"gender\": 1, \"id\": 1547887, \"job\": \"Stunts\", \"name\": \"Rochelle Okoye\"}, {\"credit_id\": \"56c99745c3a3684091006f9f\", \"department\": \"Lighting\", \"gender\": 0, \"id\": 1552332, \"job\": \"Rigging Gaffer\", \"name\": \"Keith Woods\"}, {\"credit_id\": \"56c997cd9251414a7a003b32\", \"department\": \"Camera\", \"gender\": 0, \"id\": 1552473, \"job\": \"First Assistant Camera\", \"name\": \"Kieran Humphries\"}, {\"credit_id\": \"56c9892ac3a3684095006ef8\", \"department\": \"Crew\", \"gender\": 0, \"id\": 1558713, \"job\": \"Armorer\", \"name\": \"Rob Fournier\"}, {\"credit_id\": \"56c997b9c3a3684087007268\", \"department\": \"Camera\", \"gender\": 0, \"id\": 1561340, \"job\": \"First Assistant Camera\", \"name\": \"Doug Lavender\"}, {\"credit_id\": \"56c98cb89251411ea8006be3\", \"department\": \"Camera\", \"gender\": 0, \"id\": 1564737, \"job\": \"Still Photographer\", \"name\": \"David Dolsen\"}, {\"credit_id\": \"56c98778925141172f0068d8\", \"department\": \"Art\", \"gender\": 0, \"id\": 1580827, \"job\": \"Art Department Coordinator\", \"name\": \"Teresa Ngan\"}, {\"credit_id\": \"56c987aac3a3684087006f4d\", \"department\": \"Art\", \"gender\": 0, \"id\": 1580828, \"job\": \"Art Department Assistant\", \"name\": \"Marc Aubin\"}, {\"credit_id\": \"56c988669251414a7a003852\", \"department\": \"Costume & Make-Up\", \"gender\": 0, \"id\": 1580830, \"job\": \"Assistant Costume Designer\", \"name\": \"Michael Mew\"}, {\"credit_id\": \"56c988a6c3a3684091006d53\", \"department\": \"Costume & Make-Up\", \"gender\": 0, \"id\": 1580831, \"job\": \"Set Costumer\", \"name\": \"Erin da Roza\"}, {\"credit_id\": \"56c988d0c3a3684091006d60\", \"department\": \"Costume & Make-Up\", \"gender\": 0, \"id\": 1580832, \"job\": \"Set Costumer\", \"name\": \"Amy Schilbe\"}, {\"credit_id\": \"56c98a5e9251411ea8006b63\", \"department\": \"Crew\", \"gender\": 0, \"id\": 1580833, \"job\": \"Property Master\", \"name\": \"D. Martin Myatt\"}, {\"credit_id\": \"56c98bf8c3a3684089006e87\", \"department\": \"Camera\", \"gender\": 0, \"id\": 1580835, \"job\": \"Camera Operator\", \"name\": \"Sasha Proctor\"}, {\"credit_id\": \"56c98c2f9251414a7a003902\", \"department\": \"Camera\", \"gender\": 0, \"id\": 1580836, \"job\": \"Camera Operator\", \"name\": \"Mark Cohen\"}, {\"credit_id\": \"56c99767925141172f006b99\", \"department\": \"Lighting\", \"gender\": 0, \"id\": 1580843, \"job\": \"Rigging Grip\", \"name\": \"Adam Bunz\"}, {\"credit_id\": \"56c9977a92514117420070be\", \"department\": \"Lighting\", \"gender\": 0, \"id\": 1580844, \"job\": \"Rigging Grip\", \"name\": \"Herb DeWaal\"}, {\"credit_id\": \"56c9978d9251414ae4002906\", \"department\": \"Lighting\", \"gender\": 0, \"id\": 1580845, \"job\": \"Rigging Grip\", \"name\": \"Daryl Makortoff\"}, {\"credit_id\": \"56c997dfc3a368408e0067ac\", \"department\": \"Camera\", \"gender\": 0, \"id\": 1580846, \"job\": \"First Assistant Camera\", \"name\": \"Jeff Sayle\"}, {\"credit_id\": \"56c997f49251414a7a003b38\", \"department\": \"Camera\", \"gender\": 0, \"id\": 1580847, \"job\": \"First Assistant Camera\", \"name\": \"James Claire\"}, {\"credit_id\": \"56c99ae8c3a368409c006ac9\", \"department\": \"Visual Effects\", \"gender\": 0, \"id\": 1580851, \"job\": \"Animation Director\", \"name\": \"Jan Philip Cramer\"}, {\"credit_id\": \"56c99c1fc3a368409c006af4\", \"department\": \"Visual Effects\", \"gender\": 0, \"id\": 1580852, \"job\": \"VFX Editor\", \"name\": \"Luke Botteron\"}, {\"credit_id\": \"56c99cdcc3a3684089007175\", \"department\": \"Editing\", \"gender\": 0, \"id\": 1580853, \"job\": \"First Assistant Editor\", \"name\": \"Matthew G. Carson\"}, {\"credit_id\": \"56c99d3ec3a3684097007c7a\", \"department\": \"Visual Effects\", \"gender\": 0, \"id\": 1580854, \"job\": \"Visual Effects Coordinator\", \"name\": \"Teresa Berus\"}, {\"credit_id\": \"56c99d53c3a368408c00793d\", \"department\": \"Visual Effects\", \"gender\": 0, \"id\": 1580855, \"job\": \"Visual Effects Coordinator\", \"name\": \"Patrick Thomas O'Rourke\"}, {\"credit_id\": \"56c99d7d9251414ae4002a0b\", \"department\": \"Visual Effects\", \"gender\": 0, \"id\": 1580856, \"job\": \"Visual Effects Coordinator\", \"name\": \"Sammy Shikaze\"}, {\"credit_id\": \"56c99daa9251414ae4002a15\", \"department\": \"Visual Effects\", \"gender\": 0, \"id\": 1580857, \"job\": \"Visual Effects Coordinator\", \"name\": \"Dipankar Sarkar\"}, {\"credit_id\": \"56c99ded9251411ea8006e7e\", \"department\": \"Visual Effects\", \"gender\": 0, \"id\": 1580858, \"job\": \"Visual Effects Coordinator\", \"name\": \"Cole Darby\"}, {\"credit_id\": \"56c99e02c3a368409c006b3c\", \"department\": \"Visual Effects\", \"gender\": 0, \"id\": 1580859, \"job\": \"Visual Effects Coordinator\", \"name\": \"Sara Bourque\"}, {\"credit_id\": \"56c99e1892514117420071cd\", \"department\": \"Visual Effects\", \"gender\": 0, \"id\": 1580860, \"job\": \"Visual Effects Coordinator\", \"name\": \"Thibaud Galbois\"}, {\"credit_id\": \"59a3062d925141775b045353\", \"department\": \"Crew\", \"gender\": 1, \"id\": 1737894, \"job\": \"Stunts\", \"name\": \"Atlin Mitchell\"}]",
         "7.21268692638155",
         "0.7084237266498552",
         "0.586812082815716",
         "0.6476179047327856"
        ],
        [
         "65",
         "185000000",
         "[{\"id\": 18, \"name\": \"Drama\"}, {\"id\": 28, \"name\": \"Action\"}, {\"id\": 80, \"name\": \"Crime\"}, {\"id\": 53, \"name\": \"Thriller\"}]",
         "155",
         "[{\"id\": 849, \"name\": \"dc comics\"}, {\"id\": 853, \"name\": \"crime fighter\"}, {\"id\": 1308, \"name\": \"secret identity\"}, {\"id\": 3151, \"name\": \"scarecrow\"}, {\"id\": 4426, \"name\": \"sadism\"}, {\"id\": 4630, \"name\": \"chaos\"}, {\"id\": 6969, \"name\": \"gotham city\"}, {\"id\": 7002, \"name\": \"vigilante\"}, {\"id\": 9537, \"name\": \"joker\"}, {\"id\": 9715, \"name\": \"superhero\"}, {\"id\": 9717, \"name\": \"based on comic book\"}, {\"id\": 10044, \"name\": \"tragic hero\"}, {\"id\": 10291, \"name\": \"organized crime\"}, {\"id\": 18023, \"name\": \"criminal mastermind\"}, {\"id\": 33518, \"name\": \"district attorney\"}, {\"id\": 156395, \"name\": \"imax\"}, {\"id\": 163074, \"name\": \"super villain\"}, {\"id\": 163455, \"name\": \"super powers\"}, {\"id\": 230775, \"name\": \"batman\"}]",
         "en",
         "The Dark Knight",
         "Batman raises the stakes in his war on crime. With the help of Lt. Jim Gordon and District Attorney Harvey Dent, Batman sets out to dismantle the remaining criminal organizations that plague the streets. The partnership proves to be effective, but they soon find themselves prey to a reign of chaos unleashed by a rising criminal mastermind known to the terrified citizens of Gotham as the Joker.",
         "187.322927",
         "[{\"name\": \"DC Comics\", \"id\": 429}, {\"name\": \"Legendary Pictures\", \"id\": 923}, {\"name\": \"Warner Bros.\", \"id\": 6194}, {\"name\": \"DC Entertainment\", \"id\": 9993}, {\"name\": \"Syncopy\", \"id\": 9996}]",
         "2008-07-16",
         "1004558444",
         "152.0",
         "[{\"iso_639_1\": \"en\", \"name\": \"English\"}, {\"iso_639_1\": \"zh\", \"name\": \"\\u666e\\u901a\\u8bdd\"}]",
         "Why So Serious?",
         "8.2",
         "12002",
         "[{\"cast_id\": 35, \"character\": \"Bruce Wayne\", \"credit_id\": \"52fe4220c3a36847f8005d17\", \"gender\": 2, \"id\": 3894, \"name\": \"Christian Bale\", \"order\": 0}, {\"cast_id\": 3, \"character\": \"Joker\", \"credit_id\": \"52fe421fc3a36847f8005cbf\", \"gender\": 2, \"id\": 1810, \"name\": \"Heath Ledger\", \"order\": 1}, {\"cast_id\": 15, \"character\": \"Harvey Dent\", \"credit_id\": \"52fe4220c3a36847f8005cf1\", \"gender\": 2, \"id\": 6383, \"name\": \"Aaron Eckhart\", \"order\": 2}, {\"cast_id\": 17, \"character\": \"Alfred\", \"credit_id\": \"52fe4220c3a36847f8005cf9\", \"gender\": 2, \"id\": 3895, \"name\": \"Michael Caine\", \"order\": 3}, {\"cast_id\": 8, \"character\": \"Rachel\", \"credit_id\": \"52fe421fc3a36847f8005cd5\", \"gender\": 1, \"id\": 1579, \"name\": \"Maggie Gyllenhaal\", \"order\": 4}, {\"cast_id\": 16, \"character\": \"Gordon\", \"credit_id\": \"52fe4220c3a36847f8005cf5\", \"gender\": 2, \"id\": 64, \"name\": \"Gary Oldman\", \"order\": 5}, {\"cast_id\": 34, \"character\": \"Lucius Fox\", \"credit_id\": \"52fe4220c3a36847f8005d13\", \"gender\": 2, \"id\": 192, \"name\": \"Morgan Freeman\", \"order\": 6}, {\"cast_id\": 258, \"character\": \"Ramirez\", \"credit_id\": \"55dc9083c3a3686572000193\", \"gender\": 1, \"id\": 53651, \"name\": \"Monique Gabriela Curnen\", \"order\": 7}, {\"cast_id\": 228, \"character\": \"Wuertz\", \"credit_id\": \"52fe4220c3a36847f8005d65\", \"gender\": 2, \"id\": 57597, \"name\": \"Ron Dean\", \"order\": 8}, {\"cast_id\": 20, \"character\": \"Scarecrow\", \"credit_id\": \"52fe4220c3a36847f8005cfd\", \"gender\": 2, \"id\": 2037, \"name\": \"Cillian Murphy\", \"order\": 9}, {\"cast_id\": 227, \"character\": \"Lau\", \"credit_id\": \"52fe4220c3a36847f8005d61\", \"gender\": 2, \"id\": 101015, \"name\": \"Chin Han\", \"order\": 10}, {\"cast_id\": 225, \"character\": \"Mayor\", \"credit_id\": \"52fe4220c3a36847f8005d59\", \"gender\": 2, \"id\": 21316, \"name\": \"Nestor Carbonell\", \"order\": 11}, {\"cast_id\": 229, \"character\": \"Maroni\", \"credit_id\": \"52fe4220c3a36847f8005d69\", \"gender\": 2, \"id\": 21315, \"name\": \"Eric Roberts\", \"order\": 12}, {\"cast_id\": 232, \"character\": \"Chechen\", \"credit_id\": \"52fe4220c3a36847f8005d71\", \"gender\": 2, \"id\": 13939, \"name\": \"Ritchie Coster\", \"order\": 13}, {\"cast_id\": 224, \"character\": \"Engel\", \"credit_id\": \"52fe4220c3a36847f8005d55\", \"gender\": 2, \"id\": 1904, \"name\": \"Anthony Michael Hall\", \"order\": 14}, {\"cast_id\": 233, \"character\": \"Stephens\", \"credit_id\": \"52fe4220c3a36847f8005d75\", \"gender\": 2, \"id\": 87957, \"name\": \"Keith Szarabajka\", \"order\": 15}, {\"cast_id\": 234, \"character\": \"Loeb\", \"credit_id\": \"52fe4220c3a36847f8005d79\", \"gender\": 2, \"id\": 128386, \"name\": \"Colin McFarlane\", \"order\": 16}, {\"cast_id\": 260, \"character\": \"Reese\", \"credit_id\": \"560c2501c3a368681f005b6e\", \"gender\": 2, \"id\": 34544, \"name\": \"Joshua Harto\", \"order\": 17}, {\"cast_id\": 230, \"character\": \"Barbara Gordon\", \"credit_id\": \"52fe4220c3a36847f8005d6d\", \"gender\": 0, \"id\": 58692, \"name\": \"Melinda McGraw\", \"order\": 18}, {\"cast_id\": 261, \"character\": \"James Gordon\", \"credit_id\": \"560c253492514171910064b3\", \"gender\": 2, \"id\": 18052, \"name\": \"Nathan Gamble\", \"order\": 19}, {\"cast_id\": 262, \"character\": \"Rossi\", \"credit_id\": \"560c2548925141501900012f\", \"gender\": 2, \"id\": 1052875, \"name\": \"Michael Vieau\", \"order\": 20}, {\"cast_id\": 237, \"character\": \"Dopey\", \"credit_id\": \"53aa63de0e0a2646d80030b5\", \"gender\": 0, \"id\": 1196130, \"name\": \"Michael Stoyanov\", \"order\": 21}, {\"cast_id\": 235, \"character\": \"Happy\", \"credit_id\": \"53aa62f00e0a2646c2001238\", \"gender\": 0, \"id\": 1334139, \"name\": \"William Smillie\", \"order\": 22}, {\"cast_id\": 241, \"character\": \"Gambol\", \"credit_id\": \"555b4fc29251415878000a6b\", \"gender\": 2, \"id\": 64856, \"name\": \"Michael Jai White\", \"order\": 23}, {\"cast_id\": 236, \"character\": \"Grumpy\", \"credit_id\": \"53aa63a00e0a2646d20011d3\", \"gender\": 2, \"id\": 16477, \"name\": \"Danny Goldring\", \"order\": 24}, {\"cast_id\": 385, \"character\": \"Chuckles\", \"credit_id\": \"5993cadf925141541200cf42\", \"gender\": 0, \"id\": 1208967, \"name\": \"Matthew O'Neill\", \"order\": 25}, {\"cast_id\": 226, \"character\": \"Bank Manager\", \"credit_id\": \"52fe4220c3a36847f8005d5d\", \"gender\": 2, \"id\": 886, \"name\": \"William Fichtner\", \"order\": 26}, {\"cast_id\": 263, \"character\": \"Drug Dealer\", \"credit_id\": \"560c25b3c3a368681f005b86\", \"gender\": 0, \"id\": 1056090, \"name\": \"Olumiji Olawumi\", \"order\": 27}, {\"cast_id\": 386, \"character\": \"Drug Buyer\", \"credit_id\": \"5993cb54c3a3687eff00c2ae\", \"gender\": 0, \"id\": 1870607, \"name\": \"Greg Beam\", \"order\": 28}, {\"cast_id\": 387, \"character\": \"Junkie\", \"credit_id\": \"5993cb67c3a3687eff00c2d3\", \"gender\": 0, \"id\": 1870608, \"name\": \"Erik Hellman\", \"order\": 29}, {\"cast_id\": 238, \"character\": \"Natascha\", \"credit_id\": \"53aa646e0e0a2646d20011ec\", \"gender\": 1, \"id\": 101014, \"name\": \"Beatrice Rosen\", \"order\": 30}, {\"cast_id\": 264, \"character\": \"Crime Boss\", \"credit_id\": \"560c2614c3a368681400691d\", \"gender\": 2, \"id\": 24595, \"name\": \"Vincenzo Nicoli\", \"order\": 31}, {\"cast_id\": 265, \"character\": \"LSI VP\", \"credit_id\": \"560c262bc3a368680b006225\", \"gender\": 0, \"id\": 20372, \"name\": \"Edison Chen\", \"order\": 32}, {\"cast_id\": 388, \"character\": \"Judge Surrillo\", \"credit_id\": \"5993cbe7c3a3687f4600cbbb\", \"gender\": 0, \"id\": 1522073, \"name\": \"Nydia Rodriguez Terracina\", \"order\": 33}, {\"cast_id\": 389, \"character\": \"Brian\", \"credit_id\": \"5993cbf8c3a3687eda00c910\", \"gender\": 0, \"id\": 1870609, \"name\": \"Andy Luther\", \"order\": 34}, {\"cast_id\": 390, \"character\": \"Man No. 1\", \"credit_id\": \"5993cc18c3a3687f4600cc10\", \"gender\": 0, \"id\": 1870610, \"name\": \"James Farruggio\", \"order\": 35}, {\"cast_id\": 391, \"character\": \"Man No. 2\", \"credit_id\": \"5993cc2cc3a3687f9e00dc32\", \"gender\": 0, \"id\": 1840452, \"name\": \"Tom McElroy\", \"order\": 36}, {\"cast_id\": 266, \"character\": \"Assistant DA\", \"credit_id\": \"560c26efc3a3686814006948\", \"gender\": 0, \"id\": 1226696, \"name\": \"Will Zahrn\", \"order\": 37}, {\"cast_id\": 392, \"character\": \"Thug at Party\", \"credit_id\": \"5993ccd7c3a3687eda00ca6e\", \"gender\": 0, \"id\": 1870611, \"name\": \"James Fierro\", \"order\": 38}, {\"cast_id\": 267, \"character\": \"Gentleman at Party\", \"credit_id\": \"560c2766c3a3686810006628\", \"gender\": 2, \"id\": 853194, \"name\": \"Patrick Leahy\", \"order\": 39}, {\"cast_id\": 393, \"character\": \"Male Guest\", \"credit_id\": \"5993cd04c3a3687f8400ceba\", \"gender\": 0, \"id\": 1526574, \"name\": \"Sam Derence\", \"order\": 40}, {\"cast_id\": 394, \"character\": \"Female Guest\", \"credit_id\": \"5993cd5ac3a3687ec400df11\", \"gender\": 0, \"id\": 1870612, \"name\": \"Jennifer Knox\", \"order\": 41}, {\"cast_id\": 268, \"character\": \"Judge Freel\", \"credit_id\": \"560c27bdc3a368681f005bbb\", \"gender\": 0, \"id\": 1424043, \"name\": \"Patrick Clear\", \"order\": 42}, {\"cast_id\": 269, \"character\": \"Maroni's Mistress\", \"credit_id\": \"560c27d09251417e9e0045d4\", \"gender\": 1, \"id\": 1220201, \"name\": \"Sarah Jayne Dunn\", \"order\": 43}, {\"cast_id\": 270, \"character\": \"Gambol's Bodyguard (as Chucky Venn)\", \"credit_id\": \"560c27e7c3a368680e005fec\", \"gender\": 0, \"id\": 147895, \"name\": \"Charles Venn\", \"order\": 44}, {\"cast_id\": 271, \"character\": \"Gambol's Bodyguard (as Winston Ellis)\", \"credit_id\": \"560c284f925141719c006141\", \"gender\": 0, \"id\": 1195758, \"name\": \"Winston G. Ellis\", \"order\": 45}, {\"cast_id\": 223, \"character\": \"Joker's Thug\", \"credit_id\": \"52fe4220c3a36847f8005d51\", \"gender\": 2, \"id\": 83854, \"name\": \"David Dastmalchian\", \"order\": 46}, {\"cast_id\": 395, \"character\": \"Reporter\", \"credit_id\": \"5993ce0a925141542b00d59b\", \"gender\": 0, \"id\": 1870613, \"name\": \"Sophia Hinshelwood\", \"order\": 47}, {\"cast_id\": 272, \"character\": \"Heckler\", \"credit_id\": \"560c28dbc3a3686814006985\", \"gender\": 0, \"id\": 1313093, \"name\": \"Keith Kupferer\", \"order\": 48}, {\"cast_id\": 396, \"character\": \"Cop Heckler\", \"credit_id\": \"5993ce2fc3a3687ec400e0b1\", \"gender\": 0, \"id\": 1678566, \"name\": \"Joseph Luis Caballero\", \"order\": 49}, {\"cast_id\": 273, \"character\": \"Acting Commissioner\", \"credit_id\": \"560c2902c3a3686824005e29\", \"gender\": 2, \"id\": 176227, \"name\": \"Richard Dillane\", \"order\": 50}, {\"cast_id\": 397, \"character\": \"Officer at Intersection\", \"credit_id\": \"5993ce98c3a3687ec400e177\", \"gender\": 0, \"id\": 1870614, \"name\": \"Daryl Satcher\", \"order\": 51}, {\"cast_id\": 398, \"character\": \"Convoy Leader\", \"credit_id\": \"5993ceb5c3a3687f4600d06e\", \"gender\": 0, \"id\": 1870615, \"name\": \"Chris Petschler\", \"order\": 52}, {\"cast_id\": 399, \"character\": \"Fat Thug\", \"credit_id\": \"5993cec3925141543300d25e\", \"gender\": 0, \"id\": 1870616, \"name\": \"Aidan Feore\", \"order\": 53}, {\"cast_id\": 274, \"character\": \"Murphy\", \"credit_id\": \"560c2a12c3a368680b00628b\", \"gender\": 0, \"id\": 1128854, \"name\": \"Philip Bulcock\", \"order\": 54}, {\"cast_id\": 275, \"character\": \"Cop with Fat Thug\", \"credit_id\": \"560c2a3fc3a3686824005e4c\", \"gender\": 2, \"id\": 29617, \"name\": \"Paul Birchard\", \"order\": 55}, {\"cast_id\": 400, \"character\": \"Medic\", \"credit_id\": \"5993cf53c3a3687eff00c8f5\", \"gender\": 0, \"id\": 1781739, \"name\": \"Walter Lewis\", \"order\": 56}, {\"cast_id\": 276, \"character\": \"Cop at 250 52nd St.\", \"credit_id\": \"560c2a8c92514171a3006640\", \"gender\": 2, \"id\": 26669, \"name\": \"Vincent Riotta\", \"order\": 57}, {\"cast_id\": 401, \"character\": \"Nurse\", \"credit_id\": \"5993cf78c3a3687ec400e300\", \"gender\": 0, \"id\": 1631707, \"name\": \"Nancy Crane\", \"order\": 58}, {\"cast_id\": 277, \"character\": \"Polk\", \"credit_id\": \"560c2ad6c3a368681f005c14\", \"gender\": 2, \"id\": 143328, \"name\": \"K. Todd Freeman\", \"order\": 59}, {\"cast_id\": 278, \"character\": \"Berg\", \"credit_id\": \"560c2b4dc3a3686824005e6e\", \"gender\": 0, \"id\": 1464854, \"name\": \"Matt Shallenberger\", \"order\": 60}, {\"cast_id\": 404, \"character\": \"Cop at Hospital\", \"credit_id\": \"5993d0a4925141543300d56e\", \"gender\": 0, \"id\": 1870623, \"name\": \"Michael Andrew Gorman\", \"order\": 61}, {\"cast_id\": 402, \"character\": \"Bartender\", \"credit_id\": \"5993d02bc3a3687f4600d2b8\", \"gender\": 0, \"id\": 1870620, \"name\": \"Lanny Lutz\", \"order\": 62}, {\"cast_id\": 403, \"character\": \"Civilian\", \"credit_id\": \"5993d03e925141542300cb8a\", \"gender\": 2, \"id\": 1624910, \"name\": \"Peter DeFaria\", \"order\": 63}, {\"cast_id\": 279, \"character\": \"First Mate\", \"credit_id\": \"560c2ba4c3a36868100066b9\", \"gender\": 2, \"id\": 78047, \"name\": \"Matt Rippy\", \"order\": 64}, {\"cast_id\": 280, \"character\": \"Prison Ferry Pilot\", \"credit_id\": \"560c2bc6c3a368680b0062b1\", \"gender\": 2, \"id\": 47525, \"name\": \"Andrew Bicknell\", \"order\": 65}, {\"cast_id\": 281, \"character\": \"Guard Commander\", \"credit_id\": \"560c2be1c3a36868100066bf\", \"gender\": 0, \"id\": 1238461, \"name\": \"Ariyon Bakare\", \"order\": 66}, {\"cast_id\": 282, \"character\": \"Businessman\", \"credit_id\": \"560c2bffc3a368680b0062ba\", \"gender\": 0, \"id\": 1232399, \"name\": \"Doug Ballard\", \"order\": 67}, {\"cast_id\": 405, \"character\": \"Mother\", \"credit_id\": \"5993d0c3925141542b00d992\", \"gender\": 0, \"id\": 1661772, \"name\": \"Helene Wilson\", \"order\": 68}, {\"cast_id\": 283, \"character\": \"Passenger\", \"credit_id\": \"560c2c85c3a3686824005e90\", \"gender\": 0, \"id\": 122345, \"name\": \"Tommy Campbell\", \"order\": 69}, {\"cast_id\": 284, \"character\": \"Passenger\", \"credit_id\": \"560c2ca5c3a36868140069e9\", \"gender\": 0, \"id\": 1215332, \"name\": \"Craig Heaney\", \"order\": 70}, {\"cast_id\": 285, \"character\": \"Passenger\", \"credit_id\": \"560c2d12c3a36868140069fa\", \"gender\": 0, \"id\": 209990, \"name\": \"Lorna Gayle\", \"order\": 71}, {\"cast_id\": 286, \"character\": \"Passenger\", \"credit_id\": \"560c2d31925141719c0061d4\", \"gender\": 1, \"id\": 139946, \"name\": \"Lisa McAllister\", \"order\": 72}, {\"cast_id\": 287, \"character\": \"Passenger\", \"credit_id\": \"560c2d44925141157f0005be\", \"gender\": 0, \"id\": 1070855, \"name\": \"Peter Brooke\", \"order\": 73}, {\"cast_id\": 406, \"character\": \"SWAT Sniper\", \"credit_id\": \"5993d0f1c3a3687ec400e510\", \"gender\": 2, \"id\": 1674439, \"name\": \"Joshua Rollins\", \"order\": 74}, {\"cast_id\": 407, \"character\": \"SWAT Leader\", \"credit_id\": \"5993d102925141540e00cede\", \"gender\": 0, \"id\": 1870625, \"name\": \"Dale Rivera\", \"order\": 75}, {\"cast_id\": 239, \"character\": \"Prisoner on Ferry\", \"credit_id\": \"53d7244c0e0a260337000c0c\", \"gender\": 2, \"id\": 141770, \"name\": \"Matthew Leitch\", \"order\": 76}, {\"cast_id\": 288, \"character\": \"Tattooed Prisoner\", \"credit_id\": \"560c2da992514171a0006010\", \"gender\": 2, \"id\": 8396, \"name\": \"Tom Lister Jr.\", \"order\": 77}, {\"cast_id\": 289, \"character\": \"Reporter #3\", \"credit_id\": \"560c2dd5925141719c0061ee\", \"gender\": 0, \"id\": 1394354, \"name\": \"Thomas Gaitsch\", \"order\": 78}, {\"cast_id\": 290, \"character\": \"Evans\", \"credit_id\": \"560c2e12c3a3686814006a1d\", \"gender\": 2, \"id\": 29616, \"name\": \"William Armstrong\", \"order\": 79}, {\"cast_id\": 408, \"character\": \"Honor Guard Man\", \"credit_id\": \"5993d1ed925141540e00d010\", \"gender\": 0, \"id\": 1870627, \"name\": \"Adam Kalesperis\", \"order\": 80}, {\"cast_id\": 291, \"character\": \"Uniform Cop\", \"credit_id\": \"560c2e4c92514171a30066b0\", \"gender\": 2, \"id\": 170230, \"name\": \"Tristan Tait\", \"order\": 81}, {\"cast_id\": 292, \"character\": \"Bounty Hunter\", \"credit_id\": \"560c2e6f92514171a0006035\", \"gender\": 2, \"id\": 75076, \"name\": \"Bronson Webb\", \"order\": 82}, {\"cast_id\": 293, \"character\": \"Bounty Hunter\", \"credit_id\": \"560c2e8692514171910065cd\", \"gender\": 2, \"id\": 971049, \"name\": \"David Ajala\", \"order\": 83}, {\"cast_id\": 409, \"character\": \"Fox's Secretary\", \"credit_id\": \"5993d224925141542b00db48\", \"gender\": 0, \"id\": 1870629, \"name\": \"Gertrude Kyles\", \"order\": 84}, {\"cast_id\": 294, \"character\": \"Passenger Ferry Pilot\", \"credit_id\": \"560c2eabc3a368680e0060c1\", \"gender\": 2, \"id\": 119414, \"name\": \"Jonathan Ryland\", \"order\": 85}, {\"cast_id\": 410, \"character\": \"Guardsman\", \"credit_id\": \"5993d2b5c3a3687ec400e780\", \"gender\": 0, \"id\": 1870631, \"name\": \"James Scales\", \"order\": 86}, {\"cast_id\": 411, \"character\": \"Warden\", \"credit_id\": \"5993d2c8c3a3687f6200d2e2\", \"gender\": 0, \"id\": 1655526, \"name\": \"Nigel Carrington\", \"order\": 87}, {\"cast_id\": 295, \"character\": \"Corrections Officer\", \"credit_id\": \"560c2ef0925141501900025e\", \"gender\": 0, \"id\": 95716, \"name\": \"Ian Pirie\", \"order\": 88}, {\"cast_id\": 296, \"character\": \"Prisoner\", \"credit_id\": \"560c2f0dc3a368681900620c\", \"gender\": 0, \"id\": 1122545, \"name\": \"Lateef Lovejoy\", \"order\": 89}, {\"cast_id\": 297, \"character\": \"Prisoner\", \"credit_id\": \"560c2f2a9251417196005dc4\", \"gender\": 0, \"id\": 578699, \"name\": \"Grahame Edwards\", \"order\": 90}, {\"cast_id\": 298, \"character\": \"Prisoner\", \"credit_id\": \"560c2f4492514171a30066d6\", \"gender\": 0, \"id\": 126316, \"name\": \"Roger Monk\", \"order\": 91}, {\"cast_id\": 299, \"character\": \"Prisoner\", \"credit_id\": \"560c2f5b925141157f0005fb\", \"gender\": 2, \"id\": 1132153, \"name\": \"Ronan Summers\", \"order\": 92}, {\"cast_id\": 412, \"character\": \"Hong Kong Detective\", \"credit_id\": \"5993d34892514153ff00dff5\", \"gender\": 2, \"id\": 1599260, \"name\": \"Wai Wong\", \"order\": 93}, {\"cast_id\": 413, \"character\": \"Honor Guard Leader\", \"credit_id\": \"5993d35b92514153ff00e033\", \"gender\": 0, \"id\": 1870636, \"name\": \"Michael Corey Foster\", \"order\": 94}, {\"cast_id\": 414, \"character\": \"Gordon's Daughter\", \"credit_id\": \"5993d36892514153ff00e073\", \"gender\": 0, \"id\": 1870637, \"name\": \"Hannah Gunn\", \"order\": 95}, {\"cast_id\": 415, \"character\": \"Armored Car SWAT\", \"credit_id\": \"5993d375c3a3687f9e00e7e3\", \"gender\": 0, \"id\": 1870638, \"name\": \"Brandon Lambdin\", \"order\": 96}, {\"cast_id\": 300, \"character\": \"Waiter (uncredited)\", \"credit_id\": \"560c3c94925141719c006489\", \"gender\": 0, \"id\": 1161711, \"name\": \"Jon Lee Brody\", \"order\": 97}, {\"cast_id\": 301, \"character\": \"Bank Patron (uncredited)\", \"credit_id\": \"560c3cc2c3a36868170066c2\", \"gender\": 0, \"id\": 580566, \"name\": \"Debbi Burns\", \"order\": 98}, {\"cast_id\": 302, \"character\": \"Party Guest (uncredited)\", \"credit_id\": \"560c3ce49251417196006004\", \"gender\": 0, \"id\": 1128275, \"name\": \"Maritza Cabrera\", \"order\": 99}, {\"cast_id\": 303, \"character\": \"Party Guest with Glass (uncredited)\", \"credit_id\": \"560c3d0892514171a3006975\", \"gender\": 0, \"id\": 1185594, \"name\": \"Shirin Caiola\", \"order\": 100}, {\"cast_id\": 304, \"character\": \"Party Guest (uncredited)\", \"credit_id\": \"560c3d3dc3a368680e00635a\", \"gender\": 0, \"id\": 1197335, \"name\": \"Laura Chernicky\", \"order\": 101}, {\"cast_id\": 357, \"character\": \"Lau Henchman (uncredited)\", \"credit_id\": \"567b1eb19251417de3000a3c\", \"gender\": 0, \"id\": 1552999, \"name\": \"Henry Milton Chu\", \"order\": 102}, {\"cast_id\": 306, \"character\": \"Paramedic (uncredited)\", \"credit_id\": \"560c3f899251417e9e0049a3\", \"gender\": 1, \"id\": 1192165, \"name\": \"Kelli Clevenger\", \"order\": 103}, {\"cast_id\": 307, \"character\": \"Chechen Gangster (uncredited)\", \"credit_id\": \"560c3fea9251415019000533\", \"gender\": 0, \"id\": 1131169, \"name\": \"Richard Divizio\", \"order\": 104}, {\"cast_id\": 308, \"character\": \"Press Conference Heckler (uncredited)\", \"credit_id\": \"560c4017c3a3686817006783\", \"gender\": 0, \"id\": 580567, \"name\": \"Tony Domino\", \"order\": 105}, {\"cast_id\": 310, \"character\": \"Pedestrian (uncredited)\", \"credit_id\": \"560c40d892514171a3006a6b\", \"gender\": 0, \"id\": 228305, \"name\": \"David Fultz\", \"order\": 106}, {\"cast_id\": 311, \"character\": \"Ferry Passenger (uncredited)\", \"credit_id\": \"560c413c92514171a3006a7a\", \"gender\": 1, \"id\": 1392731, \"name\": \"Natalie Hallam\", \"order\": 107}, {\"cast_id\": 312, \"character\": \"Police Officer (uncredited)\", \"credit_id\": \"560c4185c3a368680b0066da\", \"gender\": 0, \"id\": 593182, \"name\": \"Jordon Hodges\", \"order\": 108}, {\"cast_id\": 313, \"character\": \"Prisoner (uncredited)\", \"credit_id\": \"560c41f092514171a3006ab7\", \"gender\": 0, \"id\": 1086373, \"name\": \"Erron Jay\", \"order\": 109}, {\"cast_id\": 315, \"character\": \"Immigrant Ferry Passenger (uncredited)\", \"credit_id\": \"560c4268925141719c0065d6\", \"gender\": 0, \"id\": 1207205, \"name\": \"Daniel Jefferson\", \"order\": 110}, {\"cast_id\": 316, \"character\": \"Shotgun SWAT (uncredited)\", \"credit_id\": \"560c42dfc3a3686814006e66\", \"gender\": 2, \"id\": 18070, \"name\": \"Nicky Katt\", \"order\": 111}, {\"cast_id\": 317, \"character\": \"Parade Police Officer (uncredited)\", \"credit_id\": \"560c431ec3a3686814006e74\", \"gender\": 0, \"id\": 580560, \"name\": \"Thomas Kosik\", \"order\": 112}, {\"cast_id\": 319, \"character\": \"Maroni's Henchman (uncredited)\", \"credit_id\": \"560c43e8925141719100697f\", \"gender\": 0, \"id\": 505400, \"name\": \"Don Kress\", \"order\": 113}, {\"cast_id\": 320, \"character\": \"Assistant D.A. (uncredited)\", \"credit_id\": \"560c442b925141719600617d\", \"gender\": 0, \"id\": 1058964, \"name\": \"Tim Krueger\", \"order\": 114}, {\"cast_id\": 321, \"character\": \"Police Sgt. Spellman / Gotham Bomb Squad (uncredited)\", \"credit_id\": \"560c448e9251417e9e004aa2\", \"gender\": 0, \"id\": 1261397, \"name\": \"Dan Latham\", \"order\": 115}, {\"cast_id\": 367, \"character\": \"Helicopter SWAT Sniper (uncredited)\", \"credit_id\": \"56e215d9c3a3686ff5000892\", \"gender\": 0, \"id\": 1551776, \"name\": \"Tom McComas\", \"order\": 116}, {\"cast_id\": 322, \"character\": \"Ferry Passenger (uncredited)\", \"credit_id\": \"560c461cc3a3686814006ede\", \"gender\": 2, \"id\": 1111803, \"name\": \"James Mellor\", \"order\": 117}, {\"cast_id\": 323, \"character\": \"Officer (uncredited)\", \"credit_id\": \"560c465c92514171910069e2\", \"gender\": 2, \"id\": 1360008, \"name\": \"Joseph Oliveira\", \"order\": 118}, {\"cast_id\": 324, \"character\": \"Joker's Thug #2 (uncredited)\", \"credit_id\": \"560c46bdc3a36868240062d9\", \"gender\": 0, \"id\": 1426334, \"name\": \"Buster Reeves\", \"order\": 119}, {\"cast_id\": 314, \"character\": \"Prisoner (uncredited)\", \"credit_id\": \"560c4218c3a368680e006473\", \"gender\": 2, \"id\": 30450, \"name\": \"Peter Rnic\", \"order\": 120}, {\"cast_id\": 240, \"character\": \"Party Guest (uncredited)\", \"credit_id\": \"551bf00d9251414af6003148\", \"gender\": 0, \"id\": 1209046, \"name\": \"Amit Shah\", \"order\": 121}, {\"cast_id\": 325, \"character\": \"Angry Hospital Relative (uncredited)\", \"credit_id\": \"560c4757925141157f0009ff\", \"gender\": 0, \"id\": 1058963, \"name\": \"Michelle Shields\", \"order\": 122}, {\"cast_id\": 326, \"character\": \"Evacuee (uncredited)\", \"credit_id\": \"560c4787c3a36868170068e4\", \"gender\": 0, \"id\": 98994, \"name\": \"Sofiya Smirnova\", \"order\": 123}, {\"cast_id\": 327, \"character\": \"High-Ranking Police Official (uncredited)\", \"credit_id\": \"560c47e7c3a3686824006305\", \"gender\": 0, \"id\": 1108073, \"name\": \"Bruce Spielbauer\", \"order\": 124}, {\"cast_id\": 328, \"character\": \"Extra (uncredited)\", \"credit_id\": \"560c4842c3a3686814006f50\", \"gender\": 0, \"id\": 1185600, \"name\": \"Robert Patrick Stern\", \"order\": 125}, {\"cast_id\": 329, \"character\": \"Dept. of Corrections Resident (uncredited)\", \"credit_id\": \"560c48dd92514171a000651f\", \"gender\": 0, \"id\": 1209051, \"name\": \"Robert Stone\", \"order\": 126}, {\"cast_id\": 330, \"character\": \"Detective (uncredited)\", \"credit_id\": \"560c491292514171a0006527\", \"gender\": 0, \"id\": 99223, \"name\": \"Richard Strobel\", \"order\": 127}, {\"cast_id\": 318, \"character\": \"Police Officer (uncredited)\", \"credit_id\": \"560c43a99251417e9e004a7d\", \"gender\": 0, \"id\": 79810, \"name\": \"Tom Townsend\", \"order\": 128}, {\"cast_id\": 331, \"character\": \"Chechen's Bodyguard (uncredited)\", \"credit_id\": \"560c496fc3a368680b006843\", \"gender\": 0, \"id\": 204276, \"name\": \"John Turk\", \"order\": 129}, {\"cast_id\": 332, \"character\": \"Detective (uncredited)\", \"credit_id\": \"560c499ec3a368681f00612c\", \"gender\": 0, \"id\": 1209055, \"name\": \"John Warman\", \"order\": 130}, {\"cast_id\": 305, \"character\": \"Party Guest (uncredited)\", \"credit_id\": \"560c3f18925141157f000862\", \"gender\": 0, \"id\": 1512023, \"name\": \"Erik A. Williams\", \"order\": 131}, {\"cast_id\": 333, \"character\": \"Major Crime Unit Detective (uncredited)\", \"credit_id\": \"560c4a079251417e9e004bb1\", \"gender\": 2, \"id\": 127005, \"name\": \"Chris Wilson\", \"order\": 132}, {\"cast_id\": 334, \"character\": \"Party Staff (uncredited)\", \"credit_id\": \"560c4a57c3a368680e0065ad\", \"gender\": 0, \"id\": 1380656, \"name\": \"Kevin Zaideman\", \"order\": 133}]",
         "[{\"credit_id\": \"55a0eb4a925141296b0010f8\", \"department\": \"Production\", \"gender\": 1, \"id\": 1113, \"job\": \"Casting\", \"name\": \"Lucinda Syson\"}, {\"credit_id\": \"52fe421fc3a36847f8005ccb\", \"department\": \"Sound\", \"gender\": 2, \"id\": 947, \"job\": \"Original Music Composer\", \"name\": \"Hans Zimmer\"}, {\"credit_id\": \"52fe421fc3a36847f8005ce7\", \"department\": \"Production\", \"gender\": 0, \"id\": 282, \"job\": \"Producer\", \"name\": \"Charles Roven\"}, {\"credit_id\": \"52fe4220c3a36847f8005d03\", \"department\": \"Writing\", \"gender\": 2, \"id\": 525, \"job\": \"Screenplay\", \"name\": \"Christopher Nolan\"}, {\"credit_id\": \"52fe421fc3a36847f8005cbb\", \"department\": \"Directing\", \"gender\": 2, \"id\": 525, \"job\": \"Director\", \"name\": \"Christopher Nolan\"}, {\"credit_id\": \"52fe421fc3a36847f8005ce1\", \"department\": \"Production\", \"gender\": 2, \"id\": 525, \"job\": \"Producer\", \"name\": \"Christopher Nolan\"}, {\"credit_id\": \"52fe421fc3a36847f8005cc5\", \"department\": \"Writing\", \"gender\": 2, \"id\": 527, \"job\": \"Screenplay\", \"name\": \"Jonathan Nolan\"}, {\"credit_id\": \"52fe421fc3a36847f8005ced\", \"department\": \"Production\", \"gender\": 1, \"id\": 556, \"job\": \"Producer\", \"name\": \"Emma Thomas\"}, {\"credit_id\": \"52fe421fc3a36847f8005cd1\", \"department\": \"Camera\", \"gender\": 2, \"id\": 559, \"job\": \"Director of Photography\", \"name\": \"Wally Pfister\"}, {\"credit_id\": \"52fe4220c3a36847f8005d47\", \"department\": \"Production\", \"gender\": 0, \"id\": 561, \"job\": \"Casting\", \"name\": \"John Papsidera\"}, {\"credit_id\": \"52fe421fc3a36847f8005cdb\", \"department\": \"Sound\", \"gender\": 2, \"id\": 1213, \"job\": \"Original Music Composer\", \"name\": \"James Newton Howard\"}, {\"credit_id\": \"52fe4220c3a36847f8005d0f\", \"department\": \"Writing\", \"gender\": 2, \"id\": 3893, \"job\": \"Story\", \"name\": \"David S. Goyer\"}, {\"credit_id\": \"5766ca0d9251416995000624\", \"department\": \"Writing\", \"gender\": 2, \"id\": 3794, \"job\": \"Characters\", \"name\": \"Bob Kane\"}, {\"credit_id\": \"52fe4220c3a36847f8005d35\", \"department\": \"Editing\", \"gender\": 0, \"id\": 3904, \"job\": \"Editor\", \"name\": \"Lee Smith\"}, {\"credit_id\": \"56b632bb9251414a25003d55\", \"department\": \"Production\", \"gender\": 0, \"id\": 20643, \"job\": \"Producer\", \"name\": \"Lorne Orleans\"}, {\"credit_id\": \"52fe4220c3a36847f8005d23\", \"department\": \"Production\", \"gender\": 2, \"id\": 10949, \"job\": \"Executive Producer\", \"name\": \"Michael Uslan\"}, {\"credit_id\": \"52fe4220c3a36847f8005d2f\", \"department\": \"Production\", \"gender\": 2, \"id\": 10951, \"job\": \"Executive Producer\", \"name\": \"Benjamin Melniker\"}, {\"credit_id\": \"55a0e9849251412974001144\", \"department\": \"Art\", \"gender\": 0, \"id\": 11167, \"job\": \"Art Direction\", \"name\": \"Mark Bartholomew\"}, {\"credit_id\": \"52fe4220c3a36847f8005d4d\", \"department\": \"Costume & Make-Up\", \"gender\": 1, \"id\": 10714, \"job\": \"Costume Design\", \"name\": \"Lindy Hemming\"}, {\"credit_id\": \"55a0e9fdc3a3681cde0010b7\", \"department\": \"Art\", \"gender\": 2, \"id\": 10788, \"job\": \"Art Direction\", \"name\": \"Steven Lawrence\"}, {\"credit_id\": \"55a0ea989251412977001115\", \"department\": \"Costume & Make-Up\", \"gender\": 0, \"id\": 15845, \"job\": \"Makeup Artist\", \"name\": \"John Caglione Jr.\"}, {\"credit_id\": \"52fe4220c3a36847f8005d3b\", \"department\": \"Art\", \"gender\": 2, \"id\": 15327, \"job\": \"Production Design\", \"name\": \"Nathan Crowley\"}, {\"credit_id\": \"570a7b3ac3a3687757005056\", \"department\": \"Art\", \"gender\": 0, \"id\": 15328, \"job\": \"Supervising Art Director\", \"name\": \"Kevin Kavanaugh\"}, {\"credit_id\": \"55a0ea0e9251412980001112\", \"department\": \"Art\", \"gender\": 0, \"id\": 17677, \"job\": \"Art Direction\", \"name\": \"Naaman Marshall\"}, {\"credit_id\": \"5674b428c3a368168e0010a9\", \"department\": \"Crew\", \"gender\": 0, \"id\": 44006, \"job\": \"Stunt Coordinator\", \"name\": \"Paul Jennings\"}, {\"credit_id\": \"52fe4220c3a36847f8005d1d\", \"department\": \"Production\", \"gender\": 0, \"id\": 54211, \"job\": \"Executive Producer\", \"name\": \"Thomas Tull\"}, {\"credit_id\": \"52fe4220c3a36847f8005d41\", \"department\": \"Art\", \"gender\": 0, \"id\": 60714, \"job\": \"Set Decoration\", \"name\": \"Peter Lando\"}, {\"credit_id\": \"579d0e12c3a368283000172e\", \"department\": \"Sound\", \"gender\": 0, \"id\": 68016, \"job\": \"Orchestrator\", \"name\": \"Kevin Kaska\"}, {\"credit_id\": \"56d9d28fc3a3682cef01228c\", \"department\": \"Crew\", \"gender\": 2, \"id\": 81687, \"job\": \"Stunts\", \"name\": \"Rick Avery\"}, {\"credit_id\": \"52fe4220c3a36847f8005d29\", \"department\": \"Production\", \"gender\": 2, \"id\": 75804, \"job\": \"Executive Producer\", \"name\": \"Kevin De La Noy\"}, {\"credit_id\": \"5766cabf92514113a600002a\", \"department\": \"Production\", \"gender\": 0, \"id\": 113913, \"job\": \"Associate Producer\", \"name\": \"Jordan Goldberg\"}, {\"credit_id\": \"55a0e9c2925141297d001240\", \"department\": \"Art\", \"gender\": 0, \"id\": 86591, \"job\": \"Art Direction\", \"name\": \"Craig Jackson\"}, {\"credit_id\": \"5674b28792514179e1000f31\", \"department\": \"Sound\", \"gender\": 0, \"id\": 138618, \"job\": \"Sound Re-Recording Mixer\", \"name\": \"Gary Rizzo\"}, {\"credit_id\": \"58f2c9de9251413d84006e96\", \"department\": \"Writing\", \"gender\": 0, \"id\": 198034, \"job\": \"Characters\", \"name\": \"Bill Finger\"}, {\"credit_id\": \"5753102092514109150003c4\", \"department\": \"Sound\", \"gender\": 2, \"id\": 932186, \"job\": \"Orchestrator\", \"name\": \"Bruce Fowler\"}, {\"credit_id\": \"56ba97bac3a3681b750008b2\", \"department\": \"Sound\", \"gender\": 0, \"id\": 936765, \"job\": \"Orchestrator\", \"name\": \"Jeff Atmajian\"}, {\"credit_id\": \"587fd913c3a36863cc00051e\", \"department\": \"Crew\", \"gender\": 1, \"id\": 996220, \"job\": \"Stunts\", \"name\": \"Jessie Graff\"}, {\"credit_id\": \"56a1894bc3a36858e501133f\", \"department\": \"Crew\", \"gender\": 2, \"id\": 1025090, \"job\": \"Stunts\", \"name\": \"Jim Wilkey\"}, {\"credit_id\": \"55a0e999c3a3681ce30011eb\", \"department\": \"Art\", \"gender\": 0, \"id\": 1034754, \"job\": \"Art Direction\", \"name\": \"James Hambidge\"}, {\"credit_id\": \"5674b2a5c3a368168b000e94\", \"department\": \"Editing\", \"gender\": 0, \"id\": 1050930, \"job\": \"Dialogue Editor\", \"name\": \"Hugo Weng\"}, {\"credit_id\": \"560b300d92514171a3003f06\", \"department\": \"Crew\", \"gender\": 0, \"id\": 1233538, \"job\": \"Thanks\", \"name\": \"Richard M. Daley\"}, {\"credit_id\": \"570a7b4992514140f3001f71\", \"department\": \"Art\", \"gender\": 0, \"id\": 1325917, \"job\": \"Supervising Art Director\", \"name\": \"Simon Lamont\"}, {\"credit_id\": \"5674b26992514179d4000f5f\", \"department\": \"Sound\", \"gender\": 0, \"id\": 1327030, \"job\": \"Sound Re-Recording Mixer\", \"name\": \"Lora Hirschberg\"}, {\"credit_id\": \"5674b43e92514179dd000f27\", \"department\": \"Crew\", \"gender\": 0, \"id\": 1327404, \"job\": \"Stunt Coordinator\", \"name\": \"Rick Le Fevour\"}, {\"credit_id\": \"5797967c9251411b59000106\", \"department\": \"Crew\", \"gender\": 2, \"id\": 1332017, \"job\": \"Stunts\", \"name\": \"Brian Christensen\"}, {\"credit_id\": \"5674b22fc3a3681683000ee7\", \"department\": \"Sound\", \"gender\": 2, \"id\": 1341403, \"job\": \"Sound Designer\", \"name\": \"Richard King\"}, {\"credit_id\": \"5674b22592514179e1000f20\", \"department\": \"Sound\", \"gender\": 2, \"id\": 1341403, \"job\": \"Supervising Sound Editor\", \"name\": \"Richard King\"}, {\"credit_id\": \"5674b29692514179e1000f38\", \"department\": \"Editing\", \"gender\": 0, \"id\": 1341405, \"job\": \"Dialogue Editor\", \"name\": \"Michael Magill\"}, {\"credit_id\": \"58f2c9e9c3a368081e007301\", \"department\": \"Writing\", \"gender\": 0, \"id\": 1356195, \"job\": \"Characters\", \"name\": \"Jerry Robinson\"}, {\"credit_id\": \"55a0eb8bc3a3681cf5001143\", \"department\": \"Directing\", \"gender\": 2, \"id\": 1367508, \"job\": \"Script Supervisor\", \"name\": \"Steve Gehrke\"}, {\"credit_id\": \"56ff24a89251416776000810\", \"department\": \"Sound\", \"gender\": 2, \"id\": 1377220, \"job\": \"Sound Re-Recording Mixer\", \"name\": \"Doug Hemphill\"}, {\"credit_id\": \"5674b2b992514179d7000faa\", \"department\": \"Sound\", \"gender\": 0, \"id\": 1377222, \"job\": \"Sound Effects Editor\", \"name\": \"Michael W. Mitchell\"}, {\"credit_id\": \"5674b1b0c3a368168b000e65\", \"department\": \"Camera\", \"gender\": 2, \"id\": 1390535, \"job\": \"Still Photographer\", \"name\": \"Stephen Vaughan\"}, {\"credit_id\": \"5674b3e9c3a368167c000fc1\", \"department\": \"Camera\", \"gender\": 2, \"id\": 1395281, \"job\": \"Camera Operator\", \"name\": \"Bob Gorelick\"}, {\"credit_id\": \"5674b3e392514179db000fb7\", \"department\": \"Camera\", \"gender\": 2, \"id\": 1395281, \"job\": \"Steadicam Operator\", \"name\": \"Bob Gorelick\"}, {\"credit_id\": \"55a0eadb925141296e00119d\", \"department\": \"Art\", \"gender\": 0, \"id\": 1395430, \"job\": \"Art Department Coordinator\", \"name\": \"Jenne Lee\"}, {\"credit_id\": \"5644d9c99251410a4c006237\", \"department\": \"Sound\", \"gender\": 0, \"id\": 1397823, \"job\": \"Foley\", \"name\": \"Alyson Dee Moore\"}, {\"credit_id\": \"5674b20ac3a368167c000f5e\", \"department\": \"Sound\", \"gender\": 0, \"id\": 1400088, \"job\": \"Music Editor\", \"name\": \"Daniel Pinder\"}, {\"credit_id\": \"5674b1fbc3a3681689000e69\", \"department\": \"Sound\", \"gender\": 0, \"id\": 1403490, \"job\": \"Music Editor\", \"name\": \"Alex Gibson\"}, {\"credit_id\": \"56a2c87cc3a3683893000ca6\", \"department\": \"Crew\", \"gender\": 0, \"id\": 1411061, \"job\": \"Stunts\", \"name\": \"Mark Mottram\"}, {\"credit_id\": \"57bc774dc3a368228f006813\", \"department\": \"Crew\", \"gender\": 0, \"id\": 1411118, \"job\": \"Unit Publicist\", \"name\": \"Mira Husseini\"}, {\"credit_id\": \"5674b2f4c3a368168b000ea4\", \"department\": \"Costume & Make-Up\", \"gender\": 0, \"id\": 1417398, \"job\": \"Hair Department Head\", \"name\": \"Janice Alexander\"}, {\"credit_id\": \"55a0ea4fc3a3681ce7001136\", \"department\": \"Costume & Make-Up\", \"gender\": 0, \"id\": 1417400, \"job\": \"Hairstylist\", \"name\": \"Deena Adair\"}, {\"credit_id\": \"5674b2ccc3a368167c000f86\", \"department\": \"Sound\", \"gender\": 0, \"id\": 1417514, \"job\": \"Sound Effects Editor\", \"name\": \"Michael Babcock\"}, {\"credit_id\": \"55a0eab19251412971001182\", \"department\": \"Costume & Make-Up\", \"gender\": 1, \"id\": 1426762, \"job\": \"Makeup Artist\", \"name\": \"Nancy Hancock\"}, {\"credit_id\": \"56d4e894c3a3681e3c01794f\", \"department\": \"Editing\", \"gender\": 0, \"id\": 1440853, \"job\": \"Assistant Editor\", \"name\": \"Donald Likovich\"}, {\"credit_id\": \"566dbae8925141664f00be5a\", \"department\": \"Costume & Make-Up\", \"gender\": 0, \"id\": 1443032, \"job\": \"Hairstylist\", \"name\": \"Kimberley Spiteri\"}, {\"credit_id\": \"55a0ea81c3a3681cf3001211\", \"department\": \"Costume & Make-Up\", \"gender\": 1, \"id\": 1486214, \"job\": \"Makeup Artist\", \"name\": \"Sue Robb-King\"}, {\"credit_id\": \"55a0eb32925141296e0011a4\", \"department\": \"Production\", \"gender\": 0, \"id\": 1486217, \"job\": \"Casting\", \"name\": \"Nicholas Gall\"}, {\"credit_id\": \"576ac579c3a368638e0001e2\", \"department\": \"Costume & Make-Up\", \"gender\": 0, \"id\": 1522745, \"job\": \"Set Costumer\", \"name\": \"Patrick Caulfield\"}, {\"credit_id\": \"563659d0c3a3681b5c01cbda\", \"department\": \"Sound\", \"gender\": 2, \"id\": 1530327, \"job\": \"Orchestrator\", \"name\": \"Brad Dechter\"}, {\"credit_id\": \"5766cda1925141135c000094\", \"department\": \"Crew\", \"gender\": 0, \"id\": 1532224, \"job\": \"Animatronic and Prosthetic Effects\", \"name\": \"Jim Boulden\"}, {\"credit_id\": \"57d6e9fb9251412043000414\", \"department\": \"Camera\", \"gender\": 0, \"id\": 1532610, \"job\": \"First Assistant Camera\", \"name\": \"Bob Hall\"}, {\"credit_id\": \"5654a5bec3a36817810001cf\", \"department\": \"Production\", \"gender\": 0, \"id\": 1540477, \"job\": \"Publicist\", \"name\": \"Dennis Davidson\"}, {\"credit_id\": \"5674b24dc3a3681689000e78\", \"department\": \"Sound\", \"gender\": 0, \"id\": 1550832, \"job\": \"Production Sound Mixer\", \"name\": \"Ed Novick\"}, {\"credit_id\": \"5674b41792514179dd000f1b\", \"department\": \"Crew\", \"gender\": 0, \"id\": 1550851, \"job\": \"Stunt Coordinator\", \"name\": \"Tom Struthers\"}, {\"credit_id\": \"56e215adc3a3686ff500088c\", \"department\": \"Crew\", \"gender\": 0, \"id\": 1551776, \"job\": \"Stunts\", \"name\": \"Tom McComas\"}, {\"credit_id\": \"568f07429251416b52003f23\", \"department\": \"Editing\", \"gender\": 0, \"id\": 1552549, \"job\": \"Color Timer\", \"name\": \"David Orr\"}, {\"credit_id\": \"56b78193c3a36806ec00e6db\", \"department\": \"Directing\", \"gender\": 0, \"id\": 1566280, \"job\": \"Assistant Director\", \"name\": \"Nilo Otero\"}, {\"credit_id\": \"5766cc859251416995000678\", \"department\": \"Crew\", \"gender\": 0, \"id\": 1571601, \"job\": \"Post Production Supervisor\", \"name\": \"David E. Hall\"}, {\"credit_id\": \"5766cbcc92514113a600005a\", \"department\": \"Costume & Make-Up\", \"gender\": 0, \"id\": 1638257, \"job\": \"Prosthetic Supervisor\", \"name\": \"Conor O'Sullivan\"}]",
         "7.920073072706244",
         "0.9520394415251787",
         "0.21226840519505735",
         "0.5821539233601181"
        ]
       ],
       "shape": {
        "columns": 22,
        "rows": 5
       }
      },
      "text/html": [
       "<div>\n",
       "<style scoped>\n",
       "    .dataframe tbody tr th:only-of-type {\n",
       "        vertical-align: middle;\n",
       "    }\n",
       "\n",
       "    .dataframe tbody tr th {\n",
       "        vertical-align: top;\n",
       "    }\n",
       "\n",
       "    .dataframe thead th {\n",
       "        text-align: right;\n",
       "    }\n",
       "</style>\n",
       "<table border=\"1\" class=\"dataframe\">\n",
       "  <thead>\n",
       "    <tr style=\"text-align: right;\">\n",
       "      <th></th>\n",
       "      <th>budget</th>\n",
       "      <th>genres</th>\n",
       "      <th>id</th>\n",
       "      <th>keywords</th>\n",
       "      <th>original_language</th>\n",
       "      <th>original_title</th>\n",
       "      <th>overview</th>\n",
       "      <th>popularity</th>\n",
       "      <th>production_companies</th>\n",
       "      <th>release_date</th>\n",
       "      <th>...</th>\n",
       "      <th>spoken_languages</th>\n",
       "      <th>tagline</th>\n",
       "      <th>vote_average</th>\n",
       "      <th>vote_count</th>\n",
       "      <th>cast</th>\n",
       "      <th>crew</th>\n",
       "      <th>weighted_avg</th>\n",
       "      <th>weighted_avg_scaled</th>\n",
       "      <th>popularity_scaled</th>\n",
       "      <th>score_mix</th>\n",
       "    </tr>\n",
       "  </thead>\n",
       "  <tbody>\n",
       "    <tr>\n",
       "      <th>95</th>\n",
       "      <td>165000000</td>\n",
       "      <td>[{\"id\": 12, \"name\": \"Adventure\"}, {\"id\": 18, \"...</td>\n",
       "      <td>157336</td>\n",
       "      <td>[{\"id\": 83, \"name\": \"saving the world\"}, {\"id\"...</td>\n",
       "      <td>en</td>\n",
       "      <td>Interstellar</td>\n",
       "      <td>Interstellar chronicles the adventures of a gr...</td>\n",
       "      <td>724.247784</td>\n",
       "      <td>[{\"name\": \"Paramount Pictures\", \"id\": 4}, {\"na...</td>\n",
       "      <td>2014-11-05</td>\n",
       "      <td>...</td>\n",
       "      <td>[{\"iso_639_1\": \"en\", \"name\": \"English\"}]</td>\n",
       "      <td>Mankind was born on Earth. It was never meant ...</td>\n",
       "      <td>8.1</td>\n",
       "      <td>10867</td>\n",
       "      <td>[{\"cast_id\": 9, \"character\": \"Joseph Cooper\", ...</td>\n",
       "      <td>[{\"credit_id\": \"52fe4bbf9251416c910e4801\", \"de...</td>\n",
       "      <td>7.809533</td>\n",
       "      <td>0.913971</td>\n",
       "      <td>0.826794</td>\n",
       "      <td>0.870382</td>\n",
       "    </tr>\n",
       "    <tr>\n",
       "      <th>546</th>\n",
       "      <td>74000000</td>\n",
       "      <td>[{\"id\": 10751, \"name\": \"Family\"}, {\"id\": 16, \"...</td>\n",
       "      <td>211672</td>\n",
       "      <td>[{\"id\": 3487, \"name\": \"assistant\"}, {\"id\": 179...</td>\n",
       "      <td>en</td>\n",
       "      <td>Minions</td>\n",
       "      <td>Minions Stuart, Kevin and Bob are recruited by...</td>\n",
       "      <td>875.581305</td>\n",
       "      <td>[{\"name\": \"Universal Pictures\", \"id\": 33}, {\"n...</td>\n",
       "      <td>2015-06-17</td>\n",
       "      <td>...</td>\n",
       "      <td>[{\"iso_639_1\": \"en\", \"name\": \"English\"}]</td>\n",
       "      <td>Before Gru, they had a history of bad bosses</td>\n",
       "      <td>6.4</td>\n",
       "      <td>4571</td>\n",
       "      <td>[{\"cast_id\": 22, \"character\": \"Scarlet Overkil...</td>\n",
       "      <td>[{\"credit_id\": \"5431b2b10e0a2656e20026c7\", \"de...</td>\n",
       "      <td>6.311720</td>\n",
       "      <td>0.398141</td>\n",
       "      <td>1.000000</td>\n",
       "      <td>0.699070</td>\n",
       "    </tr>\n",
       "    <tr>\n",
       "      <th>94</th>\n",
       "      <td>170000000</td>\n",
       "      <td>[{\"id\": 28, \"name\": \"Action\"}, {\"id\": 878, \"na...</td>\n",
       "      <td>118340</td>\n",
       "      <td>[{\"id\": 8828, \"name\": \"marvel comic\"}, {\"id\": ...</td>\n",
       "      <td>en</td>\n",
       "      <td>Guardians of the Galaxy</td>\n",
       "      <td>Light years from Earth, 26 years after being a...</td>\n",
       "      <td>481.098624</td>\n",
       "      <td>[{\"name\": \"Marvel Studios\", \"id\": 420}, {\"name...</td>\n",
       "      <td>2014-07-30</td>\n",
       "      <td>...</td>\n",
       "      <td>[{\"iso_639_1\": \"en\", \"name\": \"English\"}]</td>\n",
       "      <td>All heroes start somewhere.</td>\n",
       "      <td>7.9</td>\n",
       "      <td>9742</td>\n",
       "      <td>[{\"cast_id\": 1, \"character\": \"Peter Quill / St...</td>\n",
       "      <td>[{\"credit_id\": \"538ce329c3a3687155003358\", \"de...</td>\n",
       "      <td>7.613058</td>\n",
       "      <td>0.846307</td>\n",
       "      <td>0.548503</td>\n",
       "      <td>0.697405</td>\n",
       "    </tr>\n",
       "    <tr>\n",
       "      <th>788</th>\n",
       "      <td>58000000</td>\n",
       "      <td>[{\"id\": 28, \"name\": \"Action\"}, {\"id\": 12, \"nam...</td>\n",
       "      <td>293660</td>\n",
       "      <td>[{\"id\": 2095, \"name\": \"anti hero\"}, {\"id\": 307...</td>\n",
       "      <td>en</td>\n",
       "      <td>Deadpool</td>\n",
       "      <td>Deadpool tells the origin story of former Spec...</td>\n",
       "      <td>514.569956</td>\n",
       "      <td>[{\"name\": \"Twentieth Century Fox Film Corporat...</td>\n",
       "      <td>2016-02-09</td>\n",
       "      <td>...</td>\n",
       "      <td>[{\"iso_639_1\": \"en\", \"name\": \"English\"}]</td>\n",
       "      <td>Witness the beginning of a happy ending</td>\n",
       "      <td>7.4</td>\n",
       "      <td>10995</td>\n",
       "      <td>[{\"cast_id\": 99, \"character\": \"Wade Wilson / D...</td>\n",
       "      <td>[{\"credit_id\": \"56c986b2925141172f0068b6\", \"de...</td>\n",
       "      <td>7.212687</td>\n",
       "      <td>0.708424</td>\n",
       "      <td>0.586812</td>\n",
       "      <td>0.647618</td>\n",
       "    </tr>\n",
       "    <tr>\n",
       "      <th>65</th>\n",
       "      <td>185000000</td>\n",
       "      <td>[{\"id\": 18, \"name\": \"Drama\"}, {\"id\": 28, \"name...</td>\n",
       "      <td>155</td>\n",
       "      <td>[{\"id\": 849, \"name\": \"dc comics\"}, {\"id\": 853,...</td>\n",
       "      <td>en</td>\n",
       "      <td>The Dark Knight</td>\n",
       "      <td>Batman raises the stakes in his war on crime. ...</td>\n",
       "      <td>187.322927</td>\n",
       "      <td>[{\"name\": \"DC Comics\", \"id\": 429}, {\"name\": \"L...</td>\n",
       "      <td>2008-07-16</td>\n",
       "      <td>...</td>\n",
       "      <td>[{\"iso_639_1\": \"en\", \"name\": \"English\"}, {\"iso...</td>\n",
       "      <td>Why So Serious?</td>\n",
       "      <td>8.2</td>\n",
       "      <td>12002</td>\n",
       "      <td>[{\"cast_id\": 35, \"character\": \"Bruce Wayne\", \"...</td>\n",
       "      <td>[{\"credit_id\": \"55a0eb4a925141296b0010f8\", \"de...</td>\n",
       "      <td>7.920073</td>\n",
       "      <td>0.952039</td>\n",
       "      <td>0.212268</td>\n",
       "      <td>0.582154</td>\n",
       "    </tr>\n",
       "  </tbody>\n",
       "</table>\n",
       "<p>5 rows × 22 columns</p>\n",
       "</div>"
      ],
      "text/plain": [
       "        budget                                             genres      id  \\\n",
       "95   165000000  [{\"id\": 12, \"name\": \"Adventure\"}, {\"id\": 18, \"...  157336   \n",
       "546   74000000  [{\"id\": 10751, \"name\": \"Family\"}, {\"id\": 16, \"...  211672   \n",
       "94   170000000  [{\"id\": 28, \"name\": \"Action\"}, {\"id\": 878, \"na...  118340   \n",
       "788   58000000  [{\"id\": 28, \"name\": \"Action\"}, {\"id\": 12, \"nam...  293660   \n",
       "65   185000000  [{\"id\": 18, \"name\": \"Drama\"}, {\"id\": 28, \"name...     155   \n",
       "\n",
       "                                              keywords original_language  \\\n",
       "95   [{\"id\": 83, \"name\": \"saving the world\"}, {\"id\"...                en   \n",
       "546  [{\"id\": 3487, \"name\": \"assistant\"}, {\"id\": 179...                en   \n",
       "94   [{\"id\": 8828, \"name\": \"marvel comic\"}, {\"id\": ...                en   \n",
       "788  [{\"id\": 2095, \"name\": \"anti hero\"}, {\"id\": 307...                en   \n",
       "65   [{\"id\": 849, \"name\": \"dc comics\"}, {\"id\": 853,...                en   \n",
       "\n",
       "              original_title  \\\n",
       "95              Interstellar   \n",
       "546                  Minions   \n",
       "94   Guardians of the Galaxy   \n",
       "788                 Deadpool   \n",
       "65           The Dark Knight   \n",
       "\n",
       "                                              overview  popularity  \\\n",
       "95   Interstellar chronicles the adventures of a gr...  724.247784   \n",
       "546  Minions Stuart, Kevin and Bob are recruited by...  875.581305   \n",
       "94   Light years from Earth, 26 years after being a...  481.098624   \n",
       "788  Deadpool tells the origin story of former Spec...  514.569956   \n",
       "65   Batman raises the stakes in his war on crime. ...  187.322927   \n",
       "\n",
       "                                  production_companies release_date  ...  \\\n",
       "95   [{\"name\": \"Paramount Pictures\", \"id\": 4}, {\"na...   2014-11-05  ...   \n",
       "546  [{\"name\": \"Universal Pictures\", \"id\": 33}, {\"n...   2015-06-17  ...   \n",
       "94   [{\"name\": \"Marvel Studios\", \"id\": 420}, {\"name...   2014-07-30  ...   \n",
       "788  [{\"name\": \"Twentieth Century Fox Film Corporat...   2016-02-09  ...   \n",
       "65   [{\"name\": \"DC Comics\", \"id\": 429}, {\"name\": \"L...   2008-07-16  ...   \n",
       "\n",
       "                                      spoken_languages  \\\n",
       "95            [{\"iso_639_1\": \"en\", \"name\": \"English\"}]   \n",
       "546           [{\"iso_639_1\": \"en\", \"name\": \"English\"}]   \n",
       "94            [{\"iso_639_1\": \"en\", \"name\": \"English\"}]   \n",
       "788           [{\"iso_639_1\": \"en\", \"name\": \"English\"}]   \n",
       "65   [{\"iso_639_1\": \"en\", \"name\": \"English\"}, {\"iso...   \n",
       "\n",
       "                                               tagline vote_average  \\\n",
       "95   Mankind was born on Earth. It was never meant ...          8.1   \n",
       "546       Before Gru, they had a history of bad bosses          6.4   \n",
       "94                         All heroes start somewhere.          7.9   \n",
       "788            Witness the beginning of a happy ending          7.4   \n",
       "65                                     Why So Serious?          8.2   \n",
       "\n",
       "    vote_count                                               cast  \\\n",
       "95       10867  [{\"cast_id\": 9, \"character\": \"Joseph Cooper\", ...   \n",
       "546       4571  [{\"cast_id\": 22, \"character\": \"Scarlet Overkil...   \n",
       "94        9742  [{\"cast_id\": 1, \"character\": \"Peter Quill / St...   \n",
       "788      10995  [{\"cast_id\": 99, \"character\": \"Wade Wilson / D...   \n",
       "65       12002  [{\"cast_id\": 35, \"character\": \"Bruce Wayne\", \"...   \n",
       "\n",
       "                                                  crew weighted_avg  \\\n",
       "95   [{\"credit_id\": \"52fe4bbf9251416c910e4801\", \"de...     7.809533   \n",
       "546  [{\"credit_id\": \"5431b2b10e0a2656e20026c7\", \"de...     6.311720   \n",
       "94   [{\"credit_id\": \"538ce329c3a3687155003358\", \"de...     7.613058   \n",
       "788  [{\"credit_id\": \"56c986b2925141172f0068b6\", \"de...     7.212687   \n",
       "65   [{\"credit_id\": \"55a0eb4a925141296b0010f8\", \"de...     7.920073   \n",
       "\n",
       "    weighted_avg_scaled  popularity_scaled  score_mix  \n",
       "95             0.913971           0.826794   0.870382  \n",
       "546            0.398141           1.000000   0.699070  \n",
       "94             0.846307           0.548503   0.697405  \n",
       "788            0.708424           0.586812   0.647618  \n",
       "65             0.952039           0.212268   0.582154  \n",
       "\n",
       "[5 rows x 22 columns]"
      ]
     },
     "execution_count": 32,
     "metadata": {},
     "output_type": "execute_result"
    }
   ],
   "source": [
    "popularity_sorted = popularity.sort_values(by=\"score_mix\", ascending=False)\n",
    "popularity_sorted.head()"
   ]
  },
  {
   "cell_type": "code",
   "execution_count": 16,
   "id": "a4eaf5dc",
   "metadata": {},
   "outputs": [
    {
     "data": {
      "application/vnd.plotly.v1+json": {
       "config": {
        "plotlyServerURL": "https://plot.ly"
       },
       "data": [
        {
         "hovertemplate": "Movie Title=%{x}<br>Weighted Popularity Score=%{y}<extra></extra>",
         "legendgroup": "Interstellar",
         "marker": {
          "color": "#636efa",
          "pattern": {
           "shape": ""
          }
         },
         "name": "Interstellar",
         "orientation": "v",
         "showlegend": true,
         "textposition": "auto",
         "type": "bar",
         "x": [
          "Interstellar"
         ],
         "xaxis": "x",
         "y": {
          "bdata": "AnQbXiza6z8=",
          "dtype": "f8"
         },
         "yaxis": "y"
        },
        {
         "hovertemplate": "Movie Title=%{x}<br>Weighted Popularity Score=%{y}<extra></extra>",
         "legendgroup": "Minions",
         "marker": {
          "color": "#EF553B",
          "pattern": {
           "shape": ""
          }
         },
         "name": "Minions",
         "orientation": "v",
         "showlegend": true,
         "textposition": "auto",
         "type": "bar",
         "x": [
          "Minions"
         ],
         "xaxis": "x",
         "y": {
          "bdata": "Uoz7+che5j8=",
          "dtype": "f8"
         },
         "yaxis": "y"
        },
        {
         "hovertemplate": "Movie Title=%{x}<br>Weighted Popularity Score=%{y}<extra></extra>",
         "legendgroup": "Guardians of the Galaxy",
         "marker": {
          "color": "#00cc96",
          "pattern": {
           "shape": ""
          }
         },
         "name": "Guardians of the Galaxy",
         "orientation": "v",
         "showlegend": true,
         "textposition": "auto",
         "type": "bar",
         "x": [
          "Guardians of the Galaxy"
         ],
         "xaxis": "x",
         "y": {
          "bdata": "LuEVayRR5j8=",
          "dtype": "f8"
         },
         "yaxis": "y"
        },
        {
         "hovertemplate": "Movie Title=%{x}<br>Weighted Popularity Score=%{y}<extra></extra>",
         "legendgroup": "Deadpool",
         "marker": {
          "color": "#ab63fa",
          "pattern": {
           "shape": ""
          }
         },
         "name": "Deadpool",
         "orientation": "v",
         "showlegend": true,
         "textposition": "auto",
         "type": "bar",
         "x": [
          "Deadpool"
         ],
         "xaxis": "x",
         "y": {
          "bdata": "FTQkL0m55D8=",
          "dtype": "f8"
         },
         "yaxis": "y"
        },
        {
         "hovertemplate": "Movie Title=%{x}<br>Weighted Popularity Score=%{y}<extra></extra>",
         "legendgroup": "The Dark Knight",
         "marker": {
          "color": "#FFA15A",
          "pattern": {
           "shape": ""
          }
         },
         "name": "The Dark Knight",
         "orientation": "v",
         "showlegend": true,
         "textposition": "auto",
         "type": "bar",
         "x": [
          "The Dark Knight"
         ],
         "xaxis": "x",
         "y": {
          "bdata": "yDvCQwGh4j8=",
          "dtype": "f8"
         },
         "yaxis": "y"
        },
        {
         "hovertemplate": "Movie Title=%{x}<br>Weighted Popularity Score=%{y}<extra></extra>",
         "legendgroup": "The Shawshank Redemption",
         "marker": {
          "color": "#19d3f3",
          "pattern": {
           "shape": ""
          }
         },
         "name": "The Shawshank Redemption",
         "orientation": "v",
         "showlegend": true,
         "textposition": "auto",
         "type": "bar",
         "x": [
          "The Shawshank Redemption"
         ],
         "xaxis": "x",
         "y": {
          "bdata": "VQop+Fp44j8=",
          "dtype": "f8"
         },
         "yaxis": "y"
        },
        {
         "hovertemplate": "Movie Title=%{x}<br>Weighted Popularity Score=%{y}<extra></extra>",
         "legendgroup": "Mad Max: Fury Road",
         "marker": {
          "color": "#FF6692",
          "pattern": {
           "shape": ""
          }
         },
         "name": "Mad Max: Fury Road",
         "orientation": "v",
         "showlegend": true,
         "textposition": "auto",
         "type": "bar",
         "x": [
          "Mad Max: Fury Road"
         ],
         "xaxis": "x",
         "y": {
          "bdata": "0AUDrQIw4j8=",
          "dtype": "f8"
         },
         "yaxis": "y"
        },
        {
         "hovertemplate": "Movie Title=%{x}<br>Weighted Popularity Score=%{y}<extra></extra>",
         "legendgroup": "Fight Club",
         "marker": {
          "color": "#B6E880",
          "pattern": {
           "shape": ""
          }
         },
         "name": "Fight Club",
         "orientation": "v",
         "showlegend": true,
         "textposition": "auto",
         "type": "bar",
         "x": [
          "Fight Club"
         ],
         "xaxis": "x",
         "y": {
          "bdata": "Jg3po/z94T8=",
          "dtype": "f8"
         },
         "yaxis": "y"
        },
        {
         "hovertemplate": "Movie Title=%{x}<br>Weighted Popularity Score=%{y}<extra></extra>",
         "legendgroup": "Inception",
         "marker": {
          "color": "#FF97FF",
          "pattern": {
           "shape": ""
          }
         },
         "name": "Inception",
         "orientation": "v",
         "showlegend": true,
         "textposition": "auto",
         "type": "bar",
         "x": [
          "Inception"
         ],
         "xaxis": "x",
         "y": {
          "bdata": "nHHvglz04T8=",
          "dtype": "f8"
         },
         "yaxis": "y"
        },
        {
         "hovertemplate": "Movie Title=%{x}<br>Weighted Popularity Score=%{y}<extra></extra>",
         "legendgroup": "The Godfather",
         "marker": {
          "color": "#FECB52",
          "pattern": {
           "shape": ""
          }
         },
         "name": "The Godfather",
         "orientation": "v",
         "showlegend": true,
         "textposition": "auto",
         "type": "bar",
         "x": [
          "The Godfather"
         ],
         "xaxis": "x",
         "y": {
          "bdata": "VpFTmVZz4T8=",
          "dtype": "f8"
         },
         "yaxis": "y"
        }
       ],
       "layout": {
        "barmode": "relative",
        "height": 500,
        "legend": {
         "title": {
          "text": "Movie Title"
         },
         "tracegroupgap": 0
        },
        "template": {
         "data": {
          "bar": [
           {
            "error_x": {
             "color": "#2a3f5f"
            },
            "error_y": {
             "color": "#2a3f5f"
            },
            "marker": {
             "line": {
              "color": "#E5ECF6",
              "width": 0.5
             },
             "pattern": {
              "fillmode": "overlay",
              "size": 10,
              "solidity": 0.2
             }
            },
            "type": "bar"
           }
          ],
          "barpolar": [
           {
            "marker": {
             "line": {
              "color": "#E5ECF6",
              "width": 0.5
             },
             "pattern": {
              "fillmode": "overlay",
              "size": 10,
              "solidity": 0.2
             }
            },
            "type": "barpolar"
           }
          ],
          "carpet": [
           {
            "aaxis": {
             "endlinecolor": "#2a3f5f",
             "gridcolor": "white",
             "linecolor": "white",
             "minorgridcolor": "white",
             "startlinecolor": "#2a3f5f"
            },
            "baxis": {
             "endlinecolor": "#2a3f5f",
             "gridcolor": "white",
             "linecolor": "white",
             "minorgridcolor": "white",
             "startlinecolor": "#2a3f5f"
            },
            "type": "carpet"
           }
          ],
          "choropleth": [
           {
            "colorbar": {
             "outlinewidth": 0,
             "ticks": ""
            },
            "type": "choropleth"
           }
          ],
          "contour": [
           {
            "colorbar": {
             "outlinewidth": 0,
             "ticks": ""
            },
            "colorscale": [
             [
              0,
              "#0d0887"
             ],
             [
              0.1111111111111111,
              "#46039f"
             ],
             [
              0.2222222222222222,
              "#7201a8"
             ],
             [
              0.3333333333333333,
              "#9c179e"
             ],
             [
              0.4444444444444444,
              "#bd3786"
             ],
             [
              0.5555555555555556,
              "#d8576b"
             ],
             [
              0.6666666666666666,
              "#ed7953"
             ],
             [
              0.7777777777777778,
              "#fb9f3a"
             ],
             [
              0.8888888888888888,
              "#fdca26"
             ],
             [
              1,
              "#f0f921"
             ]
            ],
            "type": "contour"
           }
          ],
          "contourcarpet": [
           {
            "colorbar": {
             "outlinewidth": 0,
             "ticks": ""
            },
            "type": "contourcarpet"
           }
          ],
          "heatmap": [
           {
            "colorbar": {
             "outlinewidth": 0,
             "ticks": ""
            },
            "colorscale": [
             [
              0,
              "#0d0887"
             ],
             [
              0.1111111111111111,
              "#46039f"
             ],
             [
              0.2222222222222222,
              "#7201a8"
             ],
             [
              0.3333333333333333,
              "#9c179e"
             ],
             [
              0.4444444444444444,
              "#bd3786"
             ],
             [
              0.5555555555555556,
              "#d8576b"
             ],
             [
              0.6666666666666666,
              "#ed7953"
             ],
             [
              0.7777777777777778,
              "#fb9f3a"
             ],
             [
              0.8888888888888888,
              "#fdca26"
             ],
             [
              1,
              "#f0f921"
             ]
            ],
            "type": "heatmap"
           }
          ],
          "histogram": [
           {
            "marker": {
             "pattern": {
              "fillmode": "overlay",
              "size": 10,
              "solidity": 0.2
             }
            },
            "type": "histogram"
           }
          ],
          "histogram2d": [
           {
            "colorbar": {
             "outlinewidth": 0,
             "ticks": ""
            },
            "colorscale": [
             [
              0,
              "#0d0887"
             ],
             [
              0.1111111111111111,
              "#46039f"
             ],
             [
              0.2222222222222222,
              "#7201a8"
             ],
             [
              0.3333333333333333,
              "#9c179e"
             ],
             [
              0.4444444444444444,
              "#bd3786"
             ],
             [
              0.5555555555555556,
              "#d8576b"
             ],
             [
              0.6666666666666666,
              "#ed7953"
             ],
             [
              0.7777777777777778,
              "#fb9f3a"
             ],
             [
              0.8888888888888888,
              "#fdca26"
             ],
             [
              1,
              "#f0f921"
             ]
            ],
            "type": "histogram2d"
           }
          ],
          "histogram2dcontour": [
           {
            "colorbar": {
             "outlinewidth": 0,
             "ticks": ""
            },
            "colorscale": [
             [
              0,
              "#0d0887"
             ],
             [
              0.1111111111111111,
              "#46039f"
             ],
             [
              0.2222222222222222,
              "#7201a8"
             ],
             [
              0.3333333333333333,
              "#9c179e"
             ],
             [
              0.4444444444444444,
              "#bd3786"
             ],
             [
              0.5555555555555556,
              "#d8576b"
             ],
             [
              0.6666666666666666,
              "#ed7953"
             ],
             [
              0.7777777777777778,
              "#fb9f3a"
             ],
             [
              0.8888888888888888,
              "#fdca26"
             ],
             [
              1,
              "#f0f921"
             ]
            ],
            "type": "histogram2dcontour"
           }
          ],
          "mesh3d": [
           {
            "colorbar": {
             "outlinewidth": 0,
             "ticks": ""
            },
            "type": "mesh3d"
           }
          ],
          "parcoords": [
           {
            "line": {
             "colorbar": {
              "outlinewidth": 0,
              "ticks": ""
             }
            },
            "type": "parcoords"
           }
          ],
          "pie": [
           {
            "automargin": true,
            "type": "pie"
           }
          ],
          "scatter": [
           {
            "fillpattern": {
             "fillmode": "overlay",
             "size": 10,
             "solidity": 0.2
            },
            "type": "scatter"
           }
          ],
          "scatter3d": [
           {
            "line": {
             "colorbar": {
              "outlinewidth": 0,
              "ticks": ""
             }
            },
            "marker": {
             "colorbar": {
              "outlinewidth": 0,
              "ticks": ""
             }
            },
            "type": "scatter3d"
           }
          ],
          "scattercarpet": [
           {
            "marker": {
             "colorbar": {
              "outlinewidth": 0,
              "ticks": ""
             }
            },
            "type": "scattercarpet"
           }
          ],
          "scattergeo": [
           {
            "marker": {
             "colorbar": {
              "outlinewidth": 0,
              "ticks": ""
             }
            },
            "type": "scattergeo"
           }
          ],
          "scattergl": [
           {
            "marker": {
             "colorbar": {
              "outlinewidth": 0,
              "ticks": ""
             }
            },
            "type": "scattergl"
           }
          ],
          "scattermap": [
           {
            "marker": {
             "colorbar": {
              "outlinewidth": 0,
              "ticks": ""
             }
            },
            "type": "scattermap"
           }
          ],
          "scattermapbox": [
           {
            "marker": {
             "colorbar": {
              "outlinewidth": 0,
              "ticks": ""
             }
            },
            "type": "scattermapbox"
           }
          ],
          "scatterpolar": [
           {
            "marker": {
             "colorbar": {
              "outlinewidth": 0,
              "ticks": ""
             }
            },
            "type": "scatterpolar"
           }
          ],
          "scatterpolargl": [
           {
            "marker": {
             "colorbar": {
              "outlinewidth": 0,
              "ticks": ""
             }
            },
            "type": "scatterpolargl"
           }
          ],
          "scatterternary": [
           {
            "marker": {
             "colorbar": {
              "outlinewidth": 0,
              "ticks": ""
             }
            },
            "type": "scatterternary"
           }
          ],
          "surface": [
           {
            "colorbar": {
             "outlinewidth": 0,
             "ticks": ""
            },
            "colorscale": [
             [
              0,
              "#0d0887"
             ],
             [
              0.1111111111111111,
              "#46039f"
             ],
             [
              0.2222222222222222,
              "#7201a8"
             ],
             [
              0.3333333333333333,
              "#9c179e"
             ],
             [
              0.4444444444444444,
              "#bd3786"
             ],
             [
              0.5555555555555556,
              "#d8576b"
             ],
             [
              0.6666666666666666,
              "#ed7953"
             ],
             [
              0.7777777777777778,
              "#fb9f3a"
             ],
             [
              0.8888888888888888,
              "#fdca26"
             ],
             [
              1,
              "#f0f921"
             ]
            ],
            "type": "surface"
           }
          ],
          "table": [
           {
            "cells": {
             "fill": {
              "color": "#EBF0F8"
             },
             "line": {
              "color": "white"
             }
            },
            "header": {
             "fill": {
              "color": "#C8D4E3"
             },
             "line": {
              "color": "white"
             }
            },
            "type": "table"
           }
          ]
         },
         "layout": {
          "annotationdefaults": {
           "arrowcolor": "#2a3f5f",
           "arrowhead": 0,
           "arrowwidth": 1
          },
          "autotypenumbers": "strict",
          "coloraxis": {
           "colorbar": {
            "outlinewidth": 0,
            "ticks": ""
           }
          },
          "colorscale": {
           "diverging": [
            [
             0,
             "#8e0152"
            ],
            [
             0.1,
             "#c51b7d"
            ],
            [
             0.2,
             "#de77ae"
            ],
            [
             0.3,
             "#f1b6da"
            ],
            [
             0.4,
             "#fde0ef"
            ],
            [
             0.5,
             "#f7f7f7"
            ],
            [
             0.6,
             "#e6f5d0"
            ],
            [
             0.7,
             "#b8e186"
            ],
            [
             0.8,
             "#7fbc41"
            ],
            [
             0.9,
             "#4d9221"
            ],
            [
             1,
             "#276419"
            ]
           ],
           "sequential": [
            [
             0,
             "#0d0887"
            ],
            [
             0.1111111111111111,
             "#46039f"
            ],
            [
             0.2222222222222222,
             "#7201a8"
            ],
            [
             0.3333333333333333,
             "#9c179e"
            ],
            [
             0.4444444444444444,
             "#bd3786"
            ],
            [
             0.5555555555555556,
             "#d8576b"
            ],
            [
             0.6666666666666666,
             "#ed7953"
            ],
            [
             0.7777777777777778,
             "#fb9f3a"
            ],
            [
             0.8888888888888888,
             "#fdca26"
            ],
            [
             1,
             "#f0f921"
            ]
           ],
           "sequentialminus": [
            [
             0,
             "#0d0887"
            ],
            [
             0.1111111111111111,
             "#46039f"
            ],
            [
             0.2222222222222222,
             "#7201a8"
            ],
            [
             0.3333333333333333,
             "#9c179e"
            ],
            [
             0.4444444444444444,
             "#bd3786"
            ],
            [
             0.5555555555555556,
             "#d8576b"
            ],
            [
             0.6666666666666666,
             "#ed7953"
            ],
            [
             0.7777777777777778,
             "#fb9f3a"
            ],
            [
             0.8888888888888888,
             "#fdca26"
            ],
            [
             1,
             "#f0f921"
            ]
           ]
          },
          "colorway": [
           "#636efa",
           "#EF553B",
           "#00cc96",
           "#ab63fa",
           "#FFA15A",
           "#19d3f3",
           "#FF6692",
           "#B6E880",
           "#FF97FF",
           "#FECB52"
          ],
          "font": {
           "color": "#2a3f5f"
          },
          "geo": {
           "bgcolor": "white",
           "lakecolor": "white",
           "landcolor": "#E5ECF6",
           "showlakes": true,
           "showland": true,
           "subunitcolor": "white"
          },
          "hoverlabel": {
           "align": "left"
          },
          "hovermode": "closest",
          "mapbox": {
           "style": "light"
          },
          "paper_bgcolor": "white",
          "plot_bgcolor": "#E5ECF6",
          "polar": {
           "angularaxis": {
            "gridcolor": "white",
            "linecolor": "white",
            "ticks": ""
           },
           "bgcolor": "#E5ECF6",
           "radialaxis": {
            "gridcolor": "white",
            "linecolor": "white",
            "ticks": ""
           }
          },
          "scene": {
           "xaxis": {
            "backgroundcolor": "#E5ECF6",
            "gridcolor": "white",
            "gridwidth": 2,
            "linecolor": "white",
            "showbackground": true,
            "ticks": "",
            "zerolinecolor": "white"
           },
           "yaxis": {
            "backgroundcolor": "#E5ECF6",
            "gridcolor": "white",
            "gridwidth": 2,
            "linecolor": "white",
            "showbackground": true,
            "ticks": "",
            "zerolinecolor": "white"
           },
           "zaxis": {
            "backgroundcolor": "#E5ECF6",
            "gridcolor": "white",
            "gridwidth": 2,
            "linecolor": "white",
            "showbackground": true,
            "ticks": "",
            "zerolinecolor": "white"
           }
          },
          "shapedefaults": {
           "line": {
            "color": "#2a3f5f"
           }
          },
          "ternary": {
           "aaxis": {
            "gridcolor": "white",
            "linecolor": "white",
            "ticks": ""
           },
           "baxis": {
            "gridcolor": "white",
            "linecolor": "white",
            "ticks": ""
           },
           "bgcolor": "#E5ECF6",
           "caxis": {
            "gridcolor": "white",
            "linecolor": "white",
            "ticks": ""
           }
          },
          "title": {
           "x": 0.05
          },
          "xaxis": {
           "automargin": true,
           "gridcolor": "white",
           "linecolor": "white",
           "ticks": "",
           "title": {
            "standoff": 15
           },
           "zerolinecolor": "white",
           "zerolinewidth": 2
          },
          "yaxis": {
           "automargin": true,
           "gridcolor": "white",
           "linecolor": "white",
           "ticks": "",
           "title": {
            "standoff": 15
           },
           "zerolinecolor": "white",
           "zerolinewidth": 2
          }
         }
        },
        "title": {
         "text": "Top 10 Movies by Weighted Popularity"
        },
        "width": 1200,
        "xaxis": {
         "anchor": "y",
         "categoryarray": [
          "Interstellar",
          "Minions",
          "Guardians of the Galaxy",
          "Deadpool",
          "The Dark Knight",
          "The Shawshank Redemption",
          "Mad Max: Fury Road",
          "Fight Club",
          "Inception",
          "The Godfather"
         ],
         "categoryorder": "array",
         "domain": [
          0,
          1
         ],
         "title": {
          "text": "Movie Title"
         }
        },
        "yaxis": {
         "anchor": "x",
         "domain": [
          0,
          1
         ],
         "title": {
          "text": "Weighted Popularity Score"
         }
        }
       }
      }
     },
     "metadata": {},
     "output_type": "display_data"
    }
   ],
   "source": [
    "px.bar(\n",
    "    popularity_sorted.head(10),\n",
    "    x=\"original_title\",\n",
    "    y=\"score_mix\",\n",
    "    labels={\n",
    "        \"original_title\": \"Movie Title\",\n",
    "        \"score_mix\": \"Weighted Popularity Score\",\n",
    "    },\n",
    "    title=\"Top 10 Movies by Weighted Popularity\",\n",
    "    width=1200,\n",
    "    height=500,\n",
    "    color=\"original_title\",\n",
    ")"
   ]
  }
 ],
 "metadata": {
  "kernelspec": {
   "display_name": ".venv (3.12.2)",
   "language": "python",
   "name": "python3"
  },
  "language_info": {
   "codemirror_mode": {
    "name": "ipython",
    "version": 3
   },
   "file_extension": ".py",
   "mimetype": "text/x-python",
   "name": "python",
   "nbconvert_exporter": "python",
   "pygments_lexer": "ipython3",
   "version": "3.12.2"
  }
 },
 "nbformat": 4,
 "nbformat_minor": 5
}
